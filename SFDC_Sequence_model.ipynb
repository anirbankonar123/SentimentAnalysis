{
 "cells": [
  {
   "cell_type": "markdown",
   "metadata": {},
   "source": [
    "# This notebook performs Predictive Modeling on the Salesforce Case data. The case description is used to predict Reason code, using Supervised learning approach with n-gram TF-IDF vectors as input and two approaches : a. Multinomial Naive Bayes, b. Feed-forward neural network,  as the predictive model. Accuracy achieved is 87% with Multinomial Naive Bayes and 80% with Feed Forward Neural Network"
   ]
  },
  {
   "cell_type": "code",
   "execution_count": 1,
   "metadata": {},
   "outputs": [],
   "source": [
    "import os\n",
    "import random\n",
    "\n",
    "import numpy as np\n",
    "import pandas as pd"
   ]
  },
  {
   "cell_type": "markdown",
   "metadata": {},
   "source": [
    "# We read from the salesforce export data and check the first few rows"
   ]
  },
  {
   "cell_type": "code",
   "execution_count": 2,
   "metadata": {},
   "outputs": [
    {
     "data": {
      "text/html": [
       "<div>\n",
       "<style scoped>\n",
       "    .dataframe tbody tr th:only-of-type {\n",
       "        vertical-align: middle;\n",
       "    }\n",
       "\n",
       "    .dataframe tbody tr th {\n",
       "        vertical-align: top;\n",
       "    }\n",
       "\n",
       "    .dataframe thead th {\n",
       "        text-align: right;\n",
       "    }\n",
       "</style>\n",
       "<table border=\"1\" class=\"dataframe\">\n",
       "  <thead>\n",
       "    <tr style=\"text-align: right;\">\n",
       "      <th></th>\n",
       "      <th>Date</th>\n",
       "      <th>Subject*</th>\n",
       "      <th>Call Type</th>\n",
       "      <th>Assigned</th>\n",
       "      <th>Call Object Identifier</th>\n",
       "      <th>Call Recording</th>\n",
       "      <th>Case Number</th>\n",
       "      <th>Case Owner*</th>\n",
       "      <th>Case Subject</th>\n",
       "      <th>Case Status</th>\n",
       "      <th>Case Origin*</th>\n",
       "      <th>Reason*</th>\n",
       "      <th>Case Description</th>\n",
       "      <th>Count of Comments</th>\n",
       "      <th>Last Case Comment</th>\n",
       "      <th>Account Brand and Type</th>\n",
       "      <th>SAP ID</th>\n",
       "      <th>Account Name</th>\n",
       "      <th>Contact Name</th>\n",
       "    </tr>\n",
       "  </thead>\n",
       "  <tbody>\n",
       "    <tr>\n",
       "      <th>0</th>\n",
       "      <td>11/15/2017</td>\n",
       "      <td>Call 11/15/2017, 3:04:13 PM</td>\n",
       "      <td>Inbound</td>\n",
       "      <td>Debra Greenlee</td>\n",
       "      <td>104792934020171115</td>\n",
       "      <td>http://10.64.30.192:8091/?callid=1047929340</td>\n",
       "      <td>972606.0</td>\n",
       "      <td>Debra Greenlee</td>\n",
       "      <td>JDF credits</td>\n",
       "      <td>Closed</td>\n",
       "      <td>Phone</td>\n",
       "      <td>Credit</td>\n",
       "      <td>Valerie called about duplicate JDF credits on ...</td>\n",
       "      <td>1.0</td>\n",
       "      <td>Valerie called about duplicate JDF credits on ...</td>\n",
       "      <td>National - Dealer</td>\n",
       "      <td>1033841.0</td>\n",
       "      <td>MIDWAY CO-OP LURAY</td>\n",
       "      <td>Valerie Werthmann</td>\n",
       "    </tr>\n",
       "    <tr>\n",
       "      <th>1</th>\n",
       "      <td>6/7/2018</td>\n",
       "      <td>Call 6/7/2018, 8:27:51 AM</td>\n",
       "      <td>Inbound</td>\n",
       "      <td>Debra Greenlee</td>\n",
       "      <td>304737374990180607</td>\n",
       "      <td>http://10.64.30.192:8091/?callid=3047373749</td>\n",
       "      <td>1296323.0</td>\n",
       "      <td>Debra Greenlee</td>\n",
       "      <td>Farmflex Financing reversal</td>\n",
       "      <td>Closed</td>\n",
       "      <td>Phone</td>\n",
       "      <td>Credit</td>\n",
       "      <td>Lisa called entered in a farmflex invoice in e...</td>\n",
       "      <td>1.0</td>\n",
       "      <td>Lisa called entered in a farmflex invoice in e...</td>\n",
       "      <td>National - Dealer</td>\n",
       "      <td>3383451.0</td>\n",
       "      <td>GREENPOINT AG ALTHEIMER</td>\n",
       "      <td>Lisa Waddle</td>\n",
       "    </tr>\n",
       "    <tr>\n",
       "      <th>2</th>\n",
       "      <td>5/10/2018</td>\n",
       "      <td>Call 5/10/2018, 3:11:45 PM</td>\n",
       "      <td>Inbound</td>\n",
       "      <td>Debra Greenlee</td>\n",
       "      <td>304730318670180510</td>\n",
       "      <td>http://10.64.30.192:8091/?callid=3047303186</td>\n",
       "      <td>1267970.0</td>\n",
       "      <td>Debra Greenlee</td>\n",
       "      <td>New C3 user registration</td>\n",
       "      <td>Closed</td>\n",
       "      <td>Phone</td>\n",
       "      <td>Systems Support</td>\n",
       "      <td>Lisa Waddle needed assistance with registering...</td>\n",
       "      <td>1.0</td>\n",
       "      <td>Lisa Waddle needed assistance with registering...</td>\n",
       "      <td>National - Dealer</td>\n",
       "      <td>3383451.0</td>\n",
       "      <td>GREENPOINT AG ALTHEIMER</td>\n",
       "      <td>Lisa Waddle</td>\n",
       "    </tr>\n",
       "    <tr>\n",
       "      <th>3</th>\n",
       "      <td>3/7/2018</td>\n",
       "      <td>Call 3/7/2018, 2:34:32 PM</td>\n",
       "      <td>Inbound</td>\n",
       "      <td>Debra Greenlee</td>\n",
       "      <td>204726086060180307</td>\n",
       "      <td>http://10.64.30.192:8091/?callid=2047260860</td>\n",
       "      <td>1144423.0</td>\n",
       "      <td>Debra Greenlee</td>\n",
       "      <td>MyMonsanto Issue</td>\n",
       "      <td>Closed</td>\n",
       "      <td>Phone</td>\n",
       "      <td>Manage Customer Accounts</td>\n",
       "      <td>Rahul, Darrell Scott with SAP: 1032247 AGRI AF...</td>\n",
       "      <td>2.0</td>\n",
       "      <td>Darrell called trying access C3 User access to...</td>\n",
       "      <td>National - Dealer</td>\n",
       "      <td>1032247.0</td>\n",
       "      <td>AGRI AFC DECATUR</td>\n",
       "      <td>Darrell Scott</td>\n",
       "    </tr>\n",
       "    <tr>\n",
       "      <th>4</th>\n",
       "      <td>6/18/2018</td>\n",
       "      <td>Call 6/18/2018, 10:09:15 AM</td>\n",
       "      <td>Inbound</td>\n",
       "      <td>Debra Greenlee</td>\n",
       "      <td>304740583190180618</td>\n",
       "      <td>http://10.64.30.192:8091/?callid=3047405831</td>\n",
       "      <td>1305717.0</td>\n",
       "      <td>Debra Greenlee</td>\n",
       "      <td>Farmflex</td>\n",
       "      <td>Closed</td>\n",
       "      <td>Phone</td>\n",
       "      <td>Credit</td>\n",
       "      <td>Jennie looking for farmflex credit on three gr...</td>\n",
       "      <td>1.0</td>\n",
       "      <td>Jennie looking for farmflex credit on three gr...</td>\n",
       "      <td>National - Dealer</td>\n",
       "      <td>3623699.0</td>\n",
       "      <td>TALLAHATCHIE F S CHARLESTON</td>\n",
       "      <td>Jennie Mullen</td>\n",
       "    </tr>\n",
       "  </tbody>\n",
       "</table>\n",
       "</div>"
      ],
      "text/plain": [
       "         Date                     Subject* Call Type        Assigned  \\\n",
       "0  11/15/2017  Call 11/15/2017, 3:04:13 PM   Inbound  Debra Greenlee   \n",
       "1    6/7/2018    Call 6/7/2018, 8:27:51 AM   Inbound  Debra Greenlee   \n",
       "2   5/10/2018   Call 5/10/2018, 3:11:45 PM   Inbound  Debra Greenlee   \n",
       "3    3/7/2018    Call 3/7/2018, 2:34:32 PM   Inbound  Debra Greenlee   \n",
       "4   6/18/2018  Call 6/18/2018, 10:09:15 AM   Inbound  Debra Greenlee   \n",
       "\n",
       "  Call Object Identifier                               Call Recording  \\\n",
       "0     104792934020171115  http://10.64.30.192:8091/?callid=1047929340   \n",
       "1     304737374990180607  http://10.64.30.192:8091/?callid=3047373749   \n",
       "2     304730318670180510  http://10.64.30.192:8091/?callid=3047303186   \n",
       "3     204726086060180307  http://10.64.30.192:8091/?callid=2047260860   \n",
       "4     304740583190180618  http://10.64.30.192:8091/?callid=3047405831   \n",
       "\n",
       "   Case Number     Case Owner*                 Case Subject Case Status  \\\n",
       "0     972606.0  Debra Greenlee                  JDF credits      Closed   \n",
       "1    1296323.0  Debra Greenlee  Farmflex Financing reversal      Closed   \n",
       "2    1267970.0  Debra Greenlee     New C3 user registration      Closed   \n",
       "3    1144423.0  Debra Greenlee             MyMonsanto Issue      Closed   \n",
       "4    1305717.0  Debra Greenlee                     Farmflex      Closed   \n",
       "\n",
       "  Case Origin*                   Reason*  \\\n",
       "0        Phone                    Credit   \n",
       "1        Phone                    Credit   \n",
       "2        Phone           Systems Support   \n",
       "3        Phone  Manage Customer Accounts   \n",
       "4        Phone                    Credit   \n",
       "\n",
       "                                    Case Description  Count of Comments  \\\n",
       "0  Valerie called about duplicate JDF credits on ...                1.0   \n",
       "1  Lisa called entered in a farmflex invoice in e...                1.0   \n",
       "2  Lisa Waddle needed assistance with registering...                1.0   \n",
       "3  Rahul, Darrell Scott with SAP: 1032247 AGRI AF...                2.0   \n",
       "4  Jennie looking for farmflex credit on three gr...                1.0   \n",
       "\n",
       "                                   Last Case Comment Account Brand and Type  \\\n",
       "0  Valerie called about duplicate JDF credits on ...      National - Dealer   \n",
       "1  Lisa called entered in a farmflex invoice in e...      National - Dealer   \n",
       "2  Lisa Waddle needed assistance with registering...      National - Dealer   \n",
       "3  Darrell called trying access C3 User access to...      National - Dealer   \n",
       "4  Jennie looking for farmflex credit on three gr...      National - Dealer   \n",
       "\n",
       "      SAP ID                 Account Name       Contact Name  \n",
       "0  1033841.0           MIDWAY CO-OP LURAY  Valerie Werthmann  \n",
       "1  3383451.0      GREENPOINT AG ALTHEIMER        Lisa Waddle  \n",
       "2  3383451.0      GREENPOINT AG ALTHEIMER        Lisa Waddle  \n",
       "3  1032247.0             AGRI AFC DECATUR      Darrell Scott  \n",
       "4  3623699.0  TALLAHATCHIE F S CHARLESTON      Jennie Mullen  "
      ]
     },
     "execution_count": 2,
     "metadata": {},
     "output_type": "execute_result"
    }
   ],
   "source": [
    "sfdc_data = pd.read_csv('C:/Users/GCNDP/SFDC.csv')\n",
    "sfdc_data.head()"
   ]
  },
  {
   "cell_type": "markdown",
   "metadata": {},
   "source": [
    "# We check the Reason codes and their counts in the data, since our main goal is to classify a Case into its correct Reason code"
   ]
  },
  {
   "cell_type": "code",
   "execution_count": 3,
   "metadata": {},
   "outputs": [
    {
     "data": {
      "text/plain": [
       "Delivery/Shipments          70\n",
       "Systems Support             50\n",
       "Returns                     30\n",
       "Credit                      21\n",
       "Refusals                    14\n",
       "Programs/Compensation       11\n",
       "Manage Customer Accounts    11\n",
       "Invoice                      8\n",
       "Accounts Receivable          7\n",
       "Compliance                   7\n",
       "Quality Of Service           6\n",
       "Order Management             6\n",
       "Inventory                    4\n",
       "Other                        3\n",
       "Claims                       2\n",
       "Transfers/Swaps              2\n",
       "Product                      2\n",
       "Collection                   1\n",
       "Pricing                      1\n",
       "Manage Sales partner         1\n",
       "Name: Reason*, dtype: int64"
      ]
     },
     "execution_count": 3,
     "metadata": {},
     "output_type": "execute_result"
    }
   ],
   "source": [
    "sfdc_data['Reason*'].value_counts()"
   ]
  },
  {
   "cell_type": "code",
   "execution_count": 4,
   "metadata": {},
   "outputs": [
    {
     "data": {
      "text/plain": [
       "National - Dealer     120\n",
       "Hubner - Dealer        75\n",
       "Specialty - Dealer     23\n",
       "Hubner - Grower        12\n",
       "Channel - Dealer        7\n",
       "- Dealer                5\n",
       "Specialty - Grower      5\n",
       "Jung - Dealer           2\n",
       "Stone - Dealer          2\n",
       "National - Grower       1\n",
       "Stewart - Dealer        1\n",
       "REA - Dealer            1\n",
       "WestBred - Grower       1\n",
       "Lewis - Grower          1\n",
       "Kruger - Grower         1\n",
       "Name: Account Brand and Type, dtype: int64"
      ]
     },
     "execution_count": 4,
     "metadata": {},
     "output_type": "execute_result"
    }
   ],
   "source": [
    "sfdc_data['Account Brand and Type'].value_counts()"
   ]
  },
  {
   "cell_type": "code",
   "execution_count": 5,
   "metadata": {},
   "outputs": [
    {
     "data": {
      "text/plain": [
       "Closed         254\n",
       "In Progress      3\n",
       "Name: Case Status, dtype: int64"
      ]
     },
     "execution_count": 5,
     "metadata": {},
     "output_type": "execute_result"
    }
   ],
   "source": [
    "sfdc_data['Case Status'].value_counts()"
   ]
  },
  {
   "cell_type": "code",
   "execution_count": 6,
   "metadata": {},
   "outputs": [
    {
     "data": {
      "text/plain": [
       "Outbound    151\n",
       "Inbound     106\n",
       "Name: Call Type, dtype: int64"
      ]
     },
     "execution_count": 6,
     "metadata": {},
     "output_type": "execute_result"
    }
   ],
   "source": [
    "sfdc_data['Call Type'].value_counts()"
   ]
  },
  {
   "cell_type": "markdown",
   "metadata": {},
   "source": [
    "# We filter out the five dominant reason codes for our analysis"
   ]
  },
  {
   "cell_type": "code",
   "execution_count": 7,
   "metadata": {},
   "outputs": [],
   "source": [
    "#We take the four dominant reason codes\n",
    "sfdc_data.rename(columns={'Reason*': 'Reason'}, inplace=True)\n",
    "Reasons=['Delivery/Shipments','Systems Support','Returns','Credit','Refusals']\n",
    "sfdc_data_filtered=pd.DataFrame(sfdc_data.loc[sfdc_data['Reason'].isin(Reasons)])\n",
    "\n",
    "#reindex the filtered data\n",
    "sfdc_data_filtered = sfdc_data_filtered.reset_index(drop = True)\n"
   ]
  },
  {
   "cell_type": "code",
   "execution_count": 8,
   "metadata": {},
   "outputs": [
    {
     "data": {
      "text/plain": [
       "Delivery/Shipments    70\n",
       "Systems Support       50\n",
       "Returns               30\n",
       "Credit                21\n",
       "Refusals              14\n",
       "Name: Reason, dtype: int64"
      ]
     },
     "execution_count": 8,
     "metadata": {},
     "output_type": "execute_result"
    }
   ],
   "source": [
    "sfdc_data_filtered['Reason'].value_counts()"
   ]
  },
  {
   "cell_type": "markdown",
   "metadata": {},
   "source": [
    "# We assign a numeric code to each of these Reason codes, as given here"
   ]
  },
  {
   "cell_type": "code",
   "execution_count": 9,
   "metadata": {},
   "outputs": [],
   "source": [
    "sfdc_data_filtered.loc[(sfdc_data_filtered['Reason']=='Delivery/Shipments'),'label']='0'\n",
    "sfdc_data_filtered.loc[(sfdc_data_filtered['Reason']=='Systems Support'),'label']='1'\n",
    "sfdc_data_filtered.loc[(sfdc_data_filtered['Reason']=='Returns'),'label']='2'\n",
    "sfdc_data_filtered.loc[(sfdc_data_filtered['Reason']=='Credit'),'label']='3'\n",
    "sfdc_data_filtered.loc[(sfdc_data_filtered['Reason']=='Refusals'),'label']='4'"
   ]
  },
  {
   "cell_type": "code",
   "execution_count": 10,
   "metadata": {},
   "outputs": [
    {
     "data": {
      "text/plain": [
       "0    70\n",
       "1    50\n",
       "2    30\n",
       "3    21\n",
       "4    14\n",
       "Name: label, dtype: int64"
      ]
     },
     "execution_count": 10,
     "metadata": {},
     "output_type": "execute_result"
    }
   ],
   "source": [
    "sfdc_data_filtered['label'].value_counts()"
   ]
  },
  {
   "cell_type": "code",
   "execution_count": 11,
   "metadata": {},
   "outputs": [],
   "source": [
    "import numpy as np\n",
    "import matplotlib.pyplot as plt\n",
    "\n",
    "from collections import Counter\n",
    "from sklearn.feature_extraction.text import CountVectorizer\n",
    "\n",
    "\n",
    "def plot_frequency_distribution_of_ngrams(sample_texts,\n",
    "                                          ngram_range=(1, 2),\n",
    "                                          num_ngrams=50):\n",
    "    \"\"\"Plots the frequency distribution of n-grams.\n",
    "\n",
    "    # Arguments\n",
    "        samples_texts: list, sample texts.\n",
    "        ngram_range: tuple (min, mplt), The range of n-gram values to consider.\n",
    "            Min and mplt are the lower and upper bound values for the range.\n",
    "        num_ngrams: int, number of n-grams to plot.\n",
    "            Top `num_ngrams` frequent n-grams will be plotted.\n",
    "    \"\"\"\n",
    "    # Create args required for vectorizing.\n",
    "    kwargs = {\n",
    "            'ngram_range': (1, 2),\n",
    "            'dtype': 'int32',\n",
    "            'strip_accents': 'unicode',\n",
    "            'decode_error': 'replace',\n",
    "            'analyzer': 'word',  # Split text into word tokens.\n",
    "    }\n",
    "    vectorizer = CountVectorizer(**kwargs)\n",
    "\n",
    "    # This creates a vocabulary (dict, where keys are n-grams and values are\n",
    "    # idxices). This also converts every text to an array the length of\n",
    "    # vocabulary, where every element idxicates the count of the n-gram\n",
    "    # corresponding at that idxex in vocabulary.\n",
    "    vectorized_texts = vectorizer.fit_transform(sample_texts)\n",
    "\n",
    "    # This is the list of all n-grams in the index order from the vocabulary.\n",
    "    all_ngrams = list(vectorizer.get_feature_names())\n",
    "    num_ngrams = min(num_ngrams, len(all_ngrams))\n",
    "    # ngrams = all_ngrams[:num_ngrams]\n",
    "\n",
    "    # Add up the counts per n-gram ie. column-wise\n",
    "    all_counts = vectorized_texts.sum(axis=0).tolist()[0]\n",
    "\n",
    "    # Sort n-grams and counts by frequency and get top `num_ngrams` ngrams.\n",
    "    all_counts, all_ngrams = zip(*[(c, n) for c, n in sorted(\n",
    "        zip(all_counts, all_ngrams), reverse=True)])\n",
    "    ngrams = list(all_ngrams)[:num_ngrams]\n",
    "    counts = list(all_counts)[:num_ngrams]\n",
    "\n",
    "    idx = np.arange(num_ngrams)\n",
    "    \n",
    "\n",
    "    plt.figure(figsize=(20, 3))  # width:20, height:3\n",
    "    plt.bar(idx, counts, width=0.8, color='b')\n",
    "    plt.xlabel('N-grams')\n",
    "    plt.ylabel('Frequencies')\n",
    "    #plt.axis([0,20,0,160])\n",
    "    plt.title('Frequency distribution of n-grams')\n",
    "    plt.xticks(idx, ngrams, rotation=45)\n",
    "    plt.show()\n",
    "\n",
    "\n",
    "def plot_sample_length_distribution(sample_texts):\n",
    "    \"\"\"Plots the sample length distribution.\n",
    "\n",
    "    # Arguments\n",
    "        samples_texts: list, sample texts.\n",
    "    \"\"\"\n",
    "    plt.hist([len(s) for s in sample_texts], 50)\n",
    "    plt.xlabel('Length of a sample')\n",
    "    plt.ylabel('Number of samples')\n",
    "    plt.title('Sample length distribution')\n",
    "    plt.show()\n",
    "\n",
    "\n",
    "def plot_class_distribution(labels):\n",
    "    \"\"\"Plots the class distribution.\n",
    "\n",
    "    # Arguments\n",
    "        labels: list, label values.\n",
    "            There should be at lease one sample for values in the\n",
    "            range (0, num_classes -1)\n",
    "    \"\"\"\n",
    "    num_classes = get_num_classes(labels)\n",
    "    count_map = Counter(labels)\n",
    "    counts = [count_map[i] for i in range(num_classes)]\n",
    "    idx = np.arange(num_classes)\n",
    "    plt.bar(idx, counts, width=0.8, color='b')\n",
    "    plt.xlabel('Class')\n",
    "    plt.ylabel('Number of samples')\n",
    "    plt.title('Class distribution')\n",
    "    plt.xticks(idx, idx)\n",
    "    plt.show()"
   ]
  },
  {
   "cell_type": "code",
   "execution_count": 12,
   "metadata": {},
   "outputs": [
    {
     "name": "stdout",
     "output_type": "stream",
     "text": [
      "Jennie looking for farmflex credit on three growers.\n"
     ]
    }
   ],
   "source": [
    "corpus = sfdc_data['Case Description'].astype(str)\n",
    "print(corpus[4])"
   ]
  },
  {
   "cell_type": "code",
   "execution_count": 13,
   "metadata": {},
   "outputs": [],
   "source": [
    "import re\n",
    "import nltk\n",
    "import string\n",
    "exclude = set(string.punctuation) \n",
    "wpt = nltk.WordPunctTokenizer()\n",
    "stop_words = nltk.corpus.stopwords.words('english')\n",
    "newStopWords = ['lb','j','df','jdf']\n",
    "stop_words.extend(newStopWords)\n",
    "table = str.maketrans('', '', string.punctuation)\n",
    "from nltk.stem.porter import PorterStemmer\n",
    "porter = PorterStemmer()\n",
    "\n",
    "def normalize_document(doc):\n",
    "    # lower case and remove special characters\\whitespaces\n",
    "   # doc = re.sub(r'[^a-zA-Z0-9\\s]', '', doc, re.I)\n",
    "   # doc = doc.lower()\n",
    "   # doc = doc.strip()\n",
    "    # tokenize document\n",
    "    tokens = doc.split()\n",
    "    # remove punctuation from each word\n",
    "    tokens = [w.translate(table) for w in tokens]\n",
    "    #wpt.tokenize(doc)\n",
    "    # convert to lower case\n",
    "    lower_tokens = [w.lower() for w in tokens]\n",
    "    #remove spaces\n",
    "    stripped = [w.strip() for w in lower_tokens]\n",
    "    # remove remaining tokens that are not alphabetic\n",
    "    words = [word for word in stripped if word.isalpha()]\n",
    "    # filter stopwords out of document\n",
    "    filtered_tokens = [token for token in words if token not in stop_words]\n",
    "    #apply Stemming\n",
    "    #stemmed = [porter.stem(word) for word in filtered_tokens]\n",
    "    # re-create document from filtered tokens\n",
    "    doc = ' '.join(filtered_tokens)\n",
    "    return doc\n",
    "\n",
    "normalize_corpus = np.vectorize(normalize_document)"
   ]
  },
  {
   "cell_type": "markdown",
   "metadata": {},
   "source": [
    "# We tokenize the Case Description and normalize the text by removing punctuation, spaces, stop words, leading and trailing blanks"
   ]
  },
  {
   "cell_type": "code",
   "execution_count": 14,
   "metadata": {},
   "outputs": [
    {
     "name": "stdout",
     "output_type": "stream",
     "text": [
      "pam called wanted know grower paid full farm flex winfield invoice\n"
     ]
    }
   ],
   "source": [
    "norm_corpus = normalize_corpus(corpus)\n",
    "print(norm_corpus[15])"
   ]
  },
  {
   "cell_type": "code",
   "execution_count": 15,
   "metadata": {},
   "outputs": [],
   "source": [
    "from nltk.tokenize import word_tokenize\n",
    "import string\n",
    "from nltk.corpus import stopwords\n",
    "stop_words = nltk.corpus.stopwords.words('english')\n",
    "newStopWords = ['lb','j','df','jdf']\n",
    "stop_words.extend(newStopWords)\n",
    "wpt = nltk.WordPunctTokenizer()\n",
    "\n",
    "def normalize_text(text):\n",
    "    tokens = word_tokenize(text)\n",
    "    # convert to lower case\n",
    "    tokens = [w.lower() for w in tokens]\n",
    "    # remove punctuation from each word\n",
    "    table = str.maketrans('', '', string.punctuation)\n",
    "    stripped = [w.translate(table) for w in tokens]\n",
    "    # remove remaining tokens that are not alphabetic\n",
    "    words = [word for word in stripped if word.isalpha()]\n",
    "    # filter out stop words\n",
    "    words = [w for w in words if not w in stop_words]\n",
    "    #print(words[:100])\n",
    "    doc = ' '.join(words)\n",
    "    return doc"
   ]
  },
  {
   "cell_type": "markdown",
   "metadata": {},
   "source": [
    "# We check the median number of words per sample row"
   ]
  },
  {
   "cell_type": "code",
   "execution_count": 16,
   "metadata": {},
   "outputs": [
    {
     "name": "stdout",
     "output_type": "stream",
     "text": [
      "263.0\n"
     ]
    }
   ],
   "source": [
    "#Median number of words per sample\n",
    "desc_text=sfdc_data['Case Description'].astype(str)\n",
    "num_words = [len(sfdc_data['Case Description'].astype(str).str.split()) for s in desc_text]\n",
    "print(np.median(num_words))"
   ]
  },
  {
   "cell_type": "markdown",
   "metadata": {},
   "source": [
    "# Plot of frequency distribution of n-grams in the Case Description text"
   ]
  },
  {
   "cell_type": "code",
   "execution_count": 17,
   "metadata": {},
   "outputs": [
    {
     "data": {
      "image/png": "[encoded data removed]",
      "text/plain": [
       "<Figure size 1440x216 with 1 Axes>"
      ]
     },
     "metadata": {},
     "output_type": "display_data"
    }
   ],
   "source": [
    "plot_frequency_distribution_of_ngrams(norm_corpus)"
   ]
  },
  {
   "cell_type": "markdown",
   "metadata": {},
   "source": [
    "# Plot of length distribution of Case Description"
   ]
  },
  {
   "cell_type": "code",
   "execution_count": 18,
   "metadata": {},
   "outputs": [
    {
     "data": {
      "image/png": "[encoded data removed]",
      "text/plain": [
       "<Figure size 432x288 with 1 Axes>"
      ]
     },
     "metadata": {},
     "output_type": "display_data"
    }
   ],
   "source": [
    "plot_sample_length_distribution(desc_text)"
   ]
  },
  {
   "cell_type": "markdown",
   "metadata": {},
   "source": [
    "# Plot of Reason code distribution in the Case log"
   ]
  },
  {
   "cell_type": "code",
   "execution_count": 19,
   "metadata": {},
   "outputs": [
    {
     "data": {
      "image/png": "[encoded data removed]",
      "text/plain": [
       "<Figure size 864x216 with 1 Axes>"
      ]
     },
     "metadata": {},
     "output_type": "display_data"
    }
   ],
   "source": [
    "num_classes = 5\n",
    "count_map = Counter(sfdc_data_filtered['label'])\n",
    "\n",
    "counts = count_map.values()\n",
    "\n",
    "[count_map[i] for i in range(num_classes)]\n",
    "idx = ['Delivery/Shipments','Systems Support','Returns','Credit','Refusals']\n",
    "\n",
    "plt.figure(figsize=(12, 3))  # width:20, height:3\n",
    "plt.bar(idx, counts, width=0.8, color='b')\n",
    "plt.xlabel('Class')\n",
    "plt.ylabel('Number of samples')\n",
    "plt.title('Class distribution')\n",
    "plt.xticks(idx, idx)\n",
    "plt.show()"
   ]
  },
  {
   "cell_type": "markdown",
   "metadata": {},
   "source": [
    "# We use StratifiedShuffleSplit to created train and test samples, and maintain same distribution of Reason codes in train and test set"
   ]
  },
  {
   "cell_type": "code",
   "execution_count": 20,
   "metadata": {},
   "outputs": [
    {
     "data": {
      "text/plain": [
       "0    0.378378\n",
       "1    0.270270\n",
       "2    0.162162\n",
       "3    0.113514\n",
       "4    0.075676\n",
       "Name: label, dtype: float64"
      ]
     },
     "execution_count": 20,
     "metadata": {},
     "output_type": "execute_result"
    }
   ],
   "source": [
    "#Distribution of reason codes in the filtered data\n",
    "sfdc_data_filtered[\"label\"].value_counts() / len(sfdc_data_filtered)"
   ]
  },
  {
   "cell_type": "code",
   "execution_count": 21,
   "metadata": {},
   "outputs": [],
   "source": [
    "#We use Stratifed Split to maintain the same distribution of Reason codes in Train and Test data\n",
    "from sklearn.model_selection import StratifiedShuffleSplit\n",
    "\n",
    "split = StratifiedShuffleSplit(n_splits=1,test_size=0.2,random_state=42)\n",
    "\n",
    "for train_index, test_index in split.split(sfdc_data_filtered,sfdc_data_filtered[\"label\"]):\n",
    "    strat_train_set = sfdc_data_filtered.iloc[train_index]\n",
    "    strat_test_set = sfdc_data_filtered.iloc[test_index]"
   ]
  },
  {
   "cell_type": "code",
   "execution_count": 22,
   "metadata": {},
   "outputs": [
    {
     "data": {
      "text/plain": [
       "0    0.378378\n",
       "1    0.270270\n",
       "2    0.162162\n",
       "3    0.114865\n",
       "4    0.074324\n",
       "Name: label, dtype: float64"
      ]
     },
     "execution_count": 22,
     "metadata": {},
     "output_type": "execute_result"
    }
   ],
   "source": [
    "#We see the train set has same distribution of reason codes as in original sample\n",
    "strat_train_set[\"label\"].value_counts() / len(strat_train_set)"
   ]
  },
  {
   "cell_type": "code",
   "execution_count": 23,
   "metadata": {},
   "outputs": [
    {
     "data": {
      "text/plain": [
       "0    0.378378\n",
       "1    0.270270\n",
       "2    0.162162\n",
       "3    0.108108\n",
       "4    0.081081\n",
       "Name: label, dtype: float64"
      ]
     },
     "execution_count": 23,
     "metadata": {},
     "output_type": "execute_result"
    }
   ],
   "source": [
    "#We see the test set has same distribution of reason codes as in original sample\n",
    "strat_test_set[\"label\"].value_counts() / len(strat_test_set)"
   ]
  },
  {
   "cell_type": "code",
   "execution_count": 24,
   "metadata": {},
   "outputs": [],
   "source": [
    "train_texts=strat_train_set['Case Description'].astype(str)\n",
    "train_labels=strat_train_set['label'].astype(str)\n",
    "train_texts=train_texts.reset_index(drop = True)\n",
    "train_labels=train_labels.reset_index(drop = True)"
   ]
  },
  {
   "cell_type": "markdown",
   "metadata": {},
   "source": [
    "# We print train and test texts, in the raw form"
   ]
  },
  {
   "cell_type": "code",
   "execution_count": 25,
   "metadata": {},
   "outputs": [
    {
     "name": "stdout",
     "output_type": "stream",
     "text": [
      "Getting Login ISA error on this account when he tries to access through My Monsanto. Per Winfield, no issue on the Connect-3 side. Contact dealer for additional info or screenshots.\n",
      "1\n",
      "148\n",
      "Please update bucket date in YLASPICK. Send to Laura Weigle when complete. 5007523318 5007523324 5007523325 5007523326 5007523364 5007523379 5007523390 5007523405 5007523416 5007523417 5007523444 5007523463\n"
     ]
    }
   ],
   "source": [
    "#We print some sample rows from train data, still the data is not in normalized form\n",
    "print(train_texts[0])\n",
    "print(train_labels[0])\n",
    "print(len(train_texts))\n",
    "print(train_texts[147])"
   ]
  },
  {
   "cell_type": "code",
   "execution_count": 26,
   "metadata": {},
   "outputs": [],
   "source": [
    "test_texts=strat_test_set['Case Description'].astype(str)\n",
    "test_texts=test_texts.reset_index(drop = True)\n",
    "test_labels=strat_test_set['label'].astype(str)\n",
    "test_labels=test_labels.reset_index(drop = True)"
   ]
  },
  {
   "cell_type": "code",
   "execution_count": 27,
   "metadata": {},
   "outputs": [
    {
     "name": "stdout",
     "output_type": "stream",
     "text": [
      "37\n",
      "Jamie, How does Winfield United service centers uses printed copies of invoices. and some (maybe) via paper. If your account needs to print paper copies ? can you explain how they use these copies? Does your account scan the invoice copies into their proprietary system and then use a program to complete auto matching to ?clear?? Or are they manually reconciling an invoice to a statement line? Help us understand their process as you know it. Your input will help credit and IT understand the functionality that is needed around printing multiple invoices.\n",
      "1\n",
      "Will is having issues accessing C3 to mymonsanto. I emulated Will with no C3 access issues. I will give Will a call.\n",
      "1\n"
     ]
    }
   ],
   "source": [
    "print(len(test_texts))\n",
    "print(test_texts[0])\n",
    "print(test_labels[0])\n",
    "print(test_texts[36])\n",
    "print(test_labels[36])"
   ]
  },
  {
   "cell_type": "markdown",
   "metadata": {},
   "source": [
    "# We normalize the train and test data"
   ]
  },
  {
   "cell_type": "code",
   "execution_count": 28,
   "metadata": {},
   "outputs": [
    {
     "name": "stdout",
     "output_type": "stream",
     "text": [
      "44x6; 46x6; 51x8 5007340229 40,990.000 LB PO# required for this transaction 760\n",
      "after normalization\n",
      "po required transaction\n"
     ]
    }
   ],
   "source": [
    "norm_train_texts = []\n",
    "for i in range (len(train_texts)):\n",
    "    norm_train_texts.append(normalize_text(train_texts[i]))\n",
    "\n",
    "print(train_texts[15])\n",
    "print(\"after normalization\")\n",
    "print(norm_train_texts[15])"
   ]
  },
  {
   "cell_type": "code",
   "execution_count": 29,
   "metadata": {},
   "outputs": [],
   "source": [
    "norm_test_texts = []\n",
    "for i in range (len(test_texts)):\n",
    "    norm_test_texts.append(normalize_text(test_texts[i]))"
   ]
  },
  {
   "cell_type": "code",
   "execution_count": 30,
   "metadata": {},
   "outputs": [
    {
     "name": "stdout",
     "output_type": "stream",
     "text": [
      "Jamie, How does Winfield United service centers uses printed copies of invoices. and some (maybe) via paper. If your account needs to print paper copies ? can you explain how they use these copies? Does your account scan the invoice copies into their proprietary system and then use a program to complete auto matching to ?clear?? Or are they manually reconciling an invoice to a statement line? Help us understand their process as you know it. Your input will help credit and IT understand the functionality that is needed around printing multiple invoices.\n",
      "after normalization\n",
      "jamie winfield united service centers uses printed copies invoices maybe via paper account needs print paper copies explain use copies account scan invoice copies proprietary system use program complete auto matching clear manually reconciling invoice statement line help us understand process know input help credit understand functionality needed around printing multiple invoices\n"
     ]
    }
   ],
   "source": [
    "print(test_texts[0])\n",
    "print(\"after normalization\")\n",
    "print(norm_test_texts[0])"
   ]
  },
  {
   "cell_type": "markdown",
   "metadata": {},
   "source": [
    "# We create a Sep CNN network model with final layer with 5 units to predict the reason codes"
   ]
  },
  {
   "cell_type": "code",
   "execution_count": 38,
   "metadata": {},
   "outputs": [],
   "source": [
    "from tensorflow.python.keras import models\n",
    "from tensorflow.python.keras import initializers\n",
    "from tensorflow.python.keras import regularizers\n",
    "\n",
    "from tensorflow.python.keras.layers import Dense\n",
    "from tensorflow.python.keras.layers import Dropout\n",
    "from tensorflow.python.keras.layers import Embedding\n",
    "from tensorflow.python.keras.layers import SeparableConv1D\n",
    "from tensorflow.python.keras.layers import MaxPooling1D\n",
    "from tensorflow.python.keras.layers import GlobalAveragePooling1D\n",
    "\n",
    "\n",
    "def sepcnn_model(blocks,\n",
    "                 filters,\n",
    "                 kernel_size,\n",
    "                 embedding_dim,\n",
    "                 dropout_rate,\n",
    "                 pool_size,\n",
    "                 input_shape,\n",
    "                 num_classes,\n",
    "                 num_features,\n",
    "                 use_pretrained_embedding=False,\n",
    "                 is_embedding_trainable=False,\n",
    "                 embedding_matrix=None):\n",
    "    \"\"\"Creates an instance of a separable CNN model.\n",
    "\n",
    "    # Arguments\n",
    "        blocks: int, number of pairs of sepCNN and pooling blocks in the model.\n",
    "        filters: int, output dimension of the layers.\n",
    "        kernel_size: int, length of the convolution window.\n",
    "        embedding_dim: int, dimension of the embedding vectors.\n",
    "        dropout_rate: float, percentage of input to drop at Dropout layers.\n",
    "        pool_size: int, factor by which to downscale input at MaxPooling layer.\n",
    "        input_shape: tuple, shape of input to the model.\n",
    "        num_classes: int, number of output classes.\n",
    "        num_features: int, number of words (embedding input dimension).\n",
    "        use_pretrained_embedding: bool, true if pre-trained embedding is on.\n",
    "        is_embedding_trainable: bool, true if embedding layer is trainable.\n",
    "        embedding_matrix: dict, dictionary with embedding coefficients.\n",
    "\n",
    "    # Returns\n",
    "        A sepCNN model instance.\n",
    "    \"\"\"\n",
    "    op_units = 5\n",
    "    op_activation = 'softmax'\n",
    "    model = models.Sequential()\n",
    "\n",
    "    # Add embedding layer. If pre-trained embedding is used add weights to the\n",
    "    # embeddings layer and set trainable to input is_embedding_trainable flag.\n",
    "    if use_pretrained_embedding:\n",
    "        model.add(Embedding(input_dim=num_features,\n",
    "                            output_dim=embedding_dim,\n",
    "                            input_length=input_shape[0],\n",
    "                            weights=[embedding_matrix],\n",
    "                            trainable=is_embedding_trainable))\n",
    "    else:\n",
    "        model.add(Embedding(input_dim=num_features,\n",
    "                            output_dim=embedding_dim,\n",
    "                            input_length=input_shape[0]))\n",
    "\n",
    "    for _ in range(blocks-1):\n",
    "        model.add(Dropout(rate=dropout_rate))\n",
    "        model.add(SeparableConv1D(filters=filters,\n",
    "                                  kernel_size=kernel_size,\n",
    "                                  activation='relu',\n",
    "                                  bias_initializer='random_uniform',\n",
    "                                  depthwise_initializer='random_uniform',\n",
    "                                  padding='same'))\n",
    "        model.add(SeparableConv1D(filters=filters,\n",
    "                                  kernel_size=kernel_size,\n",
    "                                  activation='relu',\n",
    "                                  bias_initializer='random_uniform',\n",
    "                                  depthwise_initializer='random_uniform',\n",
    "                                  padding='same'))\n",
    "        model.add(MaxPooling1D(pool_size=pool_size))\n",
    "\n",
    "    model.add(SeparableConv1D(filters=filters * 2,\n",
    "                              kernel_size=kernel_size,\n",
    "                              activation='relu',\n",
    "                              bias_initializer='random_uniform',\n",
    "                              depthwise_initializer='random_uniform',\n",
    "                              padding='same'))\n",
    "    model.add(SeparableConv1D(filters=filters * 2,\n",
    "                              kernel_size=kernel_size,\n",
    "                              activation='relu',\n",
    "                              bias_initializer='random_uniform',\n",
    "                              depthwise_initializer='random_uniform',\n",
    "                              padding='same'))\n",
    "    model.add(GlobalAveragePooling1D())\n",
    "    model.add(Dropout(rate=dropout_rate))\n",
    "    model.add(Dense(op_units, activation=op_activation))\n",
    "    return model"
   ]
  },
  {
   "cell_type": "markdown",
   "metadata": {},
   "source": [
    "# We create Sequence Vectors from the train data (Case description text)"
   ]
  },
  {
   "cell_type": "code",
   "execution_count": 39,
   "metadata": {},
   "outputs": [],
   "source": [
    "import tensorflow as tf\n",
    "import numpy as np\n",
    "\n",
    "from tensorflow.python.keras.preprocessing import sequence\n",
    "from tensorflow.python.keras.preprocessing import text\n",
    "from sklearn.feature_extraction.text import TfidfVectorizer\n",
    "from sklearn.feature_selection import SelectKBest\n",
    "from sklearn.feature_selection import f_classif\n",
    "\n",
    "# Vectorization parameters\n",
    "\n",
    "# Range (inclusive) of n-gram sizes for tokenizing text.\n",
    "NGRAM_RANGE = (1, 2)\n",
    "\n",
    "# Limit on the number of features. We use the top 20K features.\n",
    "TOP_K = 20000\n",
    "\n",
    "# Whether text should be split into word or character n-grams.\n",
    "# One of 'word', 'char'.\n",
    "TOKEN_MODE = 'word'\n",
    "\n",
    "# Minimum document/corpus frequency below which a token will be discarded.\n",
    "MIN_DOCUMENT_FREQUENCY = 2\n",
    "\n",
    "# Limit on the length of text sequences. Sequences longer than this\n",
    "# will be truncated.\n",
    "MAX_SEQUENCE_LENGTH = 500\n",
    "\n",
    "\n",
    "def sequence_vectorize(train_texts, val_texts):\n",
    "    \"\"\"Vectorizes texts as sequence vectors.\n",
    "\n",
    "    1 text = 1 sequence vector with fixed length.\n",
    "\n",
    "    # Arguments\n",
    "        train_texts: list, training text strings.\n",
    "        val_texts: list, validation text strings.\n",
    "\n",
    "    # Returns\n",
    "        x_train, x_val, word_index: vectorized training and validation\n",
    "            texts and word index dictionary.\n",
    "    \"\"\"\n",
    "    # Create vocabulary with training texts.\n",
    "    tokenizer = text.Tokenizer(num_words=TOP_K)\n",
    "    tokenizer.fit_on_texts(train_texts)\n",
    "\n",
    "    # Vectorize training and validation texts.\n",
    "    x_train = tokenizer.texts_to_sequences(train_texts)\n",
    "    x_val = tokenizer.texts_to_sequences(val_texts)\n",
    "\n",
    "    # Get max sequence length.\n",
    "    max_length = len(max(x_train, key=len))\n",
    "    if max_length > MAX_SEQUENCE_LENGTH:\n",
    "        max_length = MAX_SEQUENCE_LENGTH\n",
    "\n",
    "    # Fix sequence length to max value. Sequences shorter than the length are\n",
    "    # padded in the beginning and sequences longer are truncated\n",
    "    # at the beginning.\n",
    "    x_train = sequence.pad_sequences(x_train, maxlen=max_length)\n",
    "    x_val = sequence.pad_sequences(x_val, maxlen=max_length)\n",
    "    return x_train, x_val, tokenizer.word_index\n"
   ]
  },
  {
   "cell_type": "code",
   "execution_count": 33,
   "metadata": {},
   "outputs": [],
   "source": [
    "# Vectorize texts.\n",
    "x_train, x_test, word_index = sequence_vectorize(norm_train_texts, norm_test_texts)"
   ]
  },
  {
   "cell_type": "code",
   "execution_count": 59,
   "metadata": {},
   "outputs": [
    {
     "name": "stdout",
     "output_type": "stream",
     "text": [
      "(148, 45)\n",
      "(37, 45)\n",
      "winfield customer service chelsea bennett user id greenpoint ag blytheville needs access gpos tab winfield businesslink\n",
      "[  0   0   0   0   0   0   0   0   0   0   0   0   0   0   0   0   0   0\n",
      "   0   0   0   0   0   0   0   0   0   0   0  17  35 253 254 255  18  29\n",
      " 156 157 256  27  15  62  78  17  28]\n",
      "1\n"
     ]
    }
   ],
   "source": [
    "print(x_train.shape)\n",
    "print(x_test.shape)\n",
    "print(norm_train_texts[10])\n",
    "print(x_train[10])\n",
    "print(train_labels[10])"
   ]
  },
  {
   "cell_type": "markdown",
   "metadata": {},
   "source": [
    "# Train the model and plot validation and train accuracy and loss"
   ]
  },
  {
   "cell_type": "code",
   "execution_count": 60,
   "metadata": {},
   "outputs": [],
   "source": [
    "learning_rate=1e-3\n",
    "epochs=10\n",
    "batch_size=128\n",
    "blocks=2\n",
    "filters=64\n",
    "dropout_rate=0.2\n",
    "embedding_dim=200\n",
    "kernel_size=3\n",
    "pool_size=3\n",
    "# Create model instance.\n",
    "# Number of features will be the embedding input dimension. Add 1 for the\n",
    "# reserved index 0.\n",
    "num_features = min(len(word_index) + 1, TOP_K)\n",
    "\n",
    "# Create model instance.\n",
    "model = sepcnn_model(blocks=blocks,\n",
    "                                     filters=filters,\n",
    "                                     kernel_size=kernel_size,\n",
    "                                     embedding_dim=embedding_dim,\n",
    "                                     dropout_rate=dropout_rate,\n",
    "                                     pool_size=pool_size,\n",
    "                                     input_shape=x_train.shape[1:],\n",
    "                                     num_classes=num_classes,\n",
    "                                     num_features=num_features)"
   ]
  },
  {
   "cell_type": "code",
   "execution_count": 61,
   "metadata": {},
   "outputs": [],
   "source": [
    "loss = 'sparse_categorical_crossentropy'\n",
    "optimizer = tf.keras.optimizers.Adam(lr=learning_rate)\n",
    "model.compile(optimizer=optimizer, loss=loss, metrics=['acc'])"
   ]
  },
  {
   "cell_type": "code",
   "execution_count": 62,
   "metadata": {},
   "outputs": [
    {
     "name": "stdout",
     "output_type": "stream",
     "text": [
      "_________________________________________________________________\n",
      "Layer (type)                 Output Shape              Param #   \n",
      "=================================================================\n",
      "embedding_3 (Embedding)      (None, 45, 200)           113400    \n",
      "_________________________________________________________________\n",
      "dropout_6 (Dropout)          (None, 45, 200)           0         \n",
      "_________________________________________________________________\n",
      "separable_conv1d_12 (Separab (None, 45, 64)            13464     \n",
      "_________________________________________________________________\n",
      "separable_conv1d_13 (Separab (None, 45, 64)            4352      \n",
      "_________________________________________________________________\n",
      "max_pooling1d_3 (MaxPooling1 (None, 15, 64)            0         \n",
      "_________________________________________________________________\n",
      "separable_conv1d_14 (Separab (None, 15, 128)           8512      \n",
      "_________________________________________________________________\n",
      "separable_conv1d_15 (Separab (None, 15, 128)           16896     \n",
      "_________________________________________________________________\n",
      "global_average_pooling1d_3 ( (None, 128)               0         \n",
      "_________________________________________________________________\n",
      "dropout_7 (Dropout)          (None, 128)               0         \n",
      "_________________________________________________________________\n",
      "dense_3 (Dense)              (None, 5)                 645       \n",
      "=================================================================\n",
      "Total params: 157,269\n",
      "Trainable params: 157,269\n",
      "Non-trainable params: 0\n",
      "_________________________________________________________________\n"
     ]
    }
   ],
   "source": [
    "model.summary()"
   ]
  },
  {
   "cell_type": "code",
   "execution_count": 55,
   "metadata": {},
   "outputs": [],
   "source": [
    "callbacks = [tf.keras.callbacks.EarlyStopping(monitor='val_loss', patience=2)]"
   ]
  },
  {
   "cell_type": "code",
   "execution_count": 63,
   "metadata": {},
   "outputs": [
    {
     "name": "stderr",
     "output_type": "stream",
     "text": [
      "C:\\Continuum\\anaconda3\\lib\\site-packages\\tensorflow\\python\\ops\\gradients_impl.py:100: UserWarning: Converting sparse IndexedSlices to a dense Tensor of unknown shape. This may consume a large amount of memory.\n",
      "  \"Converting sparse IndexedSlices to a dense Tensor of unknown shape. \"\n"
     ]
    },
    {
     "name": "stdout",
     "output_type": "stream",
     "text": [
      "Train on 148 samples, validate on 37 samples\n",
      "Epoch 1/10\n",
      " - 1s - loss: 2.4598 - acc: 0.1284 - val_loss: 1.4805 - val_acc: 0.3784\n",
      "Epoch 2/10\n",
      " - 0s - loss: 1.5779 - acc: 0.3311 - val_loss: 1.5005 - val_acc: 0.4595\n",
      "Epoch 3/10\n",
      " - 0s - loss: 1.6435 - acc: 0.2703 - val_loss: 1.4675 - val_acc: 0.3784\n",
      "Epoch 4/10\n",
      " - 0s - loss: 1.4915 - acc: 0.3649 - val_loss: 1.4635 - val_acc: 0.3784\n",
      "Epoch 5/10\n",
      " - 0s - loss: 1.5114 - acc: 0.3581 - val_loss: 1.4848 - val_acc: 0.3784\n",
      "Epoch 6/10\n",
      " - 0s - loss: 1.5053 - acc: 0.3919 - val_loss: 1.4994 - val_acc: 0.3784\n",
      "Epoch 7/10\n",
      " - 0s - loss: 1.4905 - acc: 0.3514 - val_loss: 1.4873 - val_acc: 0.3784\n",
      "Epoch 8/10\n",
      " - 0s - loss: 1.4728 - acc: 0.3311 - val_loss: 1.4618 - val_acc: 0.3784\n",
      "Epoch 9/10\n",
      " - 0s - loss: 1.4821 - acc: 0.3649 - val_loss: 1.4455 - val_acc: 0.3784\n",
      "Epoch 10/10\n",
      " - 0s - loss: 1.4627 - acc: 0.3851 - val_loss: 1.4352 - val_acc: 0.3784\n"
     ]
    }
   ],
   "source": [
    "# Train and validate model.\n",
    "history = model.fit(\n",
    "            x_train,\n",
    "            train_labels,\n",
    "            epochs=epochs,\n",
    "           # callbacks=callbacks,\n",
    "            validation_data=(x_test, test_labels),\n",
    "            verbose=2,  # Logs once per epoch.\n",
    "            batch_size=batch_size)"
   ]
  },
  {
   "cell_type": "code",
   "execution_count": 64,
   "metadata": {},
   "outputs": [
    {
     "name": "stdout",
     "output_type": "stream",
     "text": [
      "dict_keys(['val_loss', 'val_acc', 'loss', 'acc'])\n"
     ]
    },
    {
     "data": {
      "image/png": "[encoded data removed]",
      "text/plain": [
       "<Figure size 432x288 with 1 Axes>"
      ]
     },
     "metadata": {},
     "output_type": "display_data"
    },
    {
     "data": {
      "image/png": "[encoded data removed]",
      "text/plain": [
       "<Figure size 432x288 with 1 Axes>"
      ]
     },
     "metadata": {},
     "output_type": "display_data"
    }
   ],
   "source": [
    "# list all data in history\n",
    "print(history.history.keys())\n",
    "# summarize history for accuracy\n",
    "plt.plot(history.history['acc'])\n",
    "plt.plot(history.history['val_acc'])\n",
    "plt.title('model accuracy')\n",
    "plt.ylabel('accuracy')\n",
    "plt.xlabel('epoch')\n",
    "plt.legend(['train', 'test'], loc='upper left')\n",
    "plt.show()\n",
    "# summarize history for loss\n",
    "plt.plot(history.history['loss'])\n",
    "plt.plot(history.history['val_loss'])\n",
    "plt.title('model loss')\n",
    "plt.ylabel('loss')\n",
    "plt.xlabel('epoch')\n",
    "plt.legend(['train', 'test'], loc='upper left')\n",
    "plt.show()"
   ]
  },
  {
   "cell_type": "code",
   "execution_count": 65,
   "metadata": {},
   "outputs": [
    {
     "name": "stdout",
     "output_type": "stream",
     "text": [
      "Validation accuracy: 0.37837839126586914, loss: 1.4351856708526611\n"
     ]
    }
   ],
   "source": [
    "history = history.history\n",
    "print('Validation accuracy: {acc}, loss: {loss}'.format(\n",
    "            acc=history['val_acc'][-1], loss=history['val_loss'][-1]))"
   ]
  },
  {
   "cell_type": "code",
   "execution_count": 50,
   "metadata": {},
   "outputs": [],
   "source": [
    "#Save the model file\n",
    "#model.save('C:/Users/GCNDP/SentimentAnalysis/sfdc_sepcnn_model.h5')"
   ]
  },
  {
   "cell_type": "markdown",
   "metadata": {},
   "source": [
    "# Check train accuracy and test accuracy"
   ]
  },
  {
   "cell_type": "code",
   "execution_count": 66,
   "metadata": {},
   "outputs": [
    {
     "name": "stdout",
     "output_type": "stream",
     "text": [
      " Train Accuracy: 37.837838 \n",
      " Test Accuracy: 37.837838 \n"
     ]
    }
   ],
   "source": [
    "_, acc = model.evaluate(x_train, train_labels, verbose=0)\n",
    "print( ' Train Accuracy: %f ' % (acc*100))\n",
    "_, acc = model.evaluate(x_test, test_labels, verbose=0)\n",
    "print( ' Test Accuracy: %f ' % (acc*100))"
   ]
  },
  {
   "cell_type": "code",
   "execution_count": 68,
   "metadata": {},
   "outputs": [
    {
     "name": "stdout",
     "output_type": "stream",
     "text": [
      "[0.35342246 0.27974275 0.14790197 0.15775844 0.06117438]\n",
      "0\n",
      "0.10980392156862744\n"
     ]
    },
    {
     "name": "stderr",
     "output_type": "stream",
     "text": [
      "C:\\Continuum\\anaconda3\\lib\\site-packages\\sklearn\\metrics\\classification.py:1135: UndefinedMetricWarning: F-score is ill-defined and being set to 0.0 in labels with no predicted samples.\n",
      "  'precision', 'predicted', average, warn_for)\n"
     ]
    }
   ],
   "source": [
    "from sklearn import metrics\n",
    "pred = model.predict(x_test)\n",
    "print(pred[0])\n",
    "pred_label=np.argmax(pred,axis=1)\n",
    "print(pred_label[0])\n",
    "print(metrics.f1_score(test_labels.astype(int), pred_label, average='macro'))"
   ]
  }
 ],
 "metadata": {
  "kernelspec": {
   "display_name": "Python 3",
   "language": "python",
   "name": "python3"
  },
  "language_info": {
   "codemirror_mode": {
    "name": "ipython",
    "version": 3
   },
   "file_extension": ".py",
   "mimetype": "text/x-python",
   "name": "python",
   "nbconvert_exporter": "python",
   "pygments_lexer": "ipython3",
   "version": "3.6.5"
  }
 },
 "nbformat": 4,
 "nbformat_minor": 2
}
