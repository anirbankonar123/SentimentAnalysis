{
 "cells": [
  {
   "cell_type": "markdown",
   "metadata": {},
   "source": [
    "# This notebook compares various approaches of Text classification, based on Salesforce Case data, to classify the top 5 Reason codes. "
   ]
  },
  {
   "cell_type": "code",
   "execution_count": 1,
   "metadata": {},
   "outputs": [],
   "source": [
    "import os\n",
    "import random\n",
    "\n",
    "import numpy as np\n",
    "import pandas as pd"
   ]
  },
  {
   "cell_type": "markdown",
   "metadata": {},
   "source": [
    "# We read from the salesforce export data and check the first few rows"
   ]
  },
  {
   "cell_type": "code",
   "execution_count": 2,
   "metadata": {},
   "outputs": [
    {
     "data": {
      "text/html": [
       "<div>\n",
       "<style scoped>\n",
       "    .dataframe tbody tr th:only-of-type {\n",
       "        vertical-align: middle;\n",
       "    }\n",
       "\n",
       "    .dataframe tbody tr th {\n",
       "        vertical-align: top;\n",
       "    }\n",
       "\n",
       "    .dataframe thead th {\n",
       "        text-align: right;\n",
       "    }\n",
       "</style>\n",
       "<table border=\"1\" class=\"dataframe\">\n",
       "  <thead>\n",
       "    <tr style=\"text-align: right;\">\n",
       "      <th></th>\n",
       "      <th>Date</th>\n",
       "      <th>Subject*</th>\n",
       "      <th>Call Type</th>\n",
       "      <th>Assigned</th>\n",
       "      <th>Call Object Identifier</th>\n",
       "      <th>Call Recording</th>\n",
       "      <th>Case Number</th>\n",
       "      <th>Case Owner*</th>\n",
       "      <th>Case Subject</th>\n",
       "      <th>Case Status</th>\n",
       "      <th>Case Origin*</th>\n",
       "      <th>Reason*</th>\n",
       "      <th>Case Description</th>\n",
       "      <th>Count of Comments</th>\n",
       "      <th>Last Case Comment</th>\n",
       "      <th>Account Brand and Type</th>\n",
       "      <th>SAP ID</th>\n",
       "      <th>Account Name</th>\n",
       "      <th>Contact Name</th>\n",
       "    </tr>\n",
       "  </thead>\n",
       "  <tbody>\n",
       "    <tr>\n",
       "      <th>0</th>\n",
       "      <td>11/15/2017</td>\n",
       "      <td>Call 11/15/2017, 3:04:13 PM</td>\n",
       "      <td>Inbound</td>\n",
       "      <td>Debra Greenlee</td>\n",
       "      <td>104792934020171115</td>\n",
       "      <td>http://10.64.30.192:8091/?callid=1047929340</td>\n",
       "      <td>972606.0</td>\n",
       "      <td>Debra Greenlee</td>\n",
       "      <td>JDF credits</td>\n",
       "      <td>Closed</td>\n",
       "      <td>Phone</td>\n",
       "      <td>Credit</td>\n",
       "      <td>Valerie called about duplicate JDF credits on ...</td>\n",
       "      <td>1.0</td>\n",
       "      <td>Valerie called about duplicate JDF credits on ...</td>\n",
       "      <td>National - Dealer</td>\n",
       "      <td>1033841.0</td>\n",
       "      <td>MIDWAY CO-OP LURAY</td>\n",
       "      <td>Valerie Werthmann</td>\n",
       "    </tr>\n",
       "    <tr>\n",
       "      <th>1</th>\n",
       "      <td>6/7/2018</td>\n",
       "      <td>Call 6/7/2018, 8:27:51 AM</td>\n",
       "      <td>Inbound</td>\n",
       "      <td>Debra Greenlee</td>\n",
       "      <td>304737374990180607</td>\n",
       "      <td>http://10.64.30.192:8091/?callid=3047373749</td>\n",
       "      <td>1296323.0</td>\n",
       "      <td>Debra Greenlee</td>\n",
       "      <td>Farmflex Financing reversal</td>\n",
       "      <td>Closed</td>\n",
       "      <td>Phone</td>\n",
       "      <td>Credit</td>\n",
       "      <td>Lisa called entered in a farmflex invoice in e...</td>\n",
       "      <td>1.0</td>\n",
       "      <td>Lisa called entered in a farmflex invoice in e...</td>\n",
       "      <td>National - Dealer</td>\n",
       "      <td>3383451.0</td>\n",
       "      <td>GREENPOINT AG ALTHEIMER</td>\n",
       "      <td>Lisa Waddle</td>\n",
       "    </tr>\n",
       "    <tr>\n",
       "      <th>2</th>\n",
       "      <td>5/10/2018</td>\n",
       "      <td>Call 5/10/2018, 3:11:45 PM</td>\n",
       "      <td>Inbound</td>\n",
       "      <td>Debra Greenlee</td>\n",
       "      <td>304730318670180510</td>\n",
       "      <td>http://10.64.30.192:8091/?callid=3047303186</td>\n",
       "      <td>1267970.0</td>\n",
       "      <td>Debra Greenlee</td>\n",
       "      <td>New C3 user registration</td>\n",
       "      <td>Closed</td>\n",
       "      <td>Phone</td>\n",
       "      <td>Systems Support</td>\n",
       "      <td>Lisa Waddle needed assistance with registering...</td>\n",
       "      <td>1.0</td>\n",
       "      <td>Lisa Waddle needed assistance with registering...</td>\n",
       "      <td>National - Dealer</td>\n",
       "      <td>3383451.0</td>\n",
       "      <td>GREENPOINT AG ALTHEIMER</td>\n",
       "      <td>Lisa Waddle</td>\n",
       "    </tr>\n",
       "    <tr>\n",
       "      <th>3</th>\n",
       "      <td>3/7/2018</td>\n",
       "      <td>Call 3/7/2018, 2:34:32 PM</td>\n",
       "      <td>Inbound</td>\n",
       "      <td>Debra Greenlee</td>\n",
       "      <td>204726086060180307</td>\n",
       "      <td>http://10.64.30.192:8091/?callid=2047260860</td>\n",
       "      <td>1144423.0</td>\n",
       "      <td>Debra Greenlee</td>\n",
       "      <td>MyMonsanto Issue</td>\n",
       "      <td>Closed</td>\n",
       "      <td>Phone</td>\n",
       "      <td>Manage Customer Accounts</td>\n",
       "      <td>Rahul, Darrell Scott with SAP: 1032247 AGRI AF...</td>\n",
       "      <td>2.0</td>\n",
       "      <td>Darrell called trying access C3 User access to...</td>\n",
       "      <td>National - Dealer</td>\n",
       "      <td>1032247.0</td>\n",
       "      <td>AGRI AFC DECATUR</td>\n",
       "      <td>Darrell Scott</td>\n",
       "    </tr>\n",
       "    <tr>\n",
       "      <th>4</th>\n",
       "      <td>6/18/2018</td>\n",
       "      <td>Call 6/18/2018, 10:09:15 AM</td>\n",
       "      <td>Inbound</td>\n",
       "      <td>Debra Greenlee</td>\n",
       "      <td>304740583190180618</td>\n",
       "      <td>http://10.64.30.192:8091/?callid=3047405831</td>\n",
       "      <td>1305717.0</td>\n",
       "      <td>Debra Greenlee</td>\n",
       "      <td>Farmflex</td>\n",
       "      <td>Closed</td>\n",
       "      <td>Phone</td>\n",
       "      <td>Credit</td>\n",
       "      <td>Jennie looking for farmflex credit on three gr...</td>\n",
       "      <td>1.0</td>\n",
       "      <td>Jennie looking for farmflex credit on three gr...</td>\n",
       "      <td>National - Dealer</td>\n",
       "      <td>3623699.0</td>\n",
       "      <td>TALLAHATCHIE F S CHARLESTON</td>\n",
       "      <td>Jennie Mullen</td>\n",
       "    </tr>\n",
       "  </tbody>\n",
       "</table>\n",
       "</div>"
      ],
      "text/plain": [
       "         Date                     Subject* Call Type        Assigned  \\\n",
       "0  11/15/2017  Call 11/15/2017, 3:04:13 PM   Inbound  Debra Greenlee   \n",
       "1    6/7/2018    Call 6/7/2018, 8:27:51 AM   Inbound  Debra Greenlee   \n",
       "2   5/10/2018   Call 5/10/2018, 3:11:45 PM   Inbound  Debra Greenlee   \n",
       "3    3/7/2018    Call 3/7/2018, 2:34:32 PM   Inbound  Debra Greenlee   \n",
       "4   6/18/2018  Call 6/18/2018, 10:09:15 AM   Inbound  Debra Greenlee   \n",
       "\n",
       "  Call Object Identifier                               Call Recording  \\\n",
       "0     104792934020171115  http://10.64.30.192:8091/?callid=1047929340   \n",
       "1     304737374990180607  http://10.64.30.192:8091/?callid=3047373749   \n",
       "2     304730318670180510  http://10.64.30.192:8091/?callid=3047303186   \n",
       "3     204726086060180307  http://10.64.30.192:8091/?callid=2047260860   \n",
       "4     304740583190180618  http://10.64.30.192:8091/?callid=3047405831   \n",
       "\n",
       "   Case Number     Case Owner*                 Case Subject Case Status  \\\n",
       "0     972606.0  Debra Greenlee                  JDF credits      Closed   \n",
       "1    1296323.0  Debra Greenlee  Farmflex Financing reversal      Closed   \n",
       "2    1267970.0  Debra Greenlee     New C3 user registration      Closed   \n",
       "3    1144423.0  Debra Greenlee             MyMonsanto Issue      Closed   \n",
       "4    1305717.0  Debra Greenlee                     Farmflex      Closed   \n",
       "\n",
       "  Case Origin*                   Reason*  \\\n",
       "0        Phone                    Credit   \n",
       "1        Phone                    Credit   \n",
       "2        Phone           Systems Support   \n",
       "3        Phone  Manage Customer Accounts   \n",
       "4        Phone                    Credit   \n",
       "\n",
       "                                    Case Description  Count of Comments  \\\n",
       "0  Valerie called about duplicate JDF credits on ...                1.0   \n",
       "1  Lisa called entered in a farmflex invoice in e...                1.0   \n",
       "2  Lisa Waddle needed assistance with registering...                1.0   \n",
       "3  Rahul, Darrell Scott with SAP: 1032247 AGRI AF...                2.0   \n",
       "4  Jennie looking for farmflex credit on three gr...                1.0   \n",
       "\n",
       "                                   Last Case Comment Account Brand and Type  \\\n",
       "0  Valerie called about duplicate JDF credits on ...      National - Dealer   \n",
       "1  Lisa called entered in a farmflex invoice in e...      National - Dealer   \n",
       "2  Lisa Waddle needed assistance with registering...      National - Dealer   \n",
       "3  Darrell called trying access C3 User access to...      National - Dealer   \n",
       "4  Jennie looking for farmflex credit on three gr...      National - Dealer   \n",
       "\n",
       "      SAP ID                 Account Name       Contact Name  \n",
       "0  1033841.0           MIDWAY CO-OP LURAY  Valerie Werthmann  \n",
       "1  3383451.0      GREENPOINT AG ALTHEIMER        Lisa Waddle  \n",
       "2  3383451.0      GREENPOINT AG ALTHEIMER        Lisa Waddle  \n",
       "3  1032247.0             AGRI AFC DECATUR      Darrell Scott  \n",
       "4  3623699.0  TALLAHATCHIE F S CHARLESTON      Jennie Mullen  "
      ]
     },
     "execution_count": 2,
     "metadata": {},
     "output_type": "execute_result"
    }
   ],
   "source": [
    "sfdc_data = pd.read_csv('C:/Users/GCNDP/SFDC.csv')\n",
    "sfdc_data.head()"
   ]
  },
  {
   "cell_type": "markdown",
   "metadata": {},
   "source": [
    "# We check the Reason codes and their counts in the data, since our main goal is to classify a Case into its correct Reason code"
   ]
  },
  {
   "cell_type": "code",
   "execution_count": 3,
   "metadata": {},
   "outputs": [
    {
     "data": {
      "text/plain": [
       "Delivery/Shipments          70\n",
       "Systems Support             50\n",
       "Returns                     30\n",
       "Credit                      21\n",
       "Refusals                    14\n",
       "Manage Customer Accounts    11\n",
       "Programs/Compensation       11\n",
       "Invoice                      8\n",
       "Accounts Receivable          7\n",
       "Compliance                   7\n",
       "Quality Of Service           6\n",
       "Order Management             6\n",
       "Inventory                    4\n",
       "Other                        3\n",
       "Transfers/Swaps              2\n",
       "Product                      2\n",
       "Claims                       2\n",
       "Pricing                      1\n",
       "Collection                   1\n",
       "Manage Sales partner         1\n",
       "Name: Reason*, dtype: int64"
      ]
     },
     "execution_count": 3,
     "metadata": {},
     "output_type": "execute_result"
    }
   ],
   "source": [
    "sfdc_data['Reason*'].value_counts()"
   ]
  },
  {
   "cell_type": "code",
   "execution_count": 4,
   "metadata": {},
   "outputs": [
    {
     "data": {
      "text/plain": [
       "National - Dealer     120\n",
       "Hubner - Dealer        75\n",
       "Specialty - Dealer     23\n",
       "Hubner - Grower        12\n",
       "Channel - Dealer        7\n",
       "Specialty - Grower      5\n",
       "- Dealer                5\n",
       "Jung - Dealer           2\n",
       "Stone - Dealer          2\n",
       "REA - Dealer            1\n",
       "Stewart - Dealer        1\n",
       "Lewis - Grower          1\n",
       "Kruger - Grower         1\n",
       "WestBred - Grower       1\n",
       "National - Grower       1\n",
       "Name: Account Brand and Type, dtype: int64"
      ]
     },
     "execution_count": 4,
     "metadata": {},
     "output_type": "execute_result"
    }
   ],
   "source": [
    "sfdc_data['Account Brand and Type'].value_counts()"
   ]
  },
  {
   "cell_type": "code",
   "execution_count": 5,
   "metadata": {},
   "outputs": [
    {
     "data": {
      "text/plain": [
       "Closed         254\n",
       "In Progress      3\n",
       "Name: Case Status, dtype: int64"
      ]
     },
     "execution_count": 5,
     "metadata": {},
     "output_type": "execute_result"
    }
   ],
   "source": [
    "sfdc_data['Case Status'].value_counts()"
   ]
  },
  {
   "cell_type": "code",
   "execution_count": 6,
   "metadata": {},
   "outputs": [
    {
     "data": {
      "text/plain": [
       "Outbound    151\n",
       "Inbound     106\n",
       "Name: Call Type, dtype: int64"
      ]
     },
     "execution_count": 6,
     "metadata": {},
     "output_type": "execute_result"
    }
   ],
   "source": [
    "sfdc_data['Call Type'].value_counts()"
   ]
  },
  {
   "cell_type": "markdown",
   "metadata": {},
   "source": [
    "# We filter out the five dominant reason codes for our analysis"
   ]
  },
  {
   "cell_type": "code",
   "execution_count": 4,
   "metadata": {},
   "outputs": [],
   "source": [
    "#We take the four dominant reason codes\n",
    "sfdc_data.rename(columns={'Reason*': 'Reason'}, inplace=True)\n",
    "Reasons=['Delivery/Shipments','Systems Support','Returns','Credit','Refusals']\n",
    "sfdc_data_filtered=pd.DataFrame(sfdc_data.loc[sfdc_data['Reason'].isin(Reasons)])\n",
    "\n",
    "#reindex the filtered data\n",
    "sfdc_data_filtered = sfdc_data_filtered.reset_index(drop = True)\n"
   ]
  },
  {
   "cell_type": "code",
   "execution_count": 6,
   "metadata": {},
   "outputs": [
    {
     "data": {
      "text/plain": [
       "Delivery/Shipments    70\n",
       "Systems Support       50\n",
       "Returns               30\n",
       "Credit                21\n",
       "Refusals              14\n",
       "Name: Reason, dtype: int64"
      ]
     },
     "execution_count": 6,
     "metadata": {},
     "output_type": "execute_result"
    }
   ],
   "source": [
    "sfdc_data_filtered['Reason'].value_counts()"
   ]
  },
  {
   "cell_type": "markdown",
   "metadata": {},
   "source": [
    "# We assign a numeric code to each of these Reason codes, as given here"
   ]
  },
  {
   "cell_type": "code",
   "execution_count": 5,
   "metadata": {},
   "outputs": [],
   "source": [
    "sfdc_data_filtered.loc[(sfdc_data_filtered['Reason']=='Delivery/Shipments'),'label']='0'\n",
    "sfdc_data_filtered.loc[(sfdc_data_filtered['Reason']=='Systems Support'),'label']='1'\n",
    "sfdc_data_filtered.loc[(sfdc_data_filtered['Reason']=='Returns'),'label']='2'\n",
    "sfdc_data_filtered.loc[(sfdc_data_filtered['Reason']=='Credit'),'label']='3'\n",
    "sfdc_data_filtered.loc[(sfdc_data_filtered['Reason']=='Refusals'),'label']='4'"
   ]
  },
  {
   "cell_type": "code",
   "execution_count": 6,
   "metadata": {},
   "outputs": [
    {
     "data": {
      "text/plain": [
       "0    70\n",
       "1    50\n",
       "2    30\n",
       "3    21\n",
       "4    14\n",
       "Name: label, dtype: int64"
      ]
     },
     "execution_count": 6,
     "metadata": {},
     "output_type": "execute_result"
    }
   ],
   "source": [
    "sfdc_data_filtered['label'].value_counts()"
   ]
  },
  {
   "cell_type": "code",
   "execution_count": 7,
   "metadata": {},
   "outputs": [],
   "source": [
    "import numpy as np\n",
    "import matplotlib.pyplot as plt\n",
    "\n",
    "from collections import Counter\n",
    "from sklearn.feature_extraction.text import CountVectorizer\n",
    "\n",
    "\n",
    "def plot_frequency_distribution_of_ngrams(sample_texts,\n",
    "                                          ngram_range=(1, 2),\n",
    "                                          num_ngrams=50):\n",
    "    \"\"\"Plots the frequency distribution of n-grams.\n",
    "\n",
    "    # Arguments\n",
    "        samples_texts: list, sample texts.\n",
    "        ngram_range: tuple (min, mplt), The range of n-gram values to consider.\n",
    "            Min and mplt are the lower and upper bound values for the range.\n",
    "        num_ngrams: int, number of n-grams to plot.\n",
    "            Top `num_ngrams` frequent n-grams will be plotted.\n",
    "    \"\"\"\n",
    "    # Create args required for vectorizing.\n",
    "    kwargs = {\n",
    "            'ngram_range': (1, 2),\n",
    "            'dtype': 'int32',\n",
    "            'strip_accents': 'unicode',\n",
    "            'decode_error': 'replace',\n",
    "            'analyzer': 'word',  # Split text into word tokens.\n",
    "    }\n",
    "    vectorizer = CountVectorizer(**kwargs)\n",
    "\n",
    "    # This creates a vocabulary (dict, where keys are n-grams and values are\n",
    "    # idxices). This also converts every text to an array the length of\n",
    "    # vocabulary, where every element idxicates the count of the n-gram\n",
    "    # corresponding at that idxex in vocabulary.\n",
    "    vectorized_texts = vectorizer.fit_transform(sample_texts)\n",
    "\n",
    "    # This is the list of all n-grams in the index order from the vocabulary.\n",
    "    all_ngrams = list(vectorizer.get_feature_names())\n",
    "    num_ngrams = min(num_ngrams, len(all_ngrams))\n",
    "    # ngrams = all_ngrams[:num_ngrams]\n",
    "\n",
    "    # Add up the counts per n-gram ie. column-wise\n",
    "    all_counts = vectorized_texts.sum(axis=0).tolist()[0]\n",
    "\n",
    "    # Sort n-grams and counts by frequency and get top `num_ngrams` ngrams.\n",
    "    all_counts, all_ngrams = zip(*[(c, n) for c, n in sorted(\n",
    "        zip(all_counts, all_ngrams), reverse=True)])\n",
    "    ngrams = list(all_ngrams)[:num_ngrams]\n",
    "    counts = list(all_counts)[:num_ngrams]\n",
    "\n",
    "    idx = np.arange(num_ngrams)\n",
    "    \n",
    "\n",
    "    plt.figure(figsize=(20, 3))  # width:20, height:3\n",
    "    plt.bar(idx, counts, width=0.8, color='b')\n",
    "    plt.xlabel('N-grams')\n",
    "    plt.ylabel('Frequencies')\n",
    "    #plt.axis([0,20,0,160])\n",
    "    plt.title('Frequency distribution of n-grams')\n",
    "    plt.xticks(idx, ngrams, rotation=45)\n",
    "    plt.show()\n",
    "\n",
    "\n",
    "def plot_sample_length_distribution(sample_texts):\n",
    "    \"\"\"Plots the sample length distribution.\n",
    "\n",
    "    # Arguments\n",
    "        samples_texts: list, sample texts.\n",
    "    \"\"\"\n",
    "    plt.hist([len(s) for s in sample_texts], 50)\n",
    "    plt.xlabel('Length of a sample')\n",
    "    plt.ylabel('Number of samples')\n",
    "    plt.title('Sample length distribution')\n",
    "    plt.show()\n",
    "\n",
    "\n",
    "def plot_class_distribution(labels):\n",
    "    \"\"\"Plots the class distribution.\n",
    "\n",
    "    # Arguments\n",
    "        labels: list, label values.\n",
    "            There should be at lease one sample for values in the\n",
    "            range (0, num_classes -1)\n",
    "    \"\"\"\n",
    "    num_classes = get_num_classes(labels)\n",
    "    count_map = Counter(labels)\n",
    "    counts = [count_map[i] for i in range(num_classes)]\n",
    "    idx = np.arange(num_classes)\n",
    "    plt.bar(idx, counts, width=0.8, color='b')\n",
    "    plt.xlabel('Class')\n",
    "    plt.ylabel('Number of samples')\n",
    "    plt.title('Class distribution')\n",
    "    plt.xticks(idx, idx)\n",
    "    plt.show()"
   ]
  },
  {
   "cell_type": "code",
   "execution_count": 8,
   "metadata": {},
   "outputs": [
    {
     "name": "stdout",
     "output_type": "stream",
     "text": [
      "Jennie looking for farmflex credit on three growers.\n"
     ]
    }
   ],
   "source": [
    "corpus = sfdc_data['Last Case Comment'].astype(str)\n",
    "print(corpus[4])"
   ]
  },
  {
   "cell_type": "code",
   "execution_count": 9,
   "metadata": {},
   "outputs": [],
   "source": [
    "import re\n",
    "import nltk\n",
    "import string\n",
    "exclude = set(string.punctuation) \n",
    "wpt = nltk.WordPunctTokenizer()\n",
    "stop_words = nltk.corpus.stopwords.words('english')\n",
    "newStopWords = ['lb','j','df','jdf']\n",
    "stop_words.extend(newStopWords)\n",
    "table = str.maketrans('', '', string.punctuation)\n",
    "from nltk.stem.porter import PorterStemmer\n",
    "porter = PorterStemmer()\n",
    "\n",
    "def normalize_document(doc):\n",
    "    # lower case and remove special characters\\whitespaces\n",
    "   # doc = re.sub(r'[^a-zA-Z0-9\\s]', '', doc, re.I)\n",
    "   # doc = doc.lower()\n",
    "   # doc = doc.strip()\n",
    "    # tokenize document\n",
    "    tokens = doc.split()\n",
    "    # remove punctuation from each word\n",
    "    tokens = [w.translate(table) for w in tokens]\n",
    "    #wpt.tokenize(doc)\n",
    "    # convert to lower case\n",
    "    lower_tokens = [w.lower() for w in tokens]\n",
    "    #remove spaces\n",
    "    stripped = [w.strip() for w in lower_tokens]\n",
    "    # remove remaining tokens that are not alphabetic\n",
    "    words = [word for word in stripped if word.isalpha()]\n",
    "    # filter stopwords out of document\n",
    "    filtered_tokens = [token for token in words if token not in stop_words]\n",
    "    #apply Stemming\n",
    "    #stemmed = [porter.stem(word) for word in filtered_tokens]\n",
    "    # re-create document from filtered tokens\n",
    "    doc = ' '.join(filtered_tokens)\n",
    "    return doc\n",
    "\n",
    "normalize_corpus = np.vectorize(normalize_document)"
   ]
  },
  {
   "cell_type": "markdown",
   "metadata": {},
   "source": [
    "# We tokenize the Case Description and normalize the text by removing punctuation, spaces, stop words, leading and trailing blanks"
   ]
  },
  {
   "cell_type": "code",
   "execution_count": 10,
   "metadata": {},
   "outputs": [
    {
     "name": "stdout",
     "output_type": "stream",
     "text": [
      "pam called wanted know grower paid full farm flex winfield invoice\n"
     ]
    }
   ],
   "source": [
    "norm_corpus = normalize_corpus(corpus)\n",
    "print(norm_corpus[15])"
   ]
  },
  {
   "cell_type": "code",
   "execution_count": 11,
   "metadata": {},
   "outputs": [],
   "source": [
    "from nltk.tokenize import word_tokenize\n",
    "import string\n",
    "from nltk.corpus import stopwords\n",
    "stop_words = nltk.corpus.stopwords.words('english')\n",
    "newStopWords = ['lb','j','df','jdf']\n",
    "stop_words.extend(newStopWords)\n",
    "wpt = nltk.WordPunctTokenizer()\n",
    "\n",
    "def normalize_text(text):\n",
    "    tokens = word_tokenize(text)\n",
    "    # convert to lower case\n",
    "    tokens = [w.lower() for w in tokens]\n",
    "    # remove punctuation from each word\n",
    "    table = str.maketrans('', '', string.punctuation)\n",
    "    stripped = [w.translate(table) for w in tokens]\n",
    "    # remove remaining tokens that are not alphabetic\n",
    "    words = [word for word in stripped if word.isalpha()]\n",
    "    # filter out stop words\n",
    "    words = [w for w in words if not w in stop_words]\n",
    "    #print(words[:100])\n",
    "    doc = ' '.join(words)\n",
    "    return doc"
   ]
  },
  {
   "cell_type": "markdown",
   "metadata": {},
   "source": [
    "# We check the median number of words per sample row"
   ]
  },
  {
   "cell_type": "code",
   "execution_count": 12,
   "metadata": {},
   "outputs": [
    {
     "name": "stdout",
     "output_type": "stream",
     "text": [
      "263.0\n"
     ]
    }
   ],
   "source": [
    "#Median number of words per sample\n",
    "desc_text=sfdc_data['Last Case Comment'].astype(str)\n",
    "num_words = [len(sfdc_data['Last Case Comment'].astype(str).str.split()) for s in desc_text]\n",
    "print(np.median(num_words))"
   ]
  },
  {
   "cell_type": "markdown",
   "metadata": {},
   "source": [
    "# Plot of frequency distribution of n-grams in the Case Description text"
   ]
  },
  {
   "cell_type": "code",
   "execution_count": 15,
   "metadata": {},
   "outputs": [
    {
     "data": {
      "image/png": "[encoded data removed]",
      "text/plain": [
       "<Figure size 1440x216 with 1 Axes>"
      ]
     },
     "metadata": {},
     "output_type": "display_data"
    }
   ],
   "source": [
    "plot_frequency_distribution_of_ngrams(norm_corpus)"
   ]
  },
  {
   "cell_type": "markdown",
   "metadata": {},
   "source": [
    "# Plot of length distribution of Case Description"
   ]
  },
  {
   "cell_type": "code",
   "execution_count": 16,
   "metadata": {},
   "outputs": [
    {
     "data": {
      "image/png": "[encoded data removed]",
      "text/plain": [
       "<Figure size 432x288 with 1 Axes>"
      ]
     },
     "metadata": {},
     "output_type": "display_data"
    }
   ],
   "source": [
    "plot_sample_length_distribution(desc_text)"
   ]
  },
  {
   "cell_type": "markdown",
   "metadata": {},
   "source": [
    "# Plot of Reason code distribution in the Case log"
   ]
  },
  {
   "cell_type": "code",
   "execution_count": 31,
   "metadata": {},
   "outputs": [
    {
     "data": {
      "image/png": "[encoded data removed]",
      "text/plain": [
       "<Figure size 864x216 with 1 Axes>"
      ]
     },
     "metadata": {},
     "output_type": "display_data"
    }
   ],
   "source": [
    "num_classes = 5\n",
    "count_map = Counter(sfdc_data_filtered['label'])\n",
    "\n",
    "counts = count_map.values()\n",
    "\n",
    "[count_map[i] for i in range(num_classes)]\n",
    "idx = ['Delivery/Shipments','Systems Support','Returns','Credit','Refusals']\n",
    "\n",
    "plt.figure(figsize=(12, 3))  # width:20, height:3\n",
    "plt.bar(idx, counts, width=0.8, color='b')\n",
    "plt.xlabel('Class')\n",
    "plt.ylabel('Number of samples')\n",
    "plt.title('Class distribution')\n",
    "plt.xticks(idx, idx)\n",
    "plt.show()"
   ]
  },
  {
   "cell_type": "markdown",
   "metadata": {},
   "source": [
    "# We use StratifiedShuffleSplit to created train and test samples, and maintain same distribution of Reason codes in train and test set"
   ]
  },
  {
   "cell_type": "code",
   "execution_count": 13,
   "metadata": {},
   "outputs": [
    {
     "data": {
      "text/plain": [
       "0    0.378378\n",
       "1    0.270270\n",
       "2    0.162162\n",
       "3    0.113514\n",
       "4    0.075676\n",
       "Name: label, dtype: float64"
      ]
     },
     "execution_count": 13,
     "metadata": {},
     "output_type": "execute_result"
    }
   ],
   "source": [
    "#Distribution of reason codes in the filtered data\n",
    "sfdc_data_filtered[\"label\"].value_counts() / len(sfdc_data_filtered)"
   ]
  },
  {
   "cell_type": "code",
   "execution_count": 14,
   "metadata": {},
   "outputs": [],
   "source": [
    "#We use Stratifed Split to maintain the same distribution of Reason codes in Train and Test data\n",
    "from sklearn.model_selection import StratifiedShuffleSplit\n",
    "\n",
    "split = StratifiedShuffleSplit(n_splits=1,test_size=0.2,random_state=42)\n",
    "\n",
    "for train_index, test_index in split.split(sfdc_data_filtered,sfdc_data_filtered[\"label\"]):\n",
    "    strat_train_set = sfdc_data_filtered.iloc[train_index]\n",
    "    strat_test_set = sfdc_data_filtered.iloc[test_index]"
   ]
  },
  {
   "cell_type": "code",
   "execution_count": 15,
   "metadata": {},
   "outputs": [
    {
     "data": {
      "text/plain": [
       "0    0.378378\n",
       "1    0.270270\n",
       "2    0.162162\n",
       "3    0.114865\n",
       "4    0.074324\n",
       "Name: label, dtype: float64"
      ]
     },
     "execution_count": 15,
     "metadata": {},
     "output_type": "execute_result"
    }
   ],
   "source": [
    "#We see the train set has same distribution of reason codes as in original sample\n",
    "strat_train_set[\"label\"].value_counts() / len(strat_train_set)"
   ]
  },
  {
   "cell_type": "code",
   "execution_count": 16,
   "metadata": {},
   "outputs": [
    {
     "data": {
      "text/plain": [
       "0    0.378378\n",
       "1    0.270270\n",
       "2    0.162162\n",
       "3    0.108108\n",
       "4    0.081081\n",
       "Name: label, dtype: float64"
      ]
     },
     "execution_count": 16,
     "metadata": {},
     "output_type": "execute_result"
    }
   ],
   "source": [
    "#We see the test set has same distribution of reason codes as in original sample\n",
    "strat_test_set[\"label\"].value_counts() / len(strat_test_set)"
   ]
  },
  {
   "cell_type": "code",
   "execution_count": 17,
   "metadata": {},
   "outputs": [],
   "source": [
    "train_texts=strat_train_set['Last Case Comment'].astype(str)\n",
    "train_labels=strat_train_set['label'].astype(str)\n",
    "train_texts=train_texts.reset_index(drop = True)\n",
    "train_labels=train_labels.reset_index(drop = True)"
   ]
  },
  {
   "cell_type": "markdown",
   "metadata": {},
   "source": [
    "# We print train and test texts, in the raw form"
   ]
  },
  {
   "cell_type": "code",
   "execution_count": 18,
   "metadata": {},
   "outputs": [
    {
     "name": "stdout",
     "output_type": "stream",
     "text": [
      "Called Larry to let him know; he can now access grower orders in mymonsanto.\n",
      "1\n",
      "148\n",
      "Paperwork generated and sent to WH, Ops, & Carrier\n"
     ]
    }
   ],
   "source": [
    "#We print some sample rows from train data, still the data is not in normalized form\n",
    "print(train_texts[0])\n",
    "print(train_labels[0])\n",
    "print(len(train_texts))\n",
    "print(train_texts[147])"
   ]
  },
  {
   "cell_type": "code",
   "execution_count": 19,
   "metadata": {},
   "outputs": [],
   "source": [
    "test_texts=strat_test_set['Last Case Comment'].astype(str)\n",
    "test_texts=test_texts.reset_index(drop = True)\n",
    "test_labels=strat_test_set['label'].astype(str)\n",
    "test_labels=test_labels.reset_index(drop = True)"
   ]
  },
  {
   "cell_type": "code",
   "execution_count": 20,
   "metadata": {},
   "outputs": [
    {
     "name": "stdout",
     "output_type": "stream",
     "text": [
      "37\n",
      "Mike, Jamie Pruitt called on Monsanto invoices do not flow overnight to Winfield on ASC/Winfield service center only; because invoices will be duplicated. Winfield manually matches up invoices with purchases orders to close out invoices on the Winfield side. Debra J. Greenlee Winfield at Monsanto\n",
      "1\n",
      "Ca\n",
      "1\n"
     ]
    }
   ],
   "source": [
    "print(len(test_texts))\n",
    "print(test_texts[0])\n",
    "print(test_labels[0])\n",
    "print(test_texts[36])\n",
    "print(test_labels[36])"
   ]
  },
  {
   "cell_type": "markdown",
   "metadata": {},
   "source": [
    "# We normalize the train and test data"
   ]
  },
  {
   "cell_type": "code",
   "execution_count": 21,
   "metadata": {},
   "outputs": [
    {
     "name": "stdout",
     "output_type": "stream",
     "text": [
      "Spoke with Cindy. Shipping 1/31/2018 5007340229\n",
      "after normalization\n",
      "spoke cindy shipping\n"
     ]
    }
   ],
   "source": [
    "norm_train_texts = []\n",
    "for i in range (len(train_texts)):\n",
    "    norm_train_texts.append(normalize_text(train_texts[i]))\n",
    "    \n",
    "print(train_texts[15])\n",
    "print(\"after normalization\")\n",
    "print(norm_train_texts[15])"
   ]
  },
  {
   "cell_type": "code",
   "execution_count": 22,
   "metadata": {},
   "outputs": [],
   "source": [
    "norm_test_texts = []\n",
    "for i in range (len(test_texts)):\n",
    "    norm_test_texts.append(normalize_text(test_texts[i]))"
   ]
  },
  {
   "cell_type": "code",
   "execution_count": 23,
   "metadata": {},
   "outputs": [
    {
     "name": "stdout",
     "output_type": "stream",
     "text": [
      "Mike, Jamie Pruitt called on Monsanto invoices do not flow overnight to Winfield on ASC/Winfield service center only; because invoices will be duplicated. Winfield manually matches up invoices with purchases orders to close out invoices on the Winfield side. Debra J. Greenlee Winfield at Monsanto\n",
      "after normalization\n",
      "mike jamie pruitt called monsanto invoices flow overnight winfield ascwinfield service center invoices duplicated winfield manually matches invoices purchases orders close invoices winfield side debra greenlee winfield monsanto\n"
     ]
    }
   ],
   "source": [
    "print(test_texts[0])\n",
    "print(\"after normalization\")\n",
    "print(norm_test_texts[0])"
   ]
  },
  {
   "cell_type": "markdown",
   "metadata": {},
   "source": [
    "# We create TF-IDF vectors with N-gram model from the train data (Case description text and reason codes)"
   ]
  },
  {
   "cell_type": "code",
   "execution_count": 25,
   "metadata": {},
   "outputs": [],
   "source": [
    "\n",
    "import numpy as np\n",
    "\n",
    "\n",
    "from sklearn.feature_extraction.text import TfidfVectorizer\n",
    "from sklearn.feature_selection import SelectKBest\n",
    "from sklearn.feature_selection import f_classif\n",
    "\n",
    "# Vectorization parameters\n",
    "\n",
    "# Range (inclusive) of n-gram sizes for tokenizing text.\n",
    "NGRAM_RANGE = (1, 2)\n",
    "\n",
    "# Limit on the number of features. We use the top 20K features.\n",
    "TOP_K = 20000\n",
    "\n",
    "# Whether text should be split into word or character n-grams.\n",
    "# One of 'word', 'char'.\n",
    "TOKEN_MODE = 'word'\n",
    "\n",
    "# Minimum document/corpus frequency below which a token will be discarded.\n",
    "MIN_DOCUMENT_FREQUENCY = 2\n",
    "\n",
    "# Limit on the length of text sequences. Sequences longer than this\n",
    "# will be truncated.\n",
    "MAX_SEQUENCE_LENGTH = 500\n",
    "\n",
    "\n",
    "def ngram_vectorize(train_texts, train_labels, val_texts):\n",
    "    \"\"\"Vectorizes texts as ngram vectors.\n",
    "\n",
    "    1 text = 1 tf-idf vector the length of vocabulary of uni-grams + bi-grams.\n",
    "\n",
    "    # Arguments\n",
    "        train_texts: list, training text strings.\n",
    "        train_labels: np.ndarray, training labels.\n",
    "        val_texts: list, validation text strings.\n",
    "\n",
    "    # Returns\n",
    "        x_train, x_val: vectorized training and validation texts\n",
    "    \"\"\"\n",
    "    # Create keyword arguments to pass to the 'tf-idf' vectorizer.\n",
    "    kwargs = {\n",
    "            'ngram_range': NGRAM_RANGE,  # Use 1-grams + 2-grams.\n",
    "            'dtype': 'int32',\n",
    "            'strip_accents': 'unicode',\n",
    "            'decode_error': 'replace',\n",
    "            'analyzer': TOKEN_MODE,  # Split text into word tokens.\n",
    "            'min_df': MIN_DOCUMENT_FREQUENCY,\n",
    "    }\n",
    "    vectorizer = TfidfVectorizer(**kwargs)\n",
    "\n",
    "    # Learn vocabulary from training texts and vectorize training texts.\n",
    "    x_train = vectorizer.fit_transform(train_texts)\n",
    "\n",
    "    # Vectorize validation texts.\n",
    "    x_val = vectorizer.transform(val_texts)\n",
    "\n",
    "    # Select top 'k' of the vectorized features.\n",
    "    selector = SelectKBest(f_classif, k=min(TOP_K, x_train.shape[1]))\n",
    "    selector.fit(x_train, train_labels)\n",
    "    x_train = selector.transform(x_train)\n",
    "    x_val = selector.transform(x_val)\n",
    "\n",
    "    x_train = x_train.astype('float32')\n",
    "    x_val = x_val.astype('float32')\n",
    "    return x_train, x_val\n",
    "\n"
   ]
  },
  {
   "cell_type": "code",
   "execution_count": 26,
   "metadata": {},
   "outputs": [],
   "source": [
    "# Vectorize texts.\n",
    "x_train, x_test = ngram_vectorize(norm_train_texts, train_labels, norm_test_texts)"
   ]
  },
  {
   "cell_type": "code",
   "execution_count": 27,
   "metadata": {},
   "outputs": [
    {
     "name": "stdout",
     "output_type": "stream",
     "text": [
      "(148, 250)\n",
      "(37, 250)\n"
     ]
    }
   ],
   "source": [
    "print(x_train.shape)\n",
    "print(x_test.shape)"
   ]
  },
  {
   "cell_type": "markdown",
   "metadata": {},
   "source": [
    "# We train Multinomial Naive Bayes and then check the accuracy (F1-score) on the test data"
   ]
  },
  {
   "cell_type": "code",
   "execution_count": 47,
   "metadata": {},
   "outputs": [
    {
     "name": "stdout",
     "output_type": "stream",
     "text": [
      "0.8626984126984126\n"
     ]
    }
   ],
   "source": [
    "from sklearn.naive_bayes import MultinomialNB\n",
    "from sklearn import metrics\n",
    "\n",
    "clf = MultinomialNB(alpha=.01)\n",
    "clf.fit(x_train, train_labels)\n",
    "\n",
    "pred = clf.predict(x_test)\n",
    "\n",
    "print(metrics.f1_score(test_labels, pred, average='macro'))"
   ]
  },
  {
   "cell_type": "markdown",
   "metadata": {},
   "source": [
    "# Plot of ROC curve for mult-class classification with OneVsRestClassifier of SVM"
   ]
  },
  {
   "cell_type": "code",
   "execution_count": 48,
   "metadata": {},
   "outputs": [
    {
     "name": "stdout",
     "output_type": "stream",
     "text": [
      "5\n",
      "1\n",
      "[0 1 0 0 0]\n"
     ]
    }
   ],
   "source": [
    "# Binarize the output\n",
    "from sklearn.metrics import roc_curve, auc\n",
    "from sklearn.preprocessing import label_binarize\n",
    "\n",
    "train_labels_bin = label_binarize(train_labels, classes=['0','1', '2', '3', '4'])\n",
    "n_classes = train_labels_bin.shape[1]\n",
    "print(n_classes)\n",
    "print(train_labels[0])\n",
    "print(train_labels_bin[0])"
   ]
  },
  {
   "cell_type": "code",
   "execution_count": 29,
   "metadata": {},
   "outputs": [],
   "source": [
    "test_labels_bin = label_binarize(test_labels, classes=['0','1', '2', '3', '4'])"
   ]
  },
  {
   "cell_type": "code",
   "execution_count": 41,
   "metadata": {},
   "outputs": [],
   "source": [
    "from sklearn import svm, datasets\n",
    "from sklearn.metrics import roc_curve, auc\n",
    "from sklearn.model_selection import train_test_split\n",
    "from sklearn.preprocessing import label_binarize\n",
    "from sklearn.multiclass import OneVsRestClassifier\n",
    "\n",
    "# Train OneVsRestClassifier of SVM to predict each class against the other\n",
    "classifier = OneVsRestClassifier(svm.SVC(kernel='linear', probability=True))\n",
    "y_score = classifier.fit(x_train, train_labels_bin).decision_function(x_test)\n"
   ]
  },
  {
   "cell_type": "code",
   "execution_count": 72,
   "metadata": {},
   "outputs": [],
   "source": [
    "# Compute ROC curve and ROC area for each class\n",
    "fpr = dict()\n",
    "tpr = dict()\n",
    "roc_auc = dict()\n",
    "for i in range(n_classes):\n",
    "    fpr[i], tpr[i], _ = roc_curve(test_labels_bin[:, i], y_score[:, i])\n",
    "    roc_auc[i] = auc(fpr[i], tpr[i])\n",
    "\n",
    "# Compute micro-average ROC curve and ROC area\n",
    "fpr[\"micro\"], tpr[\"micro\"], _ = roc_curve(test_labels_bin.ravel(), y_score.ravel())\n",
    "roc_auc[\"micro\"] = auc(fpr[\"micro\"], tpr[\"micro\"])"
   ]
  },
  {
   "cell_type": "code",
   "execution_count": 74,
   "metadata": {},
   "outputs": [
    {
     "data": {
      "image/png": "[encoded data removed]",
      "text/plain": [
       "<Figure size 432x288 with 1 Axes>"
      ]
     },
     "metadata": {},
     "output_type": "display_data"
    }
   ],
   "source": [
    "# Compute macro-average ROC curve and ROC area\n",
    "from scipy import interp\n",
    "from itertools import cycle\n",
    "# First aggregate all false positive rates\n",
    "all_fpr = np.unique(np.concatenate([fpr[i] for i in range(n_classes)]))\n",
    "\n",
    "# Then interpolate all ROC curves at this points\n",
    "mean_tpr = np.zeros_like(all_fpr)\n",
    "for i in range(n_classes):\n",
    "    mean_tpr += interp(all_fpr, fpr[i], tpr[i])\n",
    "\n",
    "# Finally average it and compute AUC\n",
    "mean_tpr /= n_classes\n",
    "\n",
    "fpr[\"macro\"] = all_fpr\n",
    "tpr[\"macro\"] = mean_tpr\n",
    "roc_auc[\"macro\"] = auc(fpr[\"macro\"], tpr[\"macro\"])\n",
    "\n",
    "# Plot all ROC curves\n",
    "plt.figure()\n",
    "plt.plot(fpr[\"micro\"], tpr[\"micro\"],\n",
    "         label='micro-average ROC curve (area = {0:0.2f})'\n",
    "               ''.format(roc_auc[\"micro\"]),\n",
    "         color='deeppink', linestyle=':', linewidth=4)\n",
    "\n",
    "plt.plot(fpr[\"macro\"], tpr[\"macro\"],\n",
    "         label='macro-average ROC curve (area = {0:0.2f})'\n",
    "               ''.format(roc_auc[\"macro\"]),\n",
    "         color='navy', linestyle=':', linewidth=4)\n",
    "\n",
    "colors = cycle(['aqua', 'darkorange', 'cornflowerblue'])\n",
    "for i, color in zip(range(n_classes), colors):\n",
    "    plt.plot(fpr[i], tpr[i], color=color, lw=lw,\n",
    "             label='ROC curve of class {0} (area = {1:0.2f})'\n",
    "             ''.format(i, roc_auc[i]))\n",
    "\n",
    "plt.plot([0, 1], [0, 1], 'k--', lw=lw)\n",
    "plt.xlim([0.0, 1.0])\n",
    "plt.ylim([0.0, 1.05])\n",
    "plt.xlabel('False Positive Rate')\n",
    "plt.ylabel('True Positive Rate')\n",
    "plt.title('Receiver operating characteristic')\n",
    "plt.legend(loc=\"lower right\")\n",
    "plt.show()"
   ]
  },
  {
   "cell_type": "code",
   "execution_count": 57,
   "metadata": {},
   "outputs": [
    {
     "name": "stdout",
     "output_type": "stream",
     "text": [
      "0.8337690631808279\n"
     ]
    }
   ],
   "source": [
    "y_test = classifier.predict(x_test)\n",
    "print(metrics.f1_score(test_labels_bin, y_test, average='macro'))"
   ]
  },
  {
   "cell_type": "markdown",
   "metadata": {},
   "source": [
    "# Extracting feature names"
   ]
  },
  {
   "cell_type": "code",
   "execution_count": 63,
   "metadata": {},
   "outputs": [
    {
     "name": "stdout",
     "output_type": "stream",
     "text": [
      "Extracting features from the training data using a sparse vectorizer\n",
      "n_samples: 148, n_features: 430\n",
      "\n",
      "n_samples: 37, n_features: 430\n"
     ]
    }
   ],
   "source": [
    "use_hashing = False\n",
    "from time import time\n",
    "from sklearn.feature_extraction.text import HashingVectorizer\n",
    "print(\"Extracting features from the training data using a sparse vectorizer\")\n",
    "if use_hashing:\n",
    "    vectorizer = HashingVectorizer(stop_words='english', alternate_sign=False,\n",
    "                                   n_features=TOP_K)\n",
    "    X_train = vectorizer.transform(norm_train_texts)\n",
    "else:\n",
    "    vectorizer = TfidfVectorizer(sublinear_tf=True, max_df=0.5,\n",
    "                                 stop_words='english')\n",
    "    X_train = vectorizer.fit_transform(norm_train_texts)\n",
    "print(\"n_samples: %d, n_features: %d\" % X_train.shape)\n",
    "print()\n",
    "\n",
    "X_test = vectorizer.transform(norm_test_texts)\n",
    "print(\"n_samples: %d, n_features: %d\" % X_test.shape)"
   ]
  },
  {
   "cell_type": "code",
   "execution_count": 81,
   "metadata": {},
   "outputs": [
    {
     "name": "stdout",
     "output_type": "stream",
     "text": [
      "Extracting %d best features by a chi-squared test\n",
      "['able', 'access', 'accessing', 'accessmymon', 'accessto', 'account', 'actually', 'add', 'added', 'additional', 'adjusted', 'admin', 'aesoph', 'ag', 'agp', 'agreed', 'amanda', 'amy', 'andrew', 'anytime', 'approve', 'asked', 'asking', 'assistance', 'attached', 'aug', 'aware', 'bags', 'balance', 'barn', 'base', 'beans', 'beja', 'believed', 'bell', 'ben', 'benjamin', 'bennett', 'blocker', 'blytheville', 'bobbi', 'boxes', 'brent', 'brian', 'bucket', 'bufford', 'businesslink', 'called', 'care', 'carrier', 'case', 'cases', 'causing', 'cell', 'chance', 'change', 'changed', 'charges', 'charles', 'charlie', 'chelsea', 'chris', 'cindy', 'cjf', 'claims', 'closed', 'compatibility', 'complete', 'completed', 'confirm', 'confirmed', 'connect', 'conrad', 'contact', 'coop', 'copy', 'corn', 'county', 'create', 'created', 'credit', 'credits', 'cross', 'customer', 'dale', 'date', 'dates', 'dealer', 'dealership', 'debbie', 'del', 'delete', 'deleted', 'deliver', 'delivered', 'deliveries', 'delivery', 'determine', 'discrepancies', 'dollar', 'driver', 'drivers', 'drop', 'ds', 'dsm', 'duckworth', 'duplicate', 'ecd', 'email', 'emailed', 'end', 'enter', 'entered', 'equipment', 'eric', 'error', 'ex', 'exception', 'expires', 'extra', 'farm', 'farmflex', 'farms', 'faulkner', 'feb', 'fed', 'fedex', 'ff', 'file', 'financial', 'financing', 'fix', 'flex', 'follow', 'followed', 'freight', 'fri', 'friday', 'generated', 'gets', 'getting', 'ginger', 'glenn', 'gln', 'going', 'goods', 'gpos', 'gr', 'grant', 'greenpoint', 'gretchen', 'grower', 'growers', 'happy', 'hay', 'hayes', 'heard', 'heidi', 'helena', 'help', 'helped', 'hold', 'hubner', 'hunter', 'id', 'ids', 'im', 'inactivated', 'info', 'inform', 'information', 'invoice', 'invoices', 'isa', 'issue', 'issued', 'issues', 'james', 'janet', 'jason', 'jean', 'jennie', 'jim', 'joey', 'jonathan', 'jones', 'june', 'justin', 'kaci', 'karen', 'kathleen', 'kenny', 'kevin', 'know', 'ks', 'lance', 'larry', 'later', 'leave', 'lee', 'left', 'let', 'levi', 'like', 'limit', 'lisa', 'list', 'load', 'location', 'locations', 'log', 'looking', 'lunch', 'madison', 'majority', 'make', 'march', 'mark', 'martin', 'marv', 'mason', 'material', 'mentioned', 'message', 'mgr', 'micheal', 'midlate', 'midmarch', 'mike', 'missing', 'mm', 'mo', 'mon', 'monday', 'monsanto', 'mymon', 'mymonsanto', 'mymonsantocom', 'nan', 'natasha', 'needed', 'needs', 'new', 'newberry', 'normally', 'nowell', 'nt', 'number', 'office', 'ok']\n"
     ]
    }
   ],
   "source": [
    "print(\"Extracting %d best features by a chi-squared test\")\n",
    "from sklearn.feature_selection import SelectKBest, chi2\n",
    "feature_names = vectorizer.get_feature_names()\n",
    "#print(feature_names)\n",
    "\n",
    "ch2 = SelectKBest(chi2, k=min(TOP_K, x_train.shape[1]))\n",
    "x_train = ch2.fit_transform(x_train, train_labels)\n",
    "x_test = ch2.transform(x_test)\n",
    "if feature_names:\n",
    "    # keep selected feature names\n",
    "    feature_names = [feature_names[i] for i in ch2.get_support(indices=True)]\n",
    "    print(feature_names)"
   ]
  },
  {
   "cell_type": "markdown",
   "metadata": {},
   "source": [
    "# Benchmarking Classifiers"
   ]
  },
  {
   "cell_type": "code",
   "execution_count": 88,
   "metadata": {},
   "outputs": [],
   "source": [
    "# Benchmark classifiers\n",
    "from sklearn.linear_model import RidgeClassifier\n",
    "from sklearn.pipeline import Pipeline\n",
    "from sklearn.svm import LinearSVC\n",
    "from sklearn.linear_model import SGDClassifier\n",
    "from sklearn.linear_model import Perceptron\n",
    "from sklearn.linear_model import PassiveAggressiveClassifier\n",
    "from sklearn.naive_bayes import BernoulliNB, MultinomialNB\n",
    "from sklearn.neighbors import KNeighborsClassifier\n",
    "from sklearn.neighbors import NearestCentroid\n",
    "from sklearn.ensemble import RandomForestClassifier\n",
    "from sklearn.utils.extmath import density\n",
    "from sklearn import metrics\n",
    "print_report=True\n",
    "print_cm=True\n",
    "print_top10=False\n",
    "def benchmark(clf):\n",
    "    print('_' * 80)\n",
    "    print(\"Training: \")\n",
    "    print(clf)\n",
    "    t0 = time()\n",
    "    clf.fit(x_train, train_labels)\n",
    "    train_time = time() - t0\n",
    "    print(\"train time: %0.3fs\" % train_time)\n",
    "    target_names=train_labels\n",
    "    t0 = time()\n",
    "    pred = clf.predict(x_test)\n",
    "    test_time = time() - t0\n",
    "    print(\"test time:  %0.3fs\" % test_time)\n",
    "\n",
    "    score = metrics.accuracy_score(test_labels, pred)\n",
    "    print(\"accuracy:   %0.3f\" % score)\n",
    "\n",
    "    if hasattr(clf, 'coef_'):\n",
    "        print(\"dimensionality: %d\" % clf.coef_.shape[1])\n",
    "        print(\"density: %f\" % density(clf.coef_))\n",
    "\n",
    "        if print_top10 and feature_names is not None:\n",
    "            print(\"top 10 keywords per class:\")\n",
    "            for i, label in enumerate(target_names):\n",
    "                top10 = np.argsort(clf.coef_[i])[-10:]\n",
    "                print(trim(\"%s: %s\" % (label, \" \".join(feature_names[top10]).astype(str))))\n",
    "        print()\n",
    "\n",
    "    if print_report:\n",
    "        print(\"classification report:\")\n",
    "        print(metrics.classification_report(test_labels, pred,\n",
    "                                            target_names=train_labels))\n",
    "\n",
    "    if print_cm:\n",
    "        print(\"confusion matrix:\")\n",
    "        print(metrics.confusion_matrix(test_labels, pred))\n",
    "\n",
    "    print()\n",
    "    clf_descr = str(clf).split('(')[0]\n",
    "    return clf_descr, score, train_time, test_time\n",
    "\n",
    "def trim(s):\n",
    "    \"\"\"Trim string to fit on terminal (assuming 80-column display)\"\"\"\n",
    "    return s if len(s) <= 80 else s[:77] + \"...\""
   ]
  },
  {
   "cell_type": "code",
   "execution_count": 89,
   "metadata": {},
   "outputs": [
    {
     "name": "stdout",
     "output_type": "stream",
     "text": [
      "================================================================================\n",
      "Ridge Classifier\n",
      "________________________________________________________________________________\n",
      "Training: \n",
      "RidgeClassifier(alpha=1.0, class_weight=None, copy_X=True, fit_intercept=True,\n",
      "        max_iter=None, normalize=False, random_state=None, solver='lsqr',\n",
      "        tol=0.01)\n",
      "train time: 0.023s\n",
      "test time:  0.000s\n",
      "accuracy:   0.865\n",
      "dimensionality: 250\n",
      "density: 1.000000\n",
      "\n",
      "classification report:\n",
      "             precision    recall  f1-score   support\n",
      "\n",
      "          1       0.93      0.93      0.93        14\n",
      "          0       0.78      0.70      0.74        10\n",
      "          1       0.86      1.00      0.92         6\n",
      "          1       0.75      0.75      0.75         4\n",
      "          0       1.00      1.00      1.00         3\n",
      "\n",
      "avg / total       0.86      0.86      0.86        37\n",
      "\n",
      "confusion matrix:\n",
      "[[13  1  0  0  0]\n",
      " [ 1  7  1  1  0]\n",
      " [ 0  0  6  0  0]\n",
      " [ 0  1  0  3  0]\n",
      " [ 0  0  0  0  3]]\n",
      "\n",
      "================================================================================\n",
      "Perceptron\n",
      "________________________________________________________________________________\n",
      "Training: \n",
      "Perceptron(alpha=0.0001, class_weight=None, eta0=1.0, fit_intercept=True,\n",
      "      max_iter=None, n_iter=50, n_jobs=1, penalty=None, random_state=0,\n",
      "      shuffle=True, tol=None, verbose=0, warm_start=False)\n",
      "train time: 0.017s\n",
      "test time:  0.000s\n",
      "accuracy:   0.811\n",
      "dimensionality: 250\n",
      "density: 0.459200\n",
      "\n",
      "classification report:\n",
      "             precision    recall  f1-score   support\n",
      "\n",
      "          1       0.92      0.86      0.89        14\n",
      "          0       0.70      0.70      0.70        10\n",
      "          1       0.86      1.00      0.92         6\n",
      "          1       0.50      0.50      0.50         4\n",
      "          0       1.00      1.00      1.00         3\n",
      "\n",
      "avg / total       0.81      0.81      0.81        37\n",
      "\n",
      "confusion matrix:\n",
      "[[12  1  1  0  0]\n",
      " [ 1  7  0  2  0]\n",
      " [ 0  0  6  0  0]\n",
      " [ 0  2  0  2  0]\n",
      " [ 0  0  0  0  3]]\n",
      "\n",
      "================================================================================\n",
      "Passive-Aggressive\n",
      "________________________________________________________________________________\n",
      "Training: \n",
      "PassiveAggressiveClassifier(C=1.0, average=False, class_weight=None,\n",
      "              fit_intercept=True, loss='hinge', max_iter=None, n_iter=50,\n",
      "              n_jobs=1, random_state=None, shuffle=True, tol=None,\n",
      "              verbose=0, warm_start=False)\n",
      "train time: 0.007s\n",
      "test time:  0.000s\n",
      "accuracy:   0.865\n",
      "dimensionality: 250\n",
      "density: 0.986400\n",
      "\n",
      "classification report:\n",
      "             precision    recall  f1-score   support\n",
      "\n",
      "          1       0.93      0.93      0.93        14\n",
      "          0       0.78      0.70      0.74        10\n",
      "          1       0.86      1.00      0.92         6\n",
      "          1       0.75      0.75      0.75         4\n",
      "          0       1.00      1.00      1.00         3\n",
      "\n",
      "avg / total       0.86      0.86      0.86        37\n",
      "\n",
      "confusion matrix:\n",
      "[[13  1  0  0  0]\n",
      " [ 1  7  1  1  0]\n",
      " [ 0  0  6  0  0]\n",
      " [ 0  1  0  3  0]\n",
      " [ 0  0  0  0  3]]\n",
      "\n",
      "================================================================================\n",
      "kNN\n",
      "________________________________________________________________________________\n",
      "Training: \n",
      "KNeighborsClassifier(algorithm='auto', leaf_size=30, metric='minkowski',\n",
      "           metric_params=None, n_jobs=1, n_neighbors=10, p=2,\n",
      "           weights='uniform')\n",
      "train time: 0.000s\n",
      "test time:  0.002s\n",
      "accuracy:   0.514\n",
      "classification report:\n",
      "             precision    recall  f1-score   support\n",
      "\n",
      "          1       0.44      1.00      0.61        14\n",
      "          0       0.00      0.00      0.00        10\n",
      "          1       1.00      0.83      0.91         6\n",
      "          1       0.00      0.00      0.00         4\n",
      "          0       0.00      0.00      0.00         3\n",
      "\n",
      "avg / total       0.33      0.51      0.38        37\n",
      "\n",
      "confusion matrix:\n",
      "[[14  0  0  0  0]\n",
      " [10  0  0  0  0]\n",
      " [ 1  0  5  0  0]\n",
      " [ 4  0  0  0  0]\n",
      " [ 3  0  0  0  0]]\n",
      "\n",
      "================================================================================\n",
      "Random forest\n",
      "________________________________________________________________________________\n",
      "Training: \n",
      "RandomForestClassifier(bootstrap=True, class_weight=None, criterion='gini',\n",
      "            max_depth=None, max_features='auto', max_leaf_nodes=None,\n",
      "            min_impurity_decrease=0.0, min_impurity_split=None,\n",
      "            min_samples_leaf=1, min_samples_split=2,\n",
      "            min_weight_fraction_leaf=0.0, n_estimators=100, n_jobs=1,\n",
      "            oob_score=False, random_state=None, verbose=0,\n",
      "            warm_start=False)\n"
     ]
    },
    {
     "name": "stderr",
     "output_type": "stream",
     "text": [
      "C:\\Continuum\\anaconda3\\lib\\site-packages\\sklearn\\linear_model\\ridge.py:319: UserWarning: In Ridge, only 'sag' solver can currently fit the intercept when X is sparse. Solver has been automatically changed into 'sag'.\n",
      "  warnings.warn(\"In Ridge, only 'sag' solver can currently fit the \"\n",
      "C:\\Continuum\\anaconda3\\lib\\site-packages\\sklearn\\metrics\\classification.py:1428: UserWarning: labels size, 5, does not match size of target_names, 148\n",
      "  .format(len(labels), len(target_names))\n",
      "C:\\Continuum\\anaconda3\\lib\\site-packages\\sklearn\\linear_model\\stochastic_gradient.py:117: DeprecationWarning: n_iter parameter is deprecated in 0.19 and will be removed in 0.21. Use max_iter and tol instead.\n",
      "  DeprecationWarning)\n",
      "C:\\Continuum\\anaconda3\\lib\\site-packages\\sklearn\\metrics\\classification.py:1428: UserWarning: labels size, 5, does not match size of target_names, 148\n",
      "  .format(len(labels), len(target_names))\n",
      "C:\\Continuum\\anaconda3\\lib\\site-packages\\sklearn\\linear_model\\stochastic_gradient.py:117: DeprecationWarning: n_iter parameter is deprecated in 0.19 and will be removed in 0.21. Use max_iter and tol instead.\n",
      "  DeprecationWarning)\n",
      "C:\\Continuum\\anaconda3\\lib\\site-packages\\sklearn\\metrics\\classification.py:1428: UserWarning: labels size, 5, does not match size of target_names, 148\n",
      "  .format(len(labels), len(target_names))\n",
      "C:\\Continuum\\anaconda3\\lib\\site-packages\\sklearn\\metrics\\classification.py:1428: UserWarning: labels size, 5, does not match size of target_names, 148\n",
      "  .format(len(labels), len(target_names))\n",
      "C:\\Continuum\\anaconda3\\lib\\site-packages\\sklearn\\metrics\\classification.py:1135: UndefinedMetricWarning: Precision and F-score are ill-defined and being set to 0.0 in labels with no predicted samples.\n",
      "  'precision', 'predicted', average, warn_for)\n"
     ]
    },
    {
     "name": "stdout",
     "output_type": "stream",
     "text": [
      "train time: 0.122s\n",
      "test time:  0.000s\n",
      "accuracy:   0.757\n",
      "classification report:\n",
      "             precision    recall  f1-score   support\n",
      "\n",
      "          1       0.67      1.00      0.80        14\n",
      "          0       0.88      0.70      0.78        10\n",
      "          1       0.67      0.33      0.44         6\n",
      "          1       1.00      0.50      0.67         4\n",
      "          0       1.00      1.00      1.00         3\n",
      "\n",
      "avg / total       0.79      0.76      0.74        37\n",
      "\n",
      "confusion matrix:\n",
      "[[14  0  0  0  0]\n",
      " [ 2  7  1  0  0]\n",
      " [ 4  0  2  0  0]\n",
      " [ 1  1  0  2  0]\n",
      " [ 0  0  0  0  3]]\n",
      "\n"
     ]
    },
    {
     "name": "stderr",
     "output_type": "stream",
     "text": [
      "C:\\Continuum\\anaconda3\\lib\\site-packages\\sklearn\\metrics\\classification.py:1428: UserWarning: labels size, 5, does not match size of target_names, 148\n",
      "  .format(len(labels), len(target_names))\n"
     ]
    }
   ],
   "source": [
    "results = []\n",
    "for clf, name in (\n",
    "        (RidgeClassifier(tol=1e-2, solver=\"lsqr\"), \"Ridge Classifier\"),\n",
    "        (Perceptron(n_iter=50), \"Perceptron\"),\n",
    "        (PassiveAggressiveClassifier(n_iter=50), \"Passive-Aggressive\"),\n",
    "        (KNeighborsClassifier(n_neighbors=10), \"kNN\"),\n",
    "        (RandomForestClassifier(n_estimators=100), \"Random forest\")):\n",
    "    print('=' * 80)\n",
    "    print(name)\n",
    "    results.append(benchmark(clf))"
   ]
  },
  {
   "cell_type": "code",
   "execution_count": 90,
   "metadata": {},
   "outputs": [
    {
     "name": "stdout",
     "output_type": "stream",
     "text": [
      "================================================================================\n",
      "L2 penalty\n",
      "________________________________________________________________________________\n",
      "Training: \n",
      "LinearSVC(C=1.0, class_weight=None, dual=False, fit_intercept=True,\n",
      "     intercept_scaling=1, loss='squared_hinge', max_iter=1000,\n",
      "     multi_class='ovr', penalty='l2', random_state=None, tol=0.001,\n",
      "     verbose=0)\n",
      "train time: 0.000s\n",
      "test time:  0.000s\n",
      "accuracy:   0.892\n",
      "dimensionality: 250\n",
      "density: 1.000000\n",
      "\n",
      "classification report:\n",
      "             precision    recall  f1-score   support\n",
      "\n",
      "          1       0.93      1.00      0.97        14\n",
      "          0       0.88      0.70      0.78        10\n",
      "          1       0.86      1.00      0.92         6\n",
      "          1       0.75      0.75      0.75         4\n",
      "          0       1.00      1.00      1.00         3\n",
      "\n",
      "avg / total       0.89      0.89      0.89        37\n",
      "\n",
      "confusion matrix:\n",
      "[[14  0  0  0  0]\n",
      " [ 1  7  1  1  0]\n",
      " [ 0  0  6  0  0]\n",
      " [ 0  1  0  3  0]\n",
      " [ 0  0  0  0  3]]\n",
      "\n",
      "________________________________________________________________________________\n",
      "Training: \n",
      "SGDClassifier(alpha=0.0001, average=False, class_weight=None, epsilon=0.1,\n",
      "       eta0=0.0, fit_intercept=True, l1_ratio=0.15,\n",
      "       learning_rate='optimal', loss='hinge', max_iter=None, n_iter=50,\n",
      "       n_jobs=1, penalty='l2', power_t=0.5, random_state=None,\n",
      "       shuffle=True, tol=None, verbose=0, warm_start=False)\n",
      "train time: 0.010s\n",
      "test time:  0.003s\n",
      "accuracy:   0.865\n",
      "dimensionality: 250\n",
      "density: 0.706400\n",
      "\n",
      "classification report:\n",
      "             precision    recall  f1-score   support\n",
      "\n",
      "          1       0.93      1.00      0.97        14\n",
      "          0       0.86      0.60      0.71        10\n",
      "          1       0.86      1.00      0.92         6\n",
      "          1       0.60      0.75      0.67         4\n",
      "          0       1.00      1.00      1.00         3\n",
      "\n",
      "avg / total       0.87      0.86      0.86        37\n",
      "\n",
      "confusion matrix:\n",
      "[[14  0  0  0  0]\n",
      " [ 1  6  1  2  0]\n",
      " [ 0  0  6  0  0]\n",
      " [ 0  1  0  3  0]\n",
      " [ 0  0  0  0  3]]\n",
      "\n",
      "================================================================================\n",
      "L1 penalty\n",
      "________________________________________________________________________________\n",
      "Training: \n",
      "LinearSVC(C=1.0, class_weight=None, dual=False, fit_intercept=True,\n",
      "     intercept_scaling=1, loss='squared_hinge', max_iter=1000,\n",
      "     multi_class='ovr', penalty='l1', random_state=None, tol=0.001,\n",
      "     verbose=0)\n",
      "train time: 0.003s\n",
      "test time:  0.000s\n",
      "accuracy:   0.703\n",
      "dimensionality: 250\n",
      "density: 0.092800\n",
      "\n",
      "classification report:\n",
      "             precision    recall  f1-score   support\n",
      "\n",
      "          1       0.62      0.93      0.74        14\n",
      "          0       0.75      0.60      0.67        10\n",
      "          1       0.75      0.50      0.60         6\n",
      "          1       1.00      0.25      0.40         4\n",
      "          0       1.00      1.00      1.00         3\n",
      "\n",
      "avg / total       0.75      0.70      0.68        37\n",
      "\n",
      "confusion matrix:\n",
      "[[13  1  0  0  0]\n",
      " [ 3  6  1  0  0]\n",
      " [ 3  0  3  0  0]\n",
      " [ 2  1  0  1  0]\n",
      " [ 0  0  0  0  3]]\n",
      "\n",
      "________________________________________________________________________________\n",
      "Training: \n",
      "SGDClassifier(alpha=0.0001, average=False, class_weight=None, epsilon=0.1,\n",
      "       eta0=0.0, fit_intercept=True, l1_ratio=0.15,\n",
      "       learning_rate='optimal', loss='hinge', max_iter=None, n_iter=50,\n",
      "       n_jobs=1, penalty='l1', power_t=0.5, random_state=None,\n",
      "       shuffle=True, tol=None, verbose=0, warm_start=False)\n",
      "train time: 0.007s\n",
      "test time:  0.000s\n",
      "accuracy:   0.865\n",
      "dimensionality: 250\n",
      "density: 0.504800\n",
      "\n",
      "classification report:\n",
      "             precision    recall  f1-score   support\n",
      "\n",
      "          1       0.93      0.93      0.93        14\n",
      "          0       0.78      0.70      0.74        10\n",
      "          1       0.86      1.00      0.92         6\n",
      "          1       0.75      0.75      0.75         4\n",
      "          0       1.00      1.00      1.00         3\n",
      "\n",
      "avg / total       0.86      0.86      0.86        37\n",
      "\n",
      "confusion matrix:\n",
      "[[13  1  0  0  0]\n",
      " [ 1  7  1  1  0]\n",
      " [ 0  0  6  0  0]\n",
      " [ 0  1  0  3  0]\n",
      " [ 0  0  0  0  3]]\n",
      "\n"
     ]
    },
    {
     "name": "stderr",
     "output_type": "stream",
     "text": [
      "C:\\Continuum\\anaconda3\\lib\\site-packages\\sklearn\\metrics\\classification.py:1428: UserWarning: labels size, 5, does not match size of target_names, 148\n",
      "  .format(len(labels), len(target_names))\n",
      "C:\\Continuum\\anaconda3\\lib\\site-packages\\sklearn\\linear_model\\stochastic_gradient.py:117: DeprecationWarning: n_iter parameter is deprecated in 0.19 and will be removed in 0.21. Use max_iter and tol instead.\n",
      "  DeprecationWarning)\n",
      "C:\\Continuum\\anaconda3\\lib\\site-packages\\sklearn\\metrics\\classification.py:1428: UserWarning: labels size, 5, does not match size of target_names, 148\n",
      "  .format(len(labels), len(target_names))\n",
      "C:\\Continuum\\anaconda3\\lib\\site-packages\\sklearn\\metrics\\classification.py:1428: UserWarning: labels size, 5, does not match size of target_names, 148\n",
      "  .format(len(labels), len(target_names))\n",
      "C:\\Continuum\\anaconda3\\lib\\site-packages\\sklearn\\linear_model\\stochastic_gradient.py:117: DeprecationWarning: n_iter parameter is deprecated in 0.19 and will be removed in 0.21. Use max_iter and tol instead.\n",
      "  DeprecationWarning)\n",
      "C:\\Continuum\\anaconda3\\lib\\site-packages\\sklearn\\metrics\\classification.py:1428: UserWarning: labels size, 5, does not match size of target_names, 148\n",
      "  .format(len(labels), len(target_names))\n"
     ]
    }
   ],
   "source": [
    "for penalty in [\"l2\", \"l1\"]:\n",
    "    print('=' * 80)\n",
    "    print(\"%s penalty\" % penalty.upper())\n",
    "    # Train Liblinear model\n",
    "    results.append(benchmark(LinearSVC(penalty=penalty, dual=False,\n",
    "                                       tol=1e-3)))\n",
    "\n",
    "    # Train SGD model\n",
    "    results.append(benchmark(SGDClassifier(alpha=.0001, n_iter=50,\n",
    "                                           penalty=penalty)))"
   ]
  },
  {
   "cell_type": "code",
   "execution_count": 92,
   "metadata": {},
   "outputs": [
    {
     "name": "stdout",
     "output_type": "stream",
     "text": [
      "================================================================================\n",
      "Elastic-Net penalty\n",
      "________________________________________________________________________________\n",
      "Training: \n",
      "SGDClassifier(alpha=0.0001, average=False, class_weight=None, epsilon=0.1,\n",
      "       eta0=0.0, fit_intercept=True, l1_ratio=0.15,\n",
      "       learning_rate='optimal', loss='hinge', max_iter=None, n_iter=50,\n",
      "       n_jobs=1, penalty='elasticnet', power_t=0.5, random_state=None,\n",
      "       shuffle=True, tol=None, verbose=0, warm_start=False)\n",
      "train time: 0.015s\n",
      "test time:  0.003s\n",
      "accuracy:   0.919\n",
      "dimensionality: 250\n",
      "density: 0.712800\n",
      "\n",
      "classification report:\n",
      "             precision    recall  f1-score   support\n",
      "\n",
      "          1       0.93      1.00      0.97        14\n",
      "          0       0.89      0.80      0.84        10\n",
      "          1       1.00      1.00      1.00         6\n",
      "          1       0.75      0.75      0.75         4\n",
      "          0       1.00      1.00      1.00         3\n",
      "\n",
      "avg / total       0.92      0.92      0.92        37\n",
      "\n",
      "confusion matrix:\n",
      "[[14  0  0  0  0]\n",
      " [ 1  8  0  1  0]\n",
      " [ 0  0  6  0  0]\n",
      " [ 0  1  0  3  0]\n",
      " [ 0  0  0  0  3]]\n",
      "\n",
      "================================================================================\n",
      "NearestCentroid (aka Rocchio classifier)\n",
      "________________________________________________________________________________\n",
      "Training: \n",
      "NearestCentroid(metric='euclidean', shrink_threshold=None)\n",
      "train time: 0.007s\n",
      "test time:  0.000s\n",
      "accuracy:   0.865\n",
      "classification report:\n",
      "             precision    recall  f1-score   support\n",
      "\n",
      "          1       1.00      0.86      0.92        14\n",
      "          0       0.75      0.90      0.82        10\n",
      "          1       1.00      0.83      0.91         6\n",
      "          1       0.60      0.75      0.67         4\n",
      "          0       1.00      1.00      1.00         3\n",
      "\n",
      "avg / total       0.89      0.86      0.87        37\n",
      "\n",
      "confusion matrix:\n",
      "[[12  2  0  0  0]\n",
      " [ 0  9  0  1  0]\n",
      " [ 0  0  5  1  0]\n",
      " [ 0  1  0  3  0]\n",
      " [ 0  0  0  0  3]]\n",
      "\n",
      "================================================================================\n",
      "Naive Bayes\n",
      "________________________________________________________________________________\n",
      "Training: \n",
      "MultinomialNB(alpha=0.01, class_prior=None, fit_prior=True)\n",
      "train time: 0.000s\n",
      "test time:  0.002s\n",
      "accuracy:   0.865\n",
      "dimensionality: 250\n",
      "density: 1.000000\n",
      "\n",
      "classification report:\n",
      "             precision    recall  f1-score   support\n",
      "\n",
      "          1       0.93      0.93      0.93        14\n",
      "          0       0.88      0.70      0.78        10\n",
      "          1       0.75      1.00      0.86         6\n",
      "          1       0.75      0.75      0.75         4\n",
      "          0       1.00      1.00      1.00         3\n",
      "\n",
      "avg / total       0.87      0.86      0.86        37\n",
      "\n",
      "confusion matrix:\n",
      "[[13  0  1  0  0]\n",
      " [ 1  7  1  1  0]\n",
      " [ 0  0  6  0  0]\n",
      " [ 0  1  0  3  0]\n",
      " [ 0  0  0  0  3]]\n",
      "\n",
      "________________________________________________________________________________\n",
      "Training: \n",
      "BernoulliNB(alpha=0.01, binarize=0.0, class_prior=None, fit_prior=True)\n",
      "train time: 0.002s\n",
      "test time:  0.003s\n",
      "accuracy:   0.811\n",
      "dimensionality: 250\n",
      "density: 1.000000\n",
      "\n",
      "classification report:\n",
      "             precision    recall  f1-score   support\n",
      "\n",
      "          1       1.00      0.79      0.88        14\n",
      "          0       0.88      0.70      0.78        10\n",
      "          1       0.55      1.00      0.71         6\n",
      "          1       0.75      0.75      0.75         4\n",
      "          0       1.00      1.00      1.00         3\n",
      "\n",
      "avg / total       0.87      0.81      0.82        37\n",
      "\n",
      "confusion matrix:\n",
      "[[11  0  3  0  0]\n",
      " [ 0  7  2  1  0]\n",
      " [ 0  0  6  0  0]\n",
      " [ 0  1  0  3  0]\n",
      " [ 0  0  0  0  3]]\n",
      "\n",
      "================================================================================\n",
      "LinearSVC with L1-based feature selection\n",
      "________________________________________________________________________________\n",
      "Training: \n",
      "Pipeline(memory=None,\n",
      "     steps=[('feature_selection', SelectFromModel(estimator=LinearSVC(C=1.0, class_weight=None, dual=False, fit_intercept=True,\n",
      "     intercept_scaling=1, loss='squared_hinge', max_iter=1000,\n",
      "     multi_class='ovr', penalty='l1', random_state=None, tol=0.001,\n",
      "     verbose=0),\n",
      "        norm_order=1, prefit=...ax_iter=1000,\n",
      "     multi_class='ovr', penalty='l2', random_state=None, tol=0.0001,\n",
      "     verbose=0))])\n",
      "train time: 0.010s\n",
      "test time:  0.002s\n",
      "accuracy:   0.838\n",
      "classification report:\n",
      "             precision    recall  f1-score   support\n",
      "\n",
      "          1       0.81      0.93      0.87        14\n",
      "          0       0.78      0.70      0.74        10\n",
      "          1       0.86      1.00      0.92         6\n",
      "          1       1.00      0.50      0.67         4\n",
      "          0       1.00      1.00      1.00         3\n",
      "\n",
      "avg / total       0.85      0.84      0.83        37\n",
      "\n",
      "confusion matrix:\n",
      "[[13  1  0  0  0]\n",
      " [ 2  7  1  0  0]\n",
      " [ 0  0  6  0  0]\n",
      " [ 1  1  0  2  0]\n",
      " [ 0  0  0  0  3]]\n",
      "\n"
     ]
    },
    {
     "name": "stderr",
     "output_type": "stream",
     "text": [
      "C:\\Continuum\\anaconda3\\lib\\site-packages\\sklearn\\linear_model\\stochastic_gradient.py:117: DeprecationWarning: n_iter parameter is deprecated in 0.19 and will be removed in 0.21. Use max_iter and tol instead.\n",
      "  DeprecationWarning)\n",
      "C:\\Continuum\\anaconda3\\lib\\site-packages\\sklearn\\metrics\\classification.py:1428: UserWarning: labels size, 5, does not match size of target_names, 148\n",
      "  .format(len(labels), len(target_names))\n",
      "C:\\Continuum\\anaconda3\\lib\\site-packages\\sklearn\\metrics\\classification.py:1428: UserWarning: labels size, 5, does not match size of target_names, 148\n",
      "  .format(len(labels), len(target_names))\n",
      "C:\\Continuum\\anaconda3\\lib\\site-packages\\sklearn\\metrics\\classification.py:1428: UserWarning: labels size, 5, does not match size of target_names, 148\n",
      "  .format(len(labels), len(target_names))\n",
      "C:\\Continuum\\anaconda3\\lib\\site-packages\\sklearn\\metrics\\classification.py:1428: UserWarning: labels size, 5, does not match size of target_names, 148\n",
      "  .format(len(labels), len(target_names))\n",
      "C:\\Continuum\\anaconda3\\lib\\site-packages\\sklearn\\metrics\\classification.py:1428: UserWarning: labels size, 5, does not match size of target_names, 148\n",
      "  .format(len(labels), len(target_names))\n"
     ]
    }
   ],
   "source": [
    "from sklearn.feature_selection import SelectFromModel\n",
    "# Train SGD with Elastic Net penalty\n",
    "print('=' * 80)\n",
    "print(\"Elastic-Net penalty\")\n",
    "results.append(benchmark(SGDClassifier(alpha=.0001, n_iter=50,\n",
    "                                       penalty=\"elasticnet\")))\n",
    "\n",
    "# Train NearestCentroid without threshold\n",
    "print('=' * 80)\n",
    "print(\"NearestCentroid (aka Rocchio classifier)\")\n",
    "results.append(benchmark(NearestCentroid()))\n",
    "\n",
    "# Train sparse Naive Bayes classifiers\n",
    "print('=' * 80)\n",
    "print(\"Naive Bayes\")\n",
    "results.append(benchmark(MultinomialNB(alpha=.01)))\n",
    "results.append(benchmark(BernoulliNB(alpha=.01)))\n",
    "\n",
    "print('=' * 80)\n",
    "print(\"LinearSVC with L1-based feature selection\")\n",
    "# The smaller C, the stronger the regularization.\n",
    "# The more regularization, the more sparsity.\n",
    "results.append(benchmark(Pipeline([\n",
    "  ('feature_selection', SelectFromModel(LinearSVC(penalty=\"l1\", dual=False,\n",
    "                                                  tol=1e-3))),\n",
    "  ('classification', LinearSVC(penalty=\"l2\"))])))"
   ]
  },
  {
   "cell_type": "code",
   "execution_count": 93,
   "metadata": {},
   "outputs": [
    {
     "data": {
      "image/png": "[encoded data removed]",
      "text/plain": [
       "<Figure size 864x576 with 1 Axes>"
      ]
     },
     "metadata": {},
     "output_type": "display_data"
    }
   ],
   "source": [
    "indices = np.arange(len(results))\n",
    "\n",
    "results = [[x[i] for x in results] for i in range(4)]\n",
    "\n",
    "clf_names, score, training_time, test_time = results\n",
    "training_time = np.array(training_time) / np.max(training_time)\n",
    "test_time = np.array(test_time) / np.max(test_time)\n",
    "\n",
    "plt.figure(figsize=(12, 8))\n",
    "plt.title(\"Score\")\n",
    "plt.barh(indices, score, .2, label=\"score\", color='navy')\n",
    "plt.barh(indices + .3, training_time, .2, label=\"training time\",\n",
    "         color='c')\n",
    "plt.barh(indices + .6, test_time, .2, label=\"test time\", color='darkorange')\n",
    "plt.yticks(())\n",
    "plt.legend(loc='best')\n",
    "plt.subplots_adjust(left=.25)\n",
    "plt.subplots_adjust(top=.95)\n",
    "plt.subplots_adjust(bottom=.05)\n",
    "\n",
    "for i, c in zip(indices, clf_names):\n",
    "    plt.text(-.3, i, c)\n",
    "\n",
    "plt.show()"
   ]
  }
 ],
 "metadata": {
  "kernelspec": {
   "display_name": "Python 3",
   "language": "python",
   "name": "python3"
  },
  "language_info": {
   "codemirror_mode": {
    "name": "ipython",
    "version": 3
   },
   "file_extension": ".py",
   "mimetype": "text/x-python",
   "name": "python",
   "nbconvert_exporter": "python",
   "pygments_lexer": "ipython3",
   "version": "3.6.5"
  }
 },
 "nbformat": 4,
 "nbformat_minor": 2
}
