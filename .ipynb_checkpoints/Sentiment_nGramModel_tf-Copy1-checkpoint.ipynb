{
 "cells": [
  {
   "cell_type": "code",
   "execution_count": 4,
   "metadata": {},
   "outputs": [
    {
     "data": {
      "text/html": [
       "<div>\n",
       "<style scoped>\n",
       "    .dataframe tbody tr th:only-of-type {\n",
       "        vertical-align: middle;\n",
       "    }\n",
       "\n",
       "    .dataframe tbody tr th {\n",
       "        vertical-align: top;\n",
       "    }\n",
       "\n",
       "    .dataframe thead th {\n",
       "        text-align: right;\n",
       "    }\n",
       "</style>\n",
       "<table border=\"1\" class=\"dataframe\">\n",
       "  <thead>\n",
       "    <tr style=\"text-align: right;\">\n",
       "      <th></th>\n",
       "      <th>Date</th>\n",
       "      <th>Subject*</th>\n",
       "      <th>Call Type</th>\n",
       "      <th>Assigned</th>\n",
       "      <th>Call Object Identifier</th>\n",
       "      <th>Call Recording</th>\n",
       "      <th>Case Number</th>\n",
       "      <th>Case Owner*</th>\n",
       "      <th>Case Subject</th>\n",
       "      <th>Case Status</th>\n",
       "      <th>Case Origin*</th>\n",
       "      <th>Reason*</th>\n",
       "      <th>Case Description</th>\n",
       "      <th>Count of Comments</th>\n",
       "      <th>Last Case Comment</th>\n",
       "      <th>Account Brand and Type</th>\n",
       "      <th>SAP ID</th>\n",
       "      <th>Account Name</th>\n",
       "      <th>Contact Name</th>\n",
       "    </tr>\n",
       "  </thead>\n",
       "  <tbody>\n",
       "    <tr>\n",
       "      <th>0</th>\n",
       "      <td>11/15/2017</td>\n",
       "      <td>Call 11/15/2017, 3:04:13 PM</td>\n",
       "      <td>Inbound</td>\n",
       "      <td>Debra Greenlee</td>\n",
       "      <td>104792934020171115</td>\n",
       "      <td>http://10.64.30.192:8091/?callid=1047929340</td>\n",
       "      <td>972606.0</td>\n",
       "      <td>Debra Greenlee</td>\n",
       "      <td>JDF credits</td>\n",
       "      <td>Closed</td>\n",
       "      <td>Phone</td>\n",
       "      <td>Credit</td>\n",
       "      <td>Valerie called about duplicate JDF credits on ...</td>\n",
       "      <td>1.0</td>\n",
       "      <td>Valerie called about duplicate JDF credits on ...</td>\n",
       "      <td>National - Dealer</td>\n",
       "      <td>1033841.0</td>\n",
       "      <td>MIDWAY CO-OP LURAY</td>\n",
       "      <td>Valerie Werthmann</td>\n",
       "    </tr>\n",
       "    <tr>\n",
       "      <th>1</th>\n",
       "      <td>6/7/2018</td>\n",
       "      <td>Call 6/7/2018, 8:27:51 AM</td>\n",
       "      <td>Inbound</td>\n",
       "      <td>Debra Greenlee</td>\n",
       "      <td>304737374990180607</td>\n",
       "      <td>http://10.64.30.192:8091/?callid=3047373749</td>\n",
       "      <td>1296323.0</td>\n",
       "      <td>Debra Greenlee</td>\n",
       "      <td>Farmflex Financing reversal</td>\n",
       "      <td>Closed</td>\n",
       "      <td>Phone</td>\n",
       "      <td>Credit</td>\n",
       "      <td>Lisa called entered in a farmflex invoice in e...</td>\n",
       "      <td>1.0</td>\n",
       "      <td>Lisa called entered in a farmflex invoice in e...</td>\n",
       "      <td>National - Dealer</td>\n",
       "      <td>3383451.0</td>\n",
       "      <td>GREENPOINT AG ALTHEIMER</td>\n",
       "      <td>Lisa Waddle</td>\n",
       "    </tr>\n",
       "    <tr>\n",
       "      <th>2</th>\n",
       "      <td>5/10/2018</td>\n",
       "      <td>Call 5/10/2018, 3:11:45 PM</td>\n",
       "      <td>Inbound</td>\n",
       "      <td>Debra Greenlee</td>\n",
       "      <td>304730318670180510</td>\n",
       "      <td>http://10.64.30.192:8091/?callid=3047303186</td>\n",
       "      <td>1267970.0</td>\n",
       "      <td>Debra Greenlee</td>\n",
       "      <td>New C3 user registration</td>\n",
       "      <td>Closed</td>\n",
       "      <td>Phone</td>\n",
       "      <td>Systems Support</td>\n",
       "      <td>Lisa Waddle needed assistance with registering...</td>\n",
       "      <td>1.0</td>\n",
       "      <td>Lisa Waddle needed assistance with registering...</td>\n",
       "      <td>National - Dealer</td>\n",
       "      <td>3383451.0</td>\n",
       "      <td>GREENPOINT AG ALTHEIMER</td>\n",
       "      <td>Lisa Waddle</td>\n",
       "    </tr>\n",
       "    <tr>\n",
       "      <th>3</th>\n",
       "      <td>3/7/2018</td>\n",
       "      <td>Call 3/7/2018, 2:34:32 PM</td>\n",
       "      <td>Inbound</td>\n",
       "      <td>Debra Greenlee</td>\n",
       "      <td>204726086060180307</td>\n",
       "      <td>http://10.64.30.192:8091/?callid=2047260860</td>\n",
       "      <td>1144423.0</td>\n",
       "      <td>Debra Greenlee</td>\n",
       "      <td>MyMonsanto Issue</td>\n",
       "      <td>Closed</td>\n",
       "      <td>Phone</td>\n",
       "      <td>Manage Customer Accounts</td>\n",
       "      <td>Rahul, Darrell Scott with SAP: 1032247 AGRI AF...</td>\n",
       "      <td>2.0</td>\n",
       "      <td>Darrell called trying access C3 User access to...</td>\n",
       "      <td>National - Dealer</td>\n",
       "      <td>1032247.0</td>\n",
       "      <td>AGRI AFC DECATUR</td>\n",
       "      <td>Darrell Scott</td>\n",
       "    </tr>\n",
       "    <tr>\n",
       "      <th>4</th>\n",
       "      <td>6/18/2018</td>\n",
       "      <td>Call 6/18/2018, 10:09:15 AM</td>\n",
       "      <td>Inbound</td>\n",
       "      <td>Debra Greenlee</td>\n",
       "      <td>304740583190180618</td>\n",
       "      <td>http://10.64.30.192:8091/?callid=3047405831</td>\n",
       "      <td>1305717.0</td>\n",
       "      <td>Debra Greenlee</td>\n",
       "      <td>Farmflex</td>\n",
       "      <td>Closed</td>\n",
       "      <td>Phone</td>\n",
       "      <td>Credit</td>\n",
       "      <td>Jennie looking for farmflex credit on three gr...</td>\n",
       "      <td>1.0</td>\n",
       "      <td>Jennie looking for farmflex credit on three gr...</td>\n",
       "      <td>National - Dealer</td>\n",
       "      <td>3623699.0</td>\n",
       "      <td>TALLAHATCHIE F S CHARLESTON</td>\n",
       "      <td>Jennie Mullen</td>\n",
       "    </tr>\n",
       "  </tbody>\n",
       "</table>\n",
       "</div>"
      ],
      "text/plain": [
       "         Date                     Subject* Call Type        Assigned  \\\n",
       "0  11/15/2017  Call 11/15/2017, 3:04:13 PM   Inbound  Debra Greenlee   \n",
       "1    6/7/2018    Call 6/7/2018, 8:27:51 AM   Inbound  Debra Greenlee   \n",
       "2   5/10/2018   Call 5/10/2018, 3:11:45 PM   Inbound  Debra Greenlee   \n",
       "3    3/7/2018    Call 3/7/2018, 2:34:32 PM   Inbound  Debra Greenlee   \n",
       "4   6/18/2018  Call 6/18/2018, 10:09:15 AM   Inbound  Debra Greenlee   \n",
       "\n",
       "  Call Object Identifier                               Call Recording  \\\n",
       "0     104792934020171115  http://10.64.30.192:8091/?callid=1047929340   \n",
       "1     304737374990180607  http://10.64.30.192:8091/?callid=3047373749   \n",
       "2     304730318670180510  http://10.64.30.192:8091/?callid=3047303186   \n",
       "3     204726086060180307  http://10.64.30.192:8091/?callid=2047260860   \n",
       "4     304740583190180618  http://10.64.30.192:8091/?callid=3047405831   \n",
       "\n",
       "   Case Number     Case Owner*                 Case Subject Case Status  \\\n",
       "0     972606.0  Debra Greenlee                  JDF credits      Closed   \n",
       "1    1296323.0  Debra Greenlee  Farmflex Financing reversal      Closed   \n",
       "2    1267970.0  Debra Greenlee     New C3 user registration      Closed   \n",
       "3    1144423.0  Debra Greenlee             MyMonsanto Issue      Closed   \n",
       "4    1305717.0  Debra Greenlee                     Farmflex      Closed   \n",
       "\n",
       "  Case Origin*                   Reason*  \\\n",
       "0        Phone                    Credit   \n",
       "1        Phone                    Credit   \n",
       "2        Phone           Systems Support   \n",
       "3        Phone  Manage Customer Accounts   \n",
       "4        Phone                    Credit   \n",
       "\n",
       "                                    Case Description  Count of Comments  \\\n",
       "0  Valerie called about duplicate JDF credits on ...                1.0   \n",
       "1  Lisa called entered in a farmflex invoice in e...                1.0   \n",
       "2  Lisa Waddle needed assistance with registering...                1.0   \n",
       "3  Rahul, Darrell Scott with SAP: 1032247 AGRI AF...                2.0   \n",
       "4  Jennie looking for farmflex credit on three gr...                1.0   \n",
       "\n",
       "                                   Last Case Comment Account Brand and Type  \\\n",
       "0  Valerie called about duplicate JDF credits on ...      National - Dealer   \n",
       "1  Lisa called entered in a farmflex invoice in e...      National - Dealer   \n",
       "2  Lisa Waddle needed assistance with registering...      National - Dealer   \n",
       "3  Darrell called trying access C3 User access to...      National - Dealer   \n",
       "4  Jennie looking for farmflex credit on three gr...      National - Dealer   \n",
       "\n",
       "      SAP ID                 Account Name       Contact Name  \n",
       "0  1033841.0           MIDWAY CO-OP LURAY  Valerie Werthmann  \n",
       "1  3383451.0      GREENPOINT AG ALTHEIMER        Lisa Waddle  \n",
       "2  3383451.0      GREENPOINT AG ALTHEIMER        Lisa Waddle  \n",
       "3  1032247.0             AGRI AFC DECATUR      Darrell Scott  \n",
       "4  3623699.0  TALLAHATCHIE F S CHARLESTON      Jennie Mullen  "
      ]
     },
     "execution_count": 4,
     "metadata": {},
     "output_type": "execute_result"
    }
   ],
   "source": [
    "import os\n",
    "import random\n",
    "\n",
    "import numpy as np\n",
    "import pandas as pd\n",
    "sfdc_data = pd.read_csv('C:/Users/GCNDP/SFDC.csv')\n",
    "sfdc_data.head()"
   ]
  },
  {
   "cell_type": "code",
   "execution_count": 6,
   "metadata": {},
   "outputs": [
    {
     "data": {
      "text/plain": [
       "Delivery/Shipments          70\n",
       "Systems Support             50\n",
       "Returns                     30\n",
       "Credit                      21\n",
       "Refusals                    14\n",
       "Manage Customer Accounts    11\n",
       "Programs/Compensation       11\n",
       "Invoice                      8\n",
       "Accounts Receivable          7\n",
       "Compliance                   7\n",
       "Order Management             6\n",
       "Quality Of Service           6\n",
       "Inventory                    4\n",
       "Other                        3\n",
       "Product                      2\n",
       "Transfers/Swaps              2\n",
       "Claims                       2\n",
       "Manage Sales partner         1\n",
       "Pricing                      1\n",
       "Collection                   1\n",
       "Name: Reason*, dtype: int64"
      ]
     },
     "execution_count": 6,
     "metadata": {},
     "output_type": "execute_result"
    }
   ],
   "source": [
    "sfdc_data['Reason*'].value_counts()"
   ]
  },
  {
   "cell_type": "code",
   "execution_count": 7,
   "metadata": {},
   "outputs": [
    {
     "data": {
      "text/plain": [
       "National - Dealer     120\n",
       "Hubner - Dealer        75\n",
       "Specialty - Dealer     23\n",
       "Hubner - Grower        12\n",
       "Channel - Dealer        7\n",
       "Specialty - Grower      5\n",
       "- Dealer                5\n",
       "Stone - Dealer          2\n",
       "Jung - Dealer           2\n",
       "Stewart - Dealer        1\n",
       "WestBred - Grower       1\n",
       "Lewis - Grower          1\n",
       "REA - Dealer            1\n",
       "National - Grower       1\n",
       "Kruger - Grower         1\n",
       "Name: Account Brand and Type, dtype: int64"
      ]
     },
     "execution_count": 7,
     "metadata": {},
     "output_type": "execute_result"
    }
   ],
   "source": [
    "sfdc_data['Account Brand and Type'].value_counts()"
   ]
  },
  {
   "cell_type": "code",
   "execution_count": 8,
   "metadata": {},
   "outputs": [
    {
     "data": {
      "text/plain": [
       "Closed         254\n",
       "In Progress      3\n",
       "Name: Case Status, dtype: int64"
      ]
     },
     "execution_count": 8,
     "metadata": {},
     "output_type": "execute_result"
    }
   ],
   "source": [
    "sfdc_data['Case Status'].value_counts()"
   ]
  },
  {
   "cell_type": "code",
   "execution_count": 9,
   "metadata": {},
   "outputs": [
    {
     "data": {
      "text/plain": [
       "Outbound    151\n",
       "Inbound     106\n",
       "Name: Call Type, dtype: int64"
      ]
     },
     "execution_count": 9,
     "metadata": {},
     "output_type": "execute_result"
    }
   ],
   "source": [
    "sfdc_data['Call Type'].value_counts()"
   ]
  },
  {
   "cell_type": "code",
   "execution_count": 14,
   "metadata": {},
   "outputs": [],
   "source": [
    "#We take the four dominant reason codes\n",
    "sfdc_data. rename(columns={'Reason*': 'Reason'}, inplace=True)\n",
    "Reasons=['Delivery/Shipments','Systems Support','Returns','Credit','Refusals']\n",
    "sfdc_data_filtered=sfdc_data[sfdc_data.Reason.isin(Reasons)]"
   ]
  },
  {
   "cell_type": "code",
   "execution_count": 15,
   "metadata": {},
   "outputs": [
    {
     "data": {
      "text/plain": [
       "Delivery/Shipments    70\n",
       "Systems Support       50\n",
       "Returns               30\n",
       "Credit                21\n",
       "Refusals              14\n",
       "Name: Reason, dtype: int64"
      ]
     },
     "execution_count": 15,
     "metadata": {},
     "output_type": "execute_result"
    }
   ],
   "source": [
    "sfdc_data_filtered['Reason'].value_counts()"
   ]
  },
  {
   "cell_type": "code",
   "execution_count": 52,
   "metadata": {},
   "outputs": [
    {
     "name": "stderr",
     "output_type": "stream",
     "text": [
      "C:\\Continuum\\anaconda3\\lib\\site-packages\\pandas\\core\\indexing.py:543: SettingWithCopyWarning: \n",
      "A value is trying to be set on a copy of a slice from a DataFrame.\n",
      "Try using .loc[row_indexer,col_indexer] = value instead\n",
      "\n",
      "See the caveats in the documentation: http://pandas.pydata.org/pandas-docs/stable/indexing.html#indexing-view-versus-copy\n",
      "  self.obj[item] = s\n"
     ]
    }
   ],
   "source": [
    "sfdc_data_filtered.loc[(sfdc_data_filtered['Reason']=='Delivery/Shipments'),'label']='0'\n",
    "sfdc_data_filtered.loc[(sfdc_data_filtered['Reason']=='Systems Support'),'label']='1'\n",
    "sfdc_data_filtered.loc[(sfdc_data_filtered['Reason']=='Returns'),'label']='2'\n",
    "sfdc_data_filtered.loc[(sfdc_data_filtered['Reason']=='Credit'),'label']='3'\n",
    "sfdc_data_filtered.loc[(sfdc_data_filtered['Reason']=='Refusals'),'label']='4'"
   ]
  },
  {
   "cell_type": "code",
   "execution_count": 53,
   "metadata": {},
   "outputs": [
    {
     "data": {
      "text/plain": [
       "0    70\n",
       "1    50\n",
       "2    30\n",
       "3    21\n",
       "4    14\n",
       "Name: label, dtype: int64"
      ]
     },
     "execution_count": 53,
     "metadata": {},
     "output_type": "execute_result"
    }
   ],
   "source": [
    "sfdc_data_filtered['label'].value_counts()"
   ]
  },
  {
   "cell_type": "code",
   "execution_count": 41,
   "metadata": {},
   "outputs": [
    {
     "name": "stdout",
     "output_type": "stream",
     "text": [
      "Valerie called about duplicate JDF credits on Winfield statement. 61963773 - 24,147.08 61963802 - 12, 916.20\n"
     ]
    }
   ],
   "source": [
    "desc_text=sfdc_data_filtered['Case Description'].astype(str)\n",
    "print(desc_text[0])"
   ]
  },
  {
   "cell_type": "code",
   "execution_count": 24,
   "metadata": {},
   "outputs": [],
   "source": [
    "import numpy as np\n",
    "import matplotlib.pyplot as plt\n",
    "\n",
    "from collections import Counter\n",
    "from sklearn.feature_extraction.text import CountVectorizer\n",
    "\n",
    "\n",
    "def plot_frequency_distribution_of_ngrams(sample_texts,\n",
    "                                          ngram_range=(1, 2),\n",
    "                                          num_ngrams=50):\n",
    "    \"\"\"Plots the frequency distribution of n-grams.\n",
    "\n",
    "    # Arguments\n",
    "        samples_texts: list, sample texts.\n",
    "        ngram_range: tuple (min, mplt), The range of n-gram values to consider.\n",
    "            Min and mplt are the lower and upper bound values for the range.\n",
    "        num_ngrams: int, number of n-grams to plot.\n",
    "            Top `num_ngrams` frequent n-grams will be plotted.\n",
    "    \"\"\"\n",
    "    # Create args required for vectorizing.\n",
    "    kwargs = {\n",
    "            'ngram_range': (1, 1),\n",
    "            'dtype': 'int32',\n",
    "            'strip_accents': 'unicode',\n",
    "            'decode_error': 'replace',\n",
    "            'analyzer': 'word',  # Split text into word tokens.\n",
    "    }\n",
    "    vectorizer = CountVectorizer(**kwargs)\n",
    "\n",
    "    # This creates a vocabulary (dict, where keys are n-grams and values are\n",
    "    # idxices). This also converts every text to an array the length of\n",
    "    # vocabulary, where every element idxicates the count of the n-gram\n",
    "    # corresponding at that idxex in vocabulary.\n",
    "    vectorized_texts = vectorizer.fit_transform(sample_texts)\n",
    "\n",
    "    # This is the list of all n-grams in the index order from the vocabulary.\n",
    "    all_ngrams = list(vectorizer.get_feature_names())\n",
    "    num_ngrams = min(num_ngrams, len(all_ngrams))\n",
    "    # ngrams = all_ngrams[:num_ngrams]\n",
    "\n",
    "    # Add up the counts per n-gram ie. column-wise\n",
    "    all_counts = vectorized_texts.sum(axis=0).tolist()[0]\n",
    "\n",
    "    # Sort n-grams and counts by frequency and get top `num_ngrams` ngrams.\n",
    "    all_counts, all_ngrams = zip(*[(c, n) for c, n in sorted(\n",
    "        zip(all_counts, all_ngrams), reverse=True)])\n",
    "    ngrams = list(all_ngrams)[:num_ngrams]\n",
    "    counts = list(all_counts)[:num_ngrams]\n",
    "\n",
    "    idx = np.arange(num_ngrams)\n",
    "    plt.bar(idx, counts, width=0.8, color='b')\n",
    "    plt.xlabel('N-grams')\n",
    "    plt.ylabel('Frequencies')\n",
    "    plt.title('Frequency distribution of n-grams')\n",
    "    plt.xticks(idx, ngrams, rotation=45)\n",
    "    plt.show()\n",
    "\n",
    "\n",
    "def plot_sample_length_distribution(sample_texts):\n",
    "    \"\"\"Plots the sample length distribution.\n",
    "\n",
    "    # Arguments\n",
    "        samples_texts: list, sample texts.\n",
    "    \"\"\"\n",
    "    plt.hist([len(s) for s in sample_texts], 50)\n",
    "    plt.xlabel('Length of a sample')\n",
    "    plt.ylabel('Number of samples')\n",
    "    plt.title('Sample length distribution')\n",
    "    plt.show()\n",
    "\n",
    "\n",
    "def plot_class_distribution(labels):\n",
    "    \"\"\"Plots the class distribution.\n",
    "\n",
    "    # Arguments\n",
    "        labels: list, label values.\n",
    "            There should be at lease one sample for values in the\n",
    "            range (0, num_classes -1)\n",
    "    \"\"\"\n",
    "    num_classes = get_num_classes(labels)\n",
    "    count_map = Counter(labels)\n",
    "    counts = [count_map[i] for i in range(num_classes)]\n",
    "    idx = np.arange(num_classes)\n",
    "    plt.bar(idx, counts, width=0.8, color='b')\n",
    "    plt.xlabel('Class')\n",
    "    plt.ylabel('Number of samples')\n",
    "    plt.title('Class distribution')\n",
    "    plt.xticks(idx, idx)\n",
    "    plt.show()"
   ]
  },
  {
   "cell_type": "code",
   "execution_count": 33,
   "metadata": {},
   "outputs": [
    {
     "name": "stdout",
     "output_type": "stream",
     "text": [
      "4\n"
     ]
    }
   ],
   "source": [
    "num_classes = max(labels) + 1\n",
    "print(num_classes)"
   ]
  },
  {
   "cell_type": "code",
   "execution_count": 32,
   "metadata": {},
   "outputs": [
    {
     "name": "stdout",
     "output_type": "stream",
     "text": [
      "185.0\n"
     ]
    }
   ],
   "source": [
    "#Median number of words per sample\n",
    "num_words = [len(sfdc_data_filtered['Case Description'].astype(str).str.split()) for s in desc_text]\n",
    "print(np.median(num_words))"
   ]
  },
  {
   "cell_type": "code",
   "execution_count": 46,
   "metadata": {},
   "outputs": [
    {
     "data": {
      "image/png": "[encoded data removed]",
      "text/plain": [
       "<Figure size 432x288 with 1 Axes>"
      ]
     },
     "metadata": {},
     "output_type": "display_data"
    }
   ],
   "source": [
    "plot_frequency_distribution_of_ngrams(desc_text)"
   ]
  },
  {
   "cell_type": "code",
   "execution_count": 47,
   "metadata": {},
   "outputs": [
    {
     "data": {
      "image/png": "[encoded data removed]",
      "text/plain": [
       "<Figure size 432x288 with 1 Axes>"
      ]
     },
     "metadata": {},
     "output_type": "display_data"
    }
   ],
   "source": [
    "plot_sample_length_distribution(desc_text)"
   ]
  },
  {
   "cell_type": "code",
   "execution_count": 66,
   "metadata": {},
   "outputs": [
    {
     "name": "stdout",
     "output_type": "stream",
     "text": [
      "Counter({'0': 70, '1': 50, '2': 30, '3': 21, '4': 14})\n",
      "dict_values([21, 50, 70, 30, 14])\n",
      "[0 1 2 3 4]\n"
     ]
    },
    {
     "data": {
      "image/png": "[encoded data removed]",
      "text/plain": [
       "<Figure size 432x288 with 1 Axes>"
      ]
     },
     "metadata": {},
     "output_type": "display_data"
    }
   ],
   "source": [
    "num_classes = 5\n",
    "count_map = Counter(sfdc_data_filtered['label'])\n",
    "print(count_map)\n",
    "counts = count_map.values()\n",
    "print(counts)\n",
    "[count_map[i] for i in range(num_classes)]\n",
    "idx = np.arange(num_classes)\n",
    "print(idx)\n",
    "plt.bar(idx, counts, width=0.8, color='b')\n",
    "plt.xlabel('Class')\n",
    "plt.ylabel('Number of samples')\n",
    "plt.title('Class distribution')\n",
    "plt.xticks(idx, idx)\n",
    "plt.show()"
   ]
  },
  {
   "cell_type": "code",
   "execution_count": null,
   "metadata": {},
   "outputs": [],
   "source": []
  }
 ],
 "metadata": {
  "kernelspec": {
   "display_name": "Python 3",
   "language": "python",
   "name": "python3"
  },
  "language_info": {
   "codemirror_mode": {
    "name": "ipython",
    "version": 3
   },
   "file_extension": ".py",
   "mimetype": "text/x-python",
   "name": "python",
   "nbconvert_exporter": "python",
   "pygments_lexer": "ipython3",
   "version": "3.6.5"
  }
 },
 "nbformat": 4,
 "nbformat_minor": 2
}
