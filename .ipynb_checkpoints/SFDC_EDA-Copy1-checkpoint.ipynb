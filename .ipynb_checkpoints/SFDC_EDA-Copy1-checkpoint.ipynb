{
 "cells": [
  {
   "cell_type": "markdown",
   "metadata": {},
   "source": [
    "# This notebook performs Exploratory Data Analysis on the Salesforce Case log export data"
   ]
  },
  {
   "cell_type": "code",
   "execution_count": 1,
   "metadata": {},
   "outputs": [],
   "source": [
    "import os\n",
    "import random\n",
    "\n",
    "import numpy as np\n",
    "import pandas as pd"
   ]
  },
  {
   "cell_type": "markdown",
   "metadata": {},
   "source": [
    "# We read from the salesforce export data and check the first few rows"
   ]
  },
  {
   "cell_type": "code",
   "execution_count": 2,
   "metadata": {},
   "outputs": [
    {
     "data": {
      "text/html": [
       "<div>\n",
       "<style scoped>\n",
       "    .dataframe tbody tr th:only-of-type {\n",
       "        vertical-align: middle;\n",
       "    }\n",
       "\n",
       "    .dataframe tbody tr th {\n",
       "        vertical-align: top;\n",
       "    }\n",
       "\n",
       "    .dataframe thead th {\n",
       "        text-align: right;\n",
       "    }\n",
       "</style>\n",
       "<table border=\"1\" class=\"dataframe\">\n",
       "  <thead>\n",
       "    <tr style=\"text-align: right;\">\n",
       "      <th></th>\n",
       "      <th>Date</th>\n",
       "      <th>Subject*</th>\n",
       "      <th>Call Type</th>\n",
       "      <th>Assigned</th>\n",
       "      <th>Call Object Identifier</th>\n",
       "      <th>Call Recording</th>\n",
       "      <th>Case Number</th>\n",
       "      <th>Case Owner*</th>\n",
       "      <th>Case Subject</th>\n",
       "      <th>Case Status</th>\n",
       "      <th>Case Origin*</th>\n",
       "      <th>Reason*</th>\n",
       "      <th>Case Description</th>\n",
       "      <th>Count of Comments</th>\n",
       "      <th>Last Case Comment</th>\n",
       "      <th>Account Brand and Type</th>\n",
       "      <th>SAP ID</th>\n",
       "      <th>Account Name</th>\n",
       "      <th>Contact Name</th>\n",
       "    </tr>\n",
       "  </thead>\n",
       "  <tbody>\n",
       "    <tr>\n",
       "      <th>0</th>\n",
       "      <td>11/15/2017</td>\n",
       "      <td>Call 11/15/2017, 3:04:13 PM</td>\n",
       "      <td>Inbound</td>\n",
       "      <td>Debra Greenlee</td>\n",
       "      <td>104792934020171115</td>\n",
       "      <td>http://10.64.30.192:8091/?callid=1047929340</td>\n",
       "      <td>972606.0</td>\n",
       "      <td>Debra Greenlee</td>\n",
       "      <td>JDF credits</td>\n",
       "      <td>Closed</td>\n",
       "      <td>Phone</td>\n",
       "      <td>Credit</td>\n",
       "      <td>Valerie called about duplicate JDF credits on ...</td>\n",
       "      <td>1.0</td>\n",
       "      <td>Valerie called about duplicate JDF credits on ...</td>\n",
       "      <td>National - Dealer</td>\n",
       "      <td>1033841.0</td>\n",
       "      <td>MIDWAY CO-OP LURAY</td>\n",
       "      <td>Valerie Werthmann</td>\n",
       "    </tr>\n",
       "    <tr>\n",
       "      <th>1</th>\n",
       "      <td>6/7/2018</td>\n",
       "      <td>Call 6/7/2018, 8:27:51 AM</td>\n",
       "      <td>Inbound</td>\n",
       "      <td>Debra Greenlee</td>\n",
       "      <td>304737374990180607</td>\n",
       "      <td>http://10.64.30.192:8091/?callid=3047373749</td>\n",
       "      <td>1296323.0</td>\n",
       "      <td>Debra Greenlee</td>\n",
       "      <td>Farmflex Financing reversal</td>\n",
       "      <td>Closed</td>\n",
       "      <td>Phone</td>\n",
       "      <td>Credit</td>\n",
       "      <td>Lisa called entered in a farmflex invoice in e...</td>\n",
       "      <td>1.0</td>\n",
       "      <td>Lisa called entered in a farmflex invoice in e...</td>\n",
       "      <td>National - Dealer</td>\n",
       "      <td>3383451.0</td>\n",
       "      <td>GREENPOINT AG ALTHEIMER</td>\n",
       "      <td>Lisa Waddle</td>\n",
       "    </tr>\n",
       "    <tr>\n",
       "      <th>2</th>\n",
       "      <td>5/10/2018</td>\n",
       "      <td>Call 5/10/2018, 3:11:45 PM</td>\n",
       "      <td>Inbound</td>\n",
       "      <td>Debra Greenlee</td>\n",
       "      <td>304730318670180510</td>\n",
       "      <td>http://10.64.30.192:8091/?callid=3047303186</td>\n",
       "      <td>1267970.0</td>\n",
       "      <td>Debra Greenlee</td>\n",
       "      <td>New C3 user registration</td>\n",
       "      <td>Closed</td>\n",
       "      <td>Phone</td>\n",
       "      <td>Systems Support</td>\n",
       "      <td>Lisa Waddle needed assistance with registering...</td>\n",
       "      <td>1.0</td>\n",
       "      <td>Lisa Waddle needed assistance with registering...</td>\n",
       "      <td>National - Dealer</td>\n",
       "      <td>3383451.0</td>\n",
       "      <td>GREENPOINT AG ALTHEIMER</td>\n",
       "      <td>Lisa Waddle</td>\n",
       "    </tr>\n",
       "    <tr>\n",
       "      <th>3</th>\n",
       "      <td>3/7/2018</td>\n",
       "      <td>Call 3/7/2018, 2:34:32 PM</td>\n",
       "      <td>Inbound</td>\n",
       "      <td>Debra Greenlee</td>\n",
       "      <td>204726086060180307</td>\n",
       "      <td>http://10.64.30.192:8091/?callid=2047260860</td>\n",
       "      <td>1144423.0</td>\n",
       "      <td>Debra Greenlee</td>\n",
       "      <td>MyMonsanto Issue</td>\n",
       "      <td>Closed</td>\n",
       "      <td>Phone</td>\n",
       "      <td>Manage Customer Accounts</td>\n",
       "      <td>Rahul, Darrell Scott with SAP: 1032247 AGRI AF...</td>\n",
       "      <td>2.0</td>\n",
       "      <td>Darrell called trying access C3 User access to...</td>\n",
       "      <td>National - Dealer</td>\n",
       "      <td>1032247.0</td>\n",
       "      <td>AGRI AFC DECATUR</td>\n",
       "      <td>Darrell Scott</td>\n",
       "    </tr>\n",
       "    <tr>\n",
       "      <th>4</th>\n",
       "      <td>6/18/2018</td>\n",
       "      <td>Call 6/18/2018, 10:09:15 AM</td>\n",
       "      <td>Inbound</td>\n",
       "      <td>Debra Greenlee</td>\n",
       "      <td>304740583190180618</td>\n",
       "      <td>http://10.64.30.192:8091/?callid=3047405831</td>\n",
       "      <td>1305717.0</td>\n",
       "      <td>Debra Greenlee</td>\n",
       "      <td>Farmflex</td>\n",
       "      <td>Closed</td>\n",
       "      <td>Phone</td>\n",
       "      <td>Credit</td>\n",
       "      <td>Jennie looking for farmflex credit on three gr...</td>\n",
       "      <td>1.0</td>\n",
       "      <td>Jennie looking for farmflex credit on three gr...</td>\n",
       "      <td>National - Dealer</td>\n",
       "      <td>3623699.0</td>\n",
       "      <td>TALLAHATCHIE F S CHARLESTON</td>\n",
       "      <td>Jennie Mullen</td>\n",
       "    </tr>\n",
       "  </tbody>\n",
       "</table>\n",
       "</div>"
      ],
      "text/plain": [
       "         Date                     Subject* Call Type        Assigned  \\\n",
       "0  11/15/2017  Call 11/15/2017, 3:04:13 PM   Inbound  Debra Greenlee   \n",
       "1    6/7/2018    Call 6/7/2018, 8:27:51 AM   Inbound  Debra Greenlee   \n",
       "2   5/10/2018   Call 5/10/2018, 3:11:45 PM   Inbound  Debra Greenlee   \n",
       "3    3/7/2018    Call 3/7/2018, 2:34:32 PM   Inbound  Debra Greenlee   \n",
       "4   6/18/2018  Call 6/18/2018, 10:09:15 AM   Inbound  Debra Greenlee   \n",
       "\n",
       "  Call Object Identifier                               Call Recording  \\\n",
       "0     104792934020171115  http://10.64.30.192:8091/?callid=1047929340   \n",
       "1     304737374990180607  http://10.64.30.192:8091/?callid=3047373749   \n",
       "2     304730318670180510  http://10.64.30.192:8091/?callid=3047303186   \n",
       "3     204726086060180307  http://10.64.30.192:8091/?callid=2047260860   \n",
       "4     304740583190180618  http://10.64.30.192:8091/?callid=3047405831   \n",
       "\n",
       "   Case Number     Case Owner*                 Case Subject Case Status  \\\n",
       "0     972606.0  Debra Greenlee                  JDF credits      Closed   \n",
       "1    1296323.0  Debra Greenlee  Farmflex Financing reversal      Closed   \n",
       "2    1267970.0  Debra Greenlee     New C3 user registration      Closed   \n",
       "3    1144423.0  Debra Greenlee             MyMonsanto Issue      Closed   \n",
       "4    1305717.0  Debra Greenlee                     Farmflex      Closed   \n",
       "\n",
       "  Case Origin*                   Reason*  \\\n",
       "0        Phone                    Credit   \n",
       "1        Phone                    Credit   \n",
       "2        Phone           Systems Support   \n",
       "3        Phone  Manage Customer Accounts   \n",
       "4        Phone                    Credit   \n",
       "\n",
       "                                    Case Description  Count of Comments  \\\n",
       "0  Valerie called about duplicate JDF credits on ...                1.0   \n",
       "1  Lisa called entered in a farmflex invoice in e...                1.0   \n",
       "2  Lisa Waddle needed assistance with registering...                1.0   \n",
       "3  Rahul, Darrell Scott with SAP: 1032247 AGRI AF...                2.0   \n",
       "4  Jennie looking for farmflex credit on three gr...                1.0   \n",
       "\n",
       "                                   Last Case Comment Account Brand and Type  \\\n",
       "0  Valerie called about duplicate JDF credits on ...      National - Dealer   \n",
       "1  Lisa called entered in a farmflex invoice in e...      National - Dealer   \n",
       "2  Lisa Waddle needed assistance with registering...      National - Dealer   \n",
       "3  Darrell called trying access C3 User access to...      National - Dealer   \n",
       "4  Jennie looking for farmflex credit on three gr...      National - Dealer   \n",
       "\n",
       "      SAP ID                 Account Name       Contact Name  \n",
       "0  1033841.0           MIDWAY CO-OP LURAY  Valerie Werthmann  \n",
       "1  3383451.0      GREENPOINT AG ALTHEIMER        Lisa Waddle  \n",
       "2  3383451.0      GREENPOINT AG ALTHEIMER        Lisa Waddle  \n",
       "3  1032247.0             AGRI AFC DECATUR      Darrell Scott  \n",
       "4  3623699.0  TALLAHATCHIE F S CHARLESTON      Jennie Mullen  "
      ]
     },
     "execution_count": 2,
     "metadata": {},
     "output_type": "execute_result"
    }
   ],
   "source": [
    "sfdc_data = pd.read_csv('C:/Users/GCNDP/SFDC.csv')\n",
    "sfdc_data.head()"
   ]
  },
  {
   "cell_type": "markdown",
   "metadata": {},
   "source": [
    "# We check the Reason codes and their counts in the data, since our main goal is to classify a Case into its correct Reason code"
   ]
  },
  {
   "cell_type": "code",
   "execution_count": 3,
   "metadata": {},
   "outputs": [
    {
     "data": {
      "text/plain": [
       "Delivery/Shipments          70\n",
       "Systems Support             50\n",
       "Returns                     30\n",
       "Credit                      21\n",
       "Refusals                    14\n",
       "Manage Customer Accounts    11\n",
       "Programs/Compensation       11\n",
       "Invoice                      8\n",
       "Accounts Receivable          7\n",
       "Compliance                   7\n",
       "Order Management             6\n",
       "Quality Of Service           6\n",
       "Inventory                    4\n",
       "Other                        3\n",
       "Claims                       2\n",
       "Product                      2\n",
       "Transfers/Swaps              2\n",
       "Manage Sales partner         1\n",
       "Pricing                      1\n",
       "Collection                   1\n",
       "Name: Reason*, dtype: int64"
      ]
     },
     "execution_count": 3,
     "metadata": {},
     "output_type": "execute_result"
    }
   ],
   "source": [
    "sfdc_data['Reason*'].value_counts()"
   ]
  },
  {
   "cell_type": "code",
   "execution_count": 4,
   "metadata": {},
   "outputs": [
    {
     "data": {
      "text/plain": [
       "National - Dealer     120\n",
       "Hubner - Dealer        75\n",
       "Specialty - Dealer     23\n",
       "Hubner - Grower        12\n",
       "Channel - Dealer        7\n",
       "Specialty - Grower      5\n",
       "- Dealer                5\n",
       "Jung - Dealer           2\n",
       "Stone - Dealer          2\n",
       "Kruger - Grower         1\n",
       "Lewis - Grower          1\n",
       "REA - Dealer            1\n",
       "National - Grower       1\n",
       "Stewart - Dealer        1\n",
       "WestBred - Grower       1\n",
       "Name: Account Brand and Type, dtype: int64"
      ]
     },
     "execution_count": 4,
     "metadata": {},
     "output_type": "execute_result"
    }
   ],
   "source": [
    "sfdc_data['Account Brand and Type'].value_counts()"
   ]
  },
  {
   "cell_type": "code",
   "execution_count": 5,
   "metadata": {},
   "outputs": [
    {
     "data": {
      "text/plain": [
       "Closed         254\n",
       "In Progress      3\n",
       "Name: Case Status, dtype: int64"
      ]
     },
     "execution_count": 5,
     "metadata": {},
     "output_type": "execute_result"
    }
   ],
   "source": [
    "sfdc_data['Case Status'].value_counts()"
   ]
  },
  {
   "cell_type": "code",
   "execution_count": 6,
   "metadata": {},
   "outputs": [
    {
     "data": {
      "text/plain": [
       "Outbound    151\n",
       "Inbound     106\n",
       "Name: Call Type, dtype: int64"
      ]
     },
     "execution_count": 6,
     "metadata": {},
     "output_type": "execute_result"
    }
   ],
   "source": [
    "sfdc_data['Call Type'].value_counts()"
   ]
  },
  {
   "cell_type": "markdown",
   "metadata": {},
   "source": [
    "# We filter out the five dominant reason codes for our analysis"
   ]
  },
  {
   "cell_type": "code",
   "execution_count": 7,
   "metadata": {},
   "outputs": [
    {
     "name": "stdout",
     "output_type": "stream",
     "text": [
      "185\n",
      "0\n",
      "Valerie called about duplicate JDF credits on Winfield statement. 61963773 - 24,147.08 61963802 - 12, 916.20\n",
      "Credit\n",
      "1\n",
      "Lisa called entered in a farmflex invoice in error, needed help to reverse out of mymonsanto.\n",
      "Credit\n",
      "2\n",
      "Lisa Waddle needed assistance with registering for Winfield Businesslink - as a new user.\n",
      "Systems Support\n",
      "3\n",
      "Jennie looking for farmflex credit on three growers.\n",
      "Credit\n",
      "4\n",
      "Vicki needed help with access new path to Winfield Businesslink.\n",
      "Credit\n"
     ]
    }
   ],
   "source": [
    "#We take the four dominant reason codes\n",
    "sfdc_data.rename(columns={'Reason*': 'Reason'}, inplace=True)\n",
    "Reasons=['Delivery/Shipments','Systems Support','Returns','Credit','Refusals']\n",
    "sfdc_data_filtered=pd.DataFrame(sfdc_data.loc[sfdc_data['Reason'].isin(Reasons)])\n",
    "\n",
    "#reindex the filtered data\n",
    "sfdc_data_filtered = sfdc_data_filtered.reset_index(drop = True)\n"
   ]
  },
  {
   "cell_type": "code",
   "execution_count": 8,
   "metadata": {},
   "outputs": [
    {
     "data": {
      "text/plain": [
       "Delivery/Shipments    70\n",
       "Systems Support       50\n",
       "Returns               30\n",
       "Credit                21\n",
       "Refusals              14\n",
       "Name: Reason, dtype: int64"
      ]
     },
     "execution_count": 8,
     "metadata": {},
     "output_type": "execute_result"
    }
   ],
   "source": [
    "sfdc_data_filtered['Reason'].value_counts()"
   ]
  },
  {
   "cell_type": "markdown",
   "metadata": {},
   "source": [
    "# We assign a numeric code to each of these Reason codes, as given here"
   ]
  },
  {
   "cell_type": "code",
   "execution_count": 9,
   "metadata": {},
   "outputs": [],
   "source": [
    "sfdc_data_filtered.loc[(sfdc_data_filtered['Reason']=='Delivery/Shipments'),'label']='0'\n",
    "sfdc_data_filtered.loc[(sfdc_data_filtered['Reason']=='Systems Support'),'label']='1'\n",
    "sfdc_data_filtered.loc[(sfdc_data_filtered['Reason']=='Returns'),'label']='2'\n",
    "sfdc_data_filtered.loc[(sfdc_data_filtered['Reason']=='Credit'),'label']='3'\n",
    "sfdc_data_filtered.loc[(sfdc_data_filtered['Reason']=='Refusals'),'label']='4'"
   ]
  },
  {
   "cell_type": "code",
   "execution_count": 10,
   "metadata": {},
   "outputs": [
    {
     "data": {
      "text/plain": [
       "0    70\n",
       "1    50\n",
       "2    30\n",
       "3    21\n",
       "4    14\n",
       "Name: label, dtype: int64"
      ]
     },
     "execution_count": 10,
     "metadata": {},
     "output_type": "execute_result"
    }
   ],
   "source": [
    "sfdc_data_filtered['label'].value_counts()"
   ]
  },
  {
   "cell_type": "code",
   "execution_count": 11,
   "metadata": {},
   "outputs": [],
   "source": [
    "import numpy as np\n",
    "import matplotlib.pyplot as plt\n",
    "\n",
    "from collections import Counter\n",
    "from sklearn.feature_extraction.text import CountVectorizer\n",
    "\n",
    "\n",
    "def plot_frequency_distribution_of_ngrams(sample_texts,\n",
    "                                          ngram_range=(1, 2),\n",
    "                                          num_ngrams=50):\n",
    "    \"\"\"Plots the frequency distribution of n-grams.\n",
    "\n",
    "    # Arguments\n",
    "        samples_texts: list, sample texts.\n",
    "        ngram_range: tuple (min, mplt), The range of n-gram values to consider.\n",
    "            Min and mplt are the lower and upper bound values for the range.\n",
    "        num_ngrams: int, number of n-grams to plot.\n",
    "            Top `num_ngrams` frequent n-grams will be plotted.\n",
    "    \"\"\"\n",
    "    # Create args required for vectorizing.\n",
    "    kwargs = {\n",
    "            'ngram_range': (1, 2),\n",
    "            'dtype': 'int32',\n",
    "            'strip_accents': 'unicode',\n",
    "            'decode_error': 'replace',\n",
    "            'analyzer': 'word',  # Split text into word tokens.\n",
    "    }\n",
    "    vectorizer = CountVectorizer(**kwargs)\n",
    "\n",
    "    # This creates a vocabulary (dict, where keys are n-grams and values are\n",
    "    # idxices). This also converts every text to an array the length of\n",
    "    # vocabulary, where every element idxicates the count of the n-gram\n",
    "    # corresponding at that idxex in vocabulary.\n",
    "    vectorized_texts = vectorizer.fit_transform(sample_texts)\n",
    "\n",
    "    # This is the list of all n-grams in the index order from the vocabulary.\n",
    "    all_ngrams = list(vectorizer.get_feature_names())\n",
    "    num_ngrams = min(num_ngrams, len(all_ngrams))\n",
    "    # ngrams = all_ngrams[:num_ngrams]\n",
    "\n",
    "    # Add up the counts per n-gram ie. column-wise\n",
    "    all_counts = vectorized_texts.sum(axis=0).tolist()[0]\n",
    "\n",
    "    # Sort n-grams and counts by frequency and get top `num_ngrams` ngrams.\n",
    "    all_counts, all_ngrams = zip(*[(c, n) for c, n in sorted(\n",
    "        zip(all_counts, all_ngrams), reverse=True)])\n",
    "    ngrams = list(all_ngrams)[:num_ngrams]\n",
    "    counts = list(all_counts)[:num_ngrams]\n",
    "\n",
    "    idx = np.arange(num_ngrams)\n",
    "    \n",
    "\n",
    "    plt.figure(figsize=(20, 3))  # width:20, height:3\n",
    "    plt.bar(idx, counts, width=0.8, color='b')\n",
    "    plt.xlabel('N-grams')\n",
    "    plt.ylabel('Frequencies')\n",
    "    #plt.axis([0,20,0,160])\n",
    "    plt.title('Frequency distribution of n-grams')\n",
    "    plt.xticks(idx, ngrams, rotation=45)\n",
    "    plt.show()\n",
    "\n",
    "\n",
    "def plot_sample_length_distribution(sample_texts):\n",
    "    \"\"\"Plots the sample length distribution.\n",
    "\n",
    "    # Arguments\n",
    "        samples_texts: list, sample texts.\n",
    "    \"\"\"\n",
    "    plt.hist([len(s) for s in sample_texts], 50)\n",
    "    plt.xlabel('Length of a sample')\n",
    "    plt.ylabel('Number of samples')\n",
    "    plt.title('Sample length distribution')\n",
    "    plt.show()\n",
    "\n",
    "\n",
    "def plot_class_distribution(labels):\n",
    "    \"\"\"Plots the class distribution.\n",
    "\n",
    "    # Arguments\n",
    "        labels: list, label values.\n",
    "            There should be at lease one sample for values in the\n",
    "            range (0, num_classes -1)\n",
    "    \"\"\"\n",
    "    num_classes = get_num_classes(labels)\n",
    "    count_map = Counter(labels)\n",
    "    counts = [count_map[i] for i in range(num_classes)]\n",
    "    idx = np.arange(num_classes)\n",
    "    plt.bar(idx, counts, width=0.8, color='b')\n",
    "    plt.xlabel('Class')\n",
    "    plt.ylabel('Number of samples')\n",
    "    plt.title('Class distribution')\n",
    "    plt.xticks(idx, idx)\n",
    "    plt.show()"
   ]
  },
  {
   "cell_type": "code",
   "execution_count": 12,
   "metadata": {},
   "outputs": [
    {
     "name": "stdout",
     "output_type": "stream",
     "text": [
      "Jennie looking for farmflex credit on three growers.\n"
     ]
    }
   ],
   "source": [
    "corpus = sfdc_data['Case Description'].astype(str)\n",
    "print(corpus[4])"
   ]
  },
  {
   "cell_type": "code",
   "execution_count": 13,
   "metadata": {},
   "outputs": [],
   "source": [
    "import re\n",
    "import nltk\n",
    "import string\n",
    "exclude = set(string.punctuation) \n",
    "wpt = nltk.WordPunctTokenizer()\n",
    "stop_words = nltk.corpus.stopwords.words('english')\n",
    "newStopWords = ['lb','j','df','jdf']\n",
    "stop_words.extend(newStopWords)\n",
    "table = str.maketrans('', '', string.punctuation)\n",
    "from nltk.stem.porter import PorterStemmer\n",
    "porter = PorterStemmer()\n",
    "\n",
    "def normalize_document(doc):\n",
    "    # lower case and remove special characters\\whitespaces\n",
    "   # doc = re.sub(r'[^a-zA-Z0-9\\s]', '', doc, re.I)\n",
    "   # doc = doc.lower()\n",
    "   # doc = doc.strip()\n",
    "    # tokenize document\n",
    "    tokens = doc.split()\n",
    "    # remove punctuation from each word\n",
    "    tokens = [w.translate(table) for w in tokens]\n",
    "    #wpt.tokenize(doc)\n",
    "    # convert to lower case\n",
    "    lower_tokens = [w.lower() for w in tokens]\n",
    "    #remove spaces\n",
    "    stripped = [w.strip() for w in lower_tokens]\n",
    "    # remove remaining tokens that are not alphabetic\n",
    "    words = [word for word in stripped if word.isalpha()]\n",
    "    # filter stopwords out of document\n",
    "    filtered_tokens = [token for token in words if token not in stop_words]\n",
    "    #apply Stemming\n",
    "    #stemmed = [porter.stem(word) for word in filtered_tokens]\n",
    "    # re-create document from filtered tokens\n",
    "    doc = ' '.join(filtered_tokens)\n",
    "    return doc\n",
    "\n",
    "normalize_corpus = np.vectorize(normalize_document)"
   ]
  },
  {
   "cell_type": "markdown",
   "metadata": {},
   "source": [
    "# We tokenize the Case Description and normalize the text by removing punctuation, spaces, stop words, leading and trailing blanks"
   ]
  },
  {
   "cell_type": "code",
   "execution_count": 14,
   "metadata": {},
   "outputs": [
    {
     "name": "stdout",
     "output_type": "stream",
     "text": [
      "pam called wanted know grower paid full farm flex winfield invoice\n"
     ]
    }
   ],
   "source": [
    "norm_corpus = normalize_corpus(corpus)\n",
    "print(norm_corpus[15])"
   ]
  },
  {
   "cell_type": "code",
   "execution_count": 15,
   "metadata": {},
   "outputs": [],
   "source": [
    "from nltk.tokenize import word_tokenize\n",
    "import string\n",
    "from nltk.corpus import stopwords\n",
    "stop_words = nltk.corpus.stopwords.words('english')\n",
    "newStopWords = ['lb','j','df','jdf']\n",
    "stop_words.extend(newStopWords)\n",
    "wpt = nltk.WordPunctTokenizer()\n",
    "\n",
    "def normalize_text(text):\n",
    "    tokens = word_tokenize(text)\n",
    "    # convert to lower case\n",
    "    tokens = [w.lower() for w in tokens]\n",
    "    # remove punctuation from each word\n",
    "    table = str.maketrans('', '', string.punctuation)\n",
    "    stripped = [w.translate(table) for w in tokens]\n",
    "    # remove remaining tokens that are not alphabetic\n",
    "    words = [word for word in stripped if word.isalpha()]\n",
    "    # filter out stop words\n",
    "    words = [w for w in words if not w in stop_words]\n",
    "    #print(words[:100])\n",
    "    doc = ' '.join(words)\n",
    "    return doc"
   ]
  },
  {
   "cell_type": "markdown",
   "metadata": {},
   "source": [
    "# We check the median number of words per sample row"
   ]
  },
  {
   "cell_type": "code",
   "execution_count": 19,
   "metadata": {},
   "outputs": [
    {
     "name": "stdout",
     "output_type": "stream",
     "text": [
      "185.0\n"
     ]
    }
   ],
   "source": [
    "#Median number of words per sample\n",
    "num_words = [len(sfdc_data_filtered['Case Description'].astype(str).str.split()) for s in desc_text]\n",
    "print(np.median(num_words))"
   ]
  },
  {
   "cell_type": "markdown",
   "metadata": {},
   "source": [
    "# Plot of frequency distribution of n-grams in the Case Description text"
   ]
  },
  {
   "cell_type": "code",
   "execution_count": 18,
   "metadata": {},
   "outputs": [
    {
     "data": {
      "image/png": "[encoded data removed]",
      "text/plain": [
       "<Figure size 1440x216 with 1 Axes>"
      ]
     },
     "metadata": {},
     "output_type": "display_data"
    }
   ],
   "source": [
    "plot_frequency_distribution_of_ngrams(norm_corpus)"
   ]
  },
  {
   "cell_type": "markdown",
   "metadata": {},
   "source": [
    "# Plot of length distribution of Case Description"
   ]
  },
  {
   "cell_type": "code",
   "execution_count": 17,
   "metadata": {},
   "outputs": [
    {
     "data": {
      "image/png": "[encoded data removed]",
      "text/plain": [
       "<Figure size 432x288 with 1 Axes>"
      ]
     },
     "metadata": {},
     "output_type": "display_data"
    }
   ],
   "source": [
    "plot_sample_length_distribution(desc_text)"
   ]
  },
  {
   "cell_type": "markdown",
   "metadata": {},
   "source": [
    "# Plot of class distribution of the Case Description text (each class representing a Reason)"
   ]
  },
  {
   "cell_type": "code",
   "execution_count": 16,
   "metadata": {},
   "outputs": [
    {
     "data": {
      "image/png": "[encoded data removed]",
      "text/plain": [
       "<Figure size 864x216 with 1 Axes>"
      ]
     },
     "metadata": {},
     "output_type": "display_data"
    }
   ],
   "source": [
    "num_classes = 5\n",
    "count_map = Counter(sfdc_data_filtered['label'])\n",
    "\n",
    "counts = count_map.values()\n",
    "\n",
    "[count_map[i] for i in range(num_classes)]\n",
    "idx = ['Delivery/Shipments','Systems Support','Returns','Credit','Refusals']\n",
    "\n",
    "plt.figure(figsize=(12, 3))  # width:20, height:3\n",
    "plt.bar(idx, counts, width=0.8, color='b')\n",
    "plt.xlabel('Class')\n",
    "plt.ylabel('Number of samples')\n",
    "plt.title('Class distribution')\n",
    "plt.xticks(idx, idx)\n",
    "plt.show()"
   ]
  },
  {
   "cell_type": "code",
   "execution_count": 19,
   "metadata": {},
   "outputs": [
    {
     "data": {
      "text/plain": [
       "0    0.378378\n",
       "1    0.270270\n",
       "2    0.162162\n",
       "3    0.113514\n",
       "4    0.075676\n",
       "Name: label, dtype: float64"
      ]
     },
     "execution_count": 19,
     "metadata": {},
     "output_type": "execute_result"
    }
   ],
   "source": [
    "sfdc_data_filtered[\"label\"].value_counts() / len(sfdc_data_filtered)"
   ]
  },
  {
   "cell_type": "code",
   "execution_count": 20,
   "metadata": {},
   "outputs": [],
   "source": [
    "from sklearn.model_selection import train_test_split\n",
    "import numpy as np\n",
    "from sklearn.model_selection import StratifiedShuffleSplit\n",
    "\n",
    "split = StratifiedShuffleSplit(n_splits=1,test_size=0.2,random_state=42)\n",
    "\n",
    "for train_index, test_index in split.split(sfdc_data_filtered,sfdc_data_filtered[\"label\"]):\n",
    "    strat_train_set = sfdc_data_filtered.iloc[train_index]\n",
    "    strat_test_set = sfdc_data_filtered.iloc[test_index]"
   ]
  },
  {
   "cell_type": "code",
   "execution_count": 21,
   "metadata": {},
   "outputs": [
    {
     "data": {
      "text/plain": [
       "0    0.378378\n",
       "1    0.270270\n",
       "2    0.162162\n",
       "3    0.114865\n",
       "4    0.074324\n",
       "Name: label, dtype: float64"
      ]
     },
     "execution_count": 21,
     "metadata": {},
     "output_type": "execute_result"
    }
   ],
   "source": [
    "strat_train_set[\"label\"].value_counts() / len(strat_train_set)"
   ]
  },
  {
   "cell_type": "code",
   "execution_count": 22,
   "metadata": {},
   "outputs": [
    {
     "data": {
      "text/plain": [
       "0    0.378378\n",
       "1    0.270270\n",
       "2    0.162162\n",
       "3    0.108108\n",
       "4    0.081081\n",
       "Name: label, dtype: float64"
      ]
     },
     "execution_count": 22,
     "metadata": {},
     "output_type": "execute_result"
    }
   ],
   "source": [
    "strat_test_set[\"label\"].value_counts() / len(strat_test_set)"
   ]
  },
  {
   "cell_type": "code",
   "execution_count": 45,
   "metadata": {},
   "outputs": [],
   "source": [
    "train_texts=strat_train_set['Case Description'].astype(str)\n",
    "train_labels=strat_train_set['label'].astype(str)\n",
    "train_texts=train_texts.reset_index(drop = True)\n",
    "train_labels=train_labels.reset_index(drop = True)"
   ]
  },
  {
   "cell_type": "code",
   "execution_count": 46,
   "metadata": {},
   "outputs": [
    {
     "name": "stdout",
     "output_type": "stream",
     "text": [
      "Getting Login ISA error on this account when he tries to access through My Monsanto. Per Winfield, no issue on the Connect-3 side. Contact dealer for additional info or screenshots.\n",
      "1\n",
      "148\n",
      "Please update bucket date in YLASPICK. Send to Laura Weigle when complete. 5007523318 5007523324 5007523325 5007523326 5007523364 5007523379 5007523390 5007523405 5007523416 5007523417 5007523444 5007523463\n"
     ]
    }
   ],
   "source": [
    "print(train_texts[0])\n",
    "print(train_labels[0])\n",
    "print(len(train_texts))\n",
    "print(train_texts[147])"
   ]
  },
  {
   "cell_type": "code",
   "execution_count": 39,
   "metadata": {},
   "outputs": [],
   "source": [
    "test_texts=strat_test_set['Case Description'].astype(str)\n",
    "test_texts=test_texts.reset_index(drop = True)\n",
    "test_labels=strat_test_set['label'].astype(str)\n",
    "test_labels=test_labels.reset_index(drop = True)"
   ]
  },
  {
   "cell_type": "code",
   "execution_count": 42,
   "metadata": {},
   "outputs": [
    {
     "name": "stdout",
     "output_type": "stream",
     "text": [
      "37\n",
      "Jamie, How does Winfield United service centers uses printed copies of invoices. and some (maybe) via paper. If your account needs to print paper copies ? can you explain how they use these copies? Does your account scan the invoice copies into their proprietary system and then use a program to complete auto matching to ?clear?? Or are they manually reconciling an invoice to a statement line? Help us understand their process as you know it. Your input will help credit and IT understand the functionality that is needed around printing multiple invoices.\n",
      "1\n",
      "Will is having issues accessing C3 to mymonsanto. I emulated Will with no C3 access issues. I will give Will a call.\n",
      "1\n"
     ]
    }
   ],
   "source": [
    "print(len(test_texts))\n",
    "print(test_texts[0])\n",
    "print(test_labels[0])\n",
    "print(test_texts[36])\n",
    "print(test_labels[36])"
   ]
  },
  {
   "cell_type": "code",
   "execution_count": 51,
   "metadata": {},
   "outputs": [
    {
     "name": "stdout",
     "output_type": "stream",
     "text": [
      "44x6; 46x6; 51x8 5007340229 40,990.000 LB PO# required for this transaction 760\n",
      "after normalization\n",
      "po required transaction\n"
     ]
    }
   ],
   "source": [
    "norm_train_texts = []\n",
    "for i in range (len(train_texts)):\n",
    "    norm_train_texts.append(normalize_text(train_texts[i]))\n",
    "\n",
    "print(train_texts[15])\n",
    "print(\"after normalization\")\n",
    "print(norm_train_texts[15])"
   ]
  },
  {
   "cell_type": "code",
   "execution_count": 48,
   "metadata": {},
   "outputs": [],
   "source": [
    "norm_test_texts = []\n",
    "for i in range (len(test_texts)):\n",
    "    norm_test_texts.append(normalize_text(test_texts[i]))"
   ]
  },
  {
   "cell_type": "code",
   "execution_count": 50,
   "metadata": {},
   "outputs": [
    {
     "name": "stdout",
     "output_type": "stream",
     "text": [
      "Jamie, How does Winfield United service centers uses printed copies of invoices. and some (maybe) via paper. If your account needs to print paper copies ? can you explain how they use these copies? Does your account scan the invoice copies into their proprietary system and then use a program to complete auto matching to ?clear?? Or are they manually reconciling an invoice to a statement line? Help us understand their process as you know it. Your input will help credit and IT understand the functionality that is needed around printing multiple invoices.\n",
      "after normalization\n",
      "jamie winfield united service centers uses printed copies invoices maybe via paper account needs print paper copies explain use copies account scan invoice copies proprietary system use program complete auto matching clear manually reconciling invoice statement line help us understand process know input help credit understand functionality needed around printing multiple invoices\n"
     ]
    }
   ],
   "source": [
    "print(test_texts[0])\n",
    "print(\"after normalization\")\n",
    "print(norm_test_texts[0])"
   ]
  },
  {
   "cell_type": "code",
   "execution_count": 87,
   "metadata": {},
   "outputs": [],
   "source": [
    "from tensorflow.python.keras import models\n",
    "from tensorflow.python.keras import initializers\n",
    "from tensorflow.python.keras import regularizers\n",
    "\n",
    "from tensorflow.python.keras.layers import Dense\n",
    "from tensorflow.python.keras.layers import Dropout\n",
    "from tensorflow.python.keras.layers import Embedding\n",
    "from tensorflow.python.keras.layers import SeparableConv1D\n",
    "from tensorflow.python.keras.layers import MaxPooling1D\n",
    "from tensorflow.python.keras.layers import GlobalAveragePooling1D\n",
    "\n",
    "\n",
    "def mlp_model(layers, units, dropout_rate, input_shape, num_classes):\n",
    "    \"\"\"Creates an instance of a multi-layer perceptron model.\n",
    "\n",
    "    # Arguments\n",
    "        layers: int, number of `Dense` layers in the model.\n",
    "        units: int, output dimension of the layers.\n",
    "        dropout_rate: float, percentage of input to drop at Dropout layers.\n",
    "        input_shape: tuple, shape of input to the model.\n",
    "        num_classes: int, number of output classes.\n",
    "\n",
    "    # Returns\n",
    "        An MLP model instance.\n",
    "    \"\"\"\n",
    "    #op_units, op_activation = _get_last_layer_units_and_activation(num_classes)\n",
    "    model = models.Sequential()\n",
    "    model.add(Dropout(rate=dropout_rate, input_shape=input_shape))\n",
    "\n",
    "    for _ in range(layers-1):\n",
    "        model.add(Dense(units=units, activation='relu'))\n",
    "        model.add(Dropout(rate=dropout_rate))\n",
    "\n",
    "    model.add(Dense(units=5, activation='softmax'))\n",
    "    return model"
   ]
  },
  {
   "cell_type": "code",
   "execution_count": 79,
   "metadata": {},
   "outputs": [],
   "source": [
    "import tensorflow as tf\n",
    "import numpy as np\n",
    "\n",
    "from tensorflow.python.keras.preprocessing import sequence\n",
    "from tensorflow.python.keras.preprocessing import text\n",
    "from sklearn.feature_extraction.text import TfidfVectorizer\n",
    "from sklearn.feature_selection import SelectKBest\n",
    "from sklearn.feature_selection import f_classif\n",
    "\n",
    "# Vectorization parameters\n",
    "\n",
    "# Range (inclusive) of n-gram sizes for tokenizing text.\n",
    "NGRAM_RANGE = (1, 2)\n",
    "\n",
    "# Limit on the number of features. We use the top 20K features.\n",
    "TOP_K = 20000\n",
    "\n",
    "# Whether text should be split into word or character n-grams.\n",
    "# One of 'word', 'char'.\n",
    "TOKEN_MODE = 'word'\n",
    "\n",
    "# Minimum document/corpus frequency below which a token will be discarded.\n",
    "MIN_DOCUMENT_FREQUENCY = 2\n",
    "\n",
    "# Limit on the length of text sequences. Sequences longer than this\n",
    "# will be truncated.\n",
    "MAX_SEQUENCE_LENGTH = 500\n",
    "\n",
    "\n",
    "def ngram_vectorize(train_texts, train_labels, val_texts):\n",
    "    \"\"\"Vectorizes texts as ngram vectors.\n",
    "\n",
    "    1 text = 1 tf-idf vector the length of vocabulary of uni-grams + bi-grams.\n",
    "\n",
    "    # Arguments\n",
    "        train_texts: list, training text strings.\n",
    "        train_labels: np.ndarray, training labels.\n",
    "        val_texts: list, validation text strings.\n",
    "\n",
    "    # Returns\n",
    "        x_train, x_val: vectorized training and validation texts\n",
    "    \"\"\"\n",
    "    # Create keyword arguments to pass to the 'tf-idf' vectorizer.\n",
    "    kwargs = {\n",
    "            'ngram_range': NGRAM_RANGE,  # Use 1-grams + 2-grams.\n",
    "            'dtype': 'int32',\n",
    "            'strip_accents': 'unicode',\n",
    "            'decode_error': 'replace',\n",
    "            'analyzer': TOKEN_MODE,  # Split text into word tokens.\n",
    "            'min_df': MIN_DOCUMENT_FREQUENCY,\n",
    "    }\n",
    "    vectorizer = TfidfVectorizer(**kwargs)\n",
    "\n",
    "    # Learn vocabulary from training texts and vectorize training texts.\n",
    "    x_train = vectorizer.fit_transform(train_texts)\n",
    "\n",
    "    # Vectorize validation texts.\n",
    "    x_val = vectorizer.transform(val_texts)\n",
    "\n",
    "    # Select top 'k' of the vectorized features.\n",
    "    selector = SelectKBest(f_classif, k=min(TOP_K, x_train.shape[1]))\n",
    "    selector.fit(x_train, train_labels)\n",
    "    x_train = selector.transform(x_train)\n",
    "    x_val = selector.transform(x_val)\n",
    "\n",
    "    x_train = x_train.astype('float32')\n",
    "    x_val = x_val.astype('float32')\n",
    "    return x_train, x_val\n",
    "\n"
   ]
  },
  {
   "cell_type": "code",
   "execution_count": 80,
   "metadata": {},
   "outputs": [],
   "source": [
    "# Vectorize texts.\n",
    "x_train, x_test = ngram_vectorize(norm_train_texts, train_labels, norm_test_texts)\n"
   ]
  },
  {
   "cell_type": "code",
   "execution_count": 81,
   "metadata": {},
   "outputs": [
    {
     "name": "stdout",
     "output_type": "stream",
     "text": [
      "(148, 369)\n",
      "(37, 369)\n"
     ]
    }
   ],
   "source": [
    "print(x_train.shape)\n",
    "print(x_test.shape)"
   ]
  },
  {
   "cell_type": "code",
   "execution_count": 88,
   "metadata": {},
   "outputs": [],
   "source": [
    "\n",
    "learning_rate=1e-3\n",
    "epochs=100\n",
    "batch_size=128\n",
    "layers=2\n",
    "units=64\n",
    "dropout_rate=0.2\n",
    "# Create model instance.\n",
    "model = mlp_model(layers=layers,units=units,dropout_rate=dropout_rate,input_shape=x_train.shape[1:],num_classes=num_classes)  "
   ]
  },
  {
   "cell_type": "code",
   "execution_count": 90,
   "metadata": {},
   "outputs": [],
   "source": [
    "loss = 'sparse_categorical_crossentropy'\n",
    "optimizer = tf.keras.optimizers.Adam(lr=learning_rate)\n",
    "model.compile(optimizer=optimizer, loss=loss, metrics=['acc'])"
   ]
  },
  {
   "cell_type": "code",
   "execution_count": 91,
   "metadata": {},
   "outputs": [
    {
     "name": "stdout",
     "output_type": "stream",
     "text": [
      "_________________________________________________________________\n",
      "Layer (type)                 Output Shape              Param #   \n",
      "=================================================================\n",
      "dropout_6 (Dropout)          (None, 369)               0         \n",
      "_________________________________________________________________\n",
      "dense_6 (Dense)              (None, 64)                23680     \n",
      "_________________________________________________________________\n",
      "dropout_7 (Dropout)          (None, 64)                0         \n",
      "_________________________________________________________________\n",
      "dense_7 (Dense)              (None, 5)                 325       \n",
      "=================================================================\n",
      "Total params: 24,005\n",
      "Trainable params: 24,005\n",
      "Non-trainable params: 0\n",
      "_________________________________________________________________\n"
     ]
    }
   ],
   "source": [
    "model.summary()"
   ]
  },
  {
   "cell_type": "code",
   "execution_count": 92,
   "metadata": {},
   "outputs": [],
   "source": [
    "callbacks = [tf.keras.callbacks.EarlyStopping(monitor='val_loss', patience=2)]"
   ]
  },
  {
   "cell_type": "code",
   "execution_count": 93,
   "metadata": {},
   "outputs": [
    {
     "name": "stdout",
     "output_type": "stream",
     "text": [
      "Train on 148 samples, validate on 37 samples\n",
      "Epoch 1/100\n",
      " - 0s - loss: 1.6335 - acc: 0.1216 - val_loss: 1.5987 - val_acc: 0.4054\n",
      "Epoch 2/100\n",
      " - 0s - loss: 1.6088 - acc: 0.2095 - val_loss: 1.5829 - val_acc: 0.5135\n",
      "Epoch 3/100\n",
      " - 0s - loss: 1.5975 - acc: 0.2838 - val_loss: 1.5674 - val_acc: 0.6486\n",
      "Epoch 4/100\n",
      " - 0s - loss: 1.5722 - acc: 0.4662 - val_loss: 1.5523 - val_acc: 0.7027\n",
      "Epoch 5/100\n",
      " - 0s - loss: 1.5571 - acc: 0.5000 - val_loss: 1.5373 - val_acc: 0.7027\n",
      "Epoch 6/100\n",
      " - 0s - loss: 1.5418 - acc: 0.6351 - val_loss: 1.5225 - val_acc: 0.7568\n",
      "Epoch 7/100\n",
      " - 0s - loss: 1.5215 - acc: 0.7027 - val_loss: 1.5076 - val_acc: 0.7838\n",
      "Epoch 8/100\n",
      " - 0s - loss: 1.5052 - acc: 0.7432 - val_loss: 1.4922 - val_acc: 0.8649\n",
      "Epoch 9/100\n",
      " - 0s - loss: 1.4874 - acc: 0.7297 - val_loss: 1.4766 - val_acc: 0.8919\n",
      "Epoch 10/100\n",
      " - 0s - loss: 1.4705 - acc: 0.7973 - val_loss: 1.4610 - val_acc: 0.8649\n",
      "Epoch 11/100\n",
      " - 0s - loss: 1.4571 - acc: 0.8108 - val_loss: 1.4451 - val_acc: 0.8649\n",
      "Epoch 12/100\n",
      " - 0s - loss: 1.4391 - acc: 0.8378 - val_loss: 1.4292 - val_acc: 0.8378\n",
      "Epoch 13/100\n",
      " - 0s - loss: 1.4118 - acc: 0.8581 - val_loss: 1.4132 - val_acc: 0.8649\n",
      "Epoch 14/100\n",
      " - 0s - loss: 1.3963 - acc: 0.8649 - val_loss: 1.3968 - val_acc: 0.8649\n",
      "Epoch 15/100\n",
      " - 0s - loss: 1.3747 - acc: 0.8514 - val_loss: 1.3799 - val_acc: 0.8649\n",
      "Epoch 16/100\n",
      " - 0s - loss: 1.3534 - acc: 0.8243 - val_loss: 1.3623 - val_acc: 0.8378\n",
      "Epoch 17/100\n",
      " - 0s - loss: 1.3320 - acc: 0.8378 - val_loss: 1.3440 - val_acc: 0.8378\n",
      "Epoch 18/100\n",
      " - 0s - loss: 1.3235 - acc: 0.8446 - val_loss: 1.3256 - val_acc: 0.8378\n",
      "Epoch 19/100\n",
      " - 0s - loss: 1.3051 - acc: 0.8514 - val_loss: 1.3070 - val_acc: 0.8378\n",
      "Epoch 20/100\n",
      " - 0s - loss: 1.2720 - acc: 0.8716 - val_loss: 1.2876 - val_acc: 0.8378\n",
      "Epoch 21/100\n",
      " - 0s - loss: 1.2491 - acc: 0.8514 - val_loss: 1.2673 - val_acc: 0.8378\n",
      "Epoch 22/100\n",
      " - 0s - loss: 1.2338 - acc: 0.8514 - val_loss: 1.2465 - val_acc: 0.8378\n",
      "Epoch 23/100\n",
      " - 0s - loss: 1.1912 - acc: 0.8986 - val_loss: 1.2255 - val_acc: 0.8378\n",
      "Epoch 24/100\n",
      " - 0s - loss: 1.1759 - acc: 0.8378 - val_loss: 1.2043 - val_acc: 0.8378\n",
      "Epoch 25/100\n",
      " - 0s - loss: 1.1638 - acc: 0.8649 - val_loss: 1.1829 - val_acc: 0.8378\n",
      "Epoch 26/100\n",
      " - 0s - loss: 1.1422 - acc: 0.8446 - val_loss: 1.1611 - val_acc: 0.8378\n",
      "Epoch 27/100\n",
      " - 0s - loss: 1.1030 - acc: 0.8851 - val_loss: 1.1392 - val_acc: 0.8378\n",
      "Epoch 28/100\n",
      " - 0s - loss: 1.0918 - acc: 0.8311 - val_loss: 1.1174 - val_acc: 0.8378\n",
      "Epoch 29/100\n",
      " - 0s - loss: 1.0638 - acc: 0.8311 - val_loss: 1.0956 - val_acc: 0.8378\n",
      "Epoch 30/100\n",
      " - 0s - loss: 1.0292 - acc: 0.8514 - val_loss: 1.0739 - val_acc: 0.8378\n",
      "Epoch 31/100\n",
      " - 0s - loss: 1.0144 - acc: 0.8716 - val_loss: 1.0523 - val_acc: 0.8378\n",
      "Epoch 32/100\n",
      " - 0s - loss: 0.9759 - acc: 0.8446 - val_loss: 1.0307 - val_acc: 0.8378\n",
      "Epoch 33/100\n",
      " - 0s - loss: 0.9544 - acc: 0.8851 - val_loss: 1.0095 - val_acc: 0.8378\n",
      "Epoch 34/100\n",
      " - 0s - loss: 0.9443 - acc: 0.8243 - val_loss: 0.9887 - val_acc: 0.8378\n",
      "Epoch 35/100\n",
      " - 0s - loss: 0.9047 - acc: 0.8851 - val_loss: 0.9683 - val_acc: 0.8378\n",
      "Epoch 36/100\n",
      " - 0s - loss: 0.8908 - acc: 0.8581 - val_loss: 0.9485 - val_acc: 0.8378\n",
      "Epoch 37/100\n",
      " - 0s - loss: 0.8720 - acc: 0.8716 - val_loss: 0.9292 - val_acc: 0.8378\n",
      "Epoch 38/100\n",
      " - 0s - loss: 0.8441 - acc: 0.8784 - val_loss: 0.9104 - val_acc: 0.8378\n",
      "Epoch 39/100\n",
      " - 0s - loss: 0.8242 - acc: 0.8784 - val_loss: 0.8923 - val_acc: 0.8378\n",
      "Epoch 40/100\n",
      " - 0s - loss: 0.7991 - acc: 0.8716 - val_loss: 0.8746 - val_acc: 0.8378\n",
      "Epoch 41/100\n",
      " - 0s - loss: 0.7757 - acc: 0.8919 - val_loss: 0.8572 - val_acc: 0.8378\n",
      "Epoch 42/100\n",
      " - 0s - loss: 0.7659 - acc: 0.8784 - val_loss: 0.8405 - val_acc: 0.8378\n",
      "Epoch 43/100\n",
      " - 0s - loss: 0.7312 - acc: 0.8919 - val_loss: 0.8245 - val_acc: 0.8378\n",
      "Epoch 44/100\n",
      " - 0s - loss: 0.7010 - acc: 0.9189 - val_loss: 0.8090 - val_acc: 0.8378\n",
      "Epoch 45/100\n",
      " - 0s - loss: 0.6934 - acc: 0.8919 - val_loss: 0.7941 - val_acc: 0.8378\n",
      "Epoch 46/100\n",
      " - 0s - loss: 0.6852 - acc: 0.9054 - val_loss: 0.7796 - val_acc: 0.8378\n",
      "Epoch 47/100\n",
      " - 0s - loss: 0.6417 - acc: 0.8851 - val_loss: 0.7655 - val_acc: 0.8378\n",
      "Epoch 48/100\n",
      " - 0s - loss: 0.6573 - acc: 0.9054 - val_loss: 0.7520 - val_acc: 0.8378\n",
      "Epoch 49/100\n",
      " - 0s - loss: 0.6266 - acc: 0.8919 - val_loss: 0.7391 - val_acc: 0.8378\n",
      "Epoch 50/100\n",
      " - 0s - loss: 0.6170 - acc: 0.9054 - val_loss: 0.7266 - val_acc: 0.8378\n",
      "Epoch 51/100\n",
      " - 0s - loss: 0.6184 - acc: 0.9054 - val_loss: 0.7146 - val_acc: 0.8378\n",
      "Epoch 52/100\n",
      " - 0s - loss: 0.5901 - acc: 0.8986 - val_loss: 0.7031 - val_acc: 0.8378\n",
      "Epoch 53/100\n",
      " - 0s - loss: 0.5749 - acc: 0.9257 - val_loss: 0.6920 - val_acc: 0.8378\n",
      "Epoch 54/100\n",
      " - 0s - loss: 0.5523 - acc: 0.9189 - val_loss: 0.6811 - val_acc: 0.8378\n",
      "Epoch 55/100\n",
      " - 0s - loss: 0.5569 - acc: 0.8851 - val_loss: 0.6706 - val_acc: 0.8378\n",
      "Epoch 56/100\n",
      " - 0s - loss: 0.5486 - acc: 0.8986 - val_loss: 0.6604 - val_acc: 0.8378\n",
      "Epoch 57/100\n",
      " - 0s - loss: 0.5114 - acc: 0.9189 - val_loss: 0.6506 - val_acc: 0.8378\n",
      "Epoch 58/100\n",
      " - 0s - loss: 0.4999 - acc: 0.9122 - val_loss: 0.6410 - val_acc: 0.8649\n",
      "Epoch 59/100\n",
      " - 0s - loss: 0.5019 - acc: 0.9189 - val_loss: 0.6317 - val_acc: 0.8649\n",
      "Epoch 60/100\n",
      " - 0s - loss: 0.4589 - acc: 0.9459 - val_loss: 0.6228 - val_acc: 0.8649\n",
      "Epoch 61/100\n",
      " - 0s - loss: 0.4883 - acc: 0.9324 - val_loss: 0.6145 - val_acc: 0.8919\n",
      "Epoch 62/100\n",
      " - 0s - loss: 0.4818 - acc: 0.9189 - val_loss: 0.6067 - val_acc: 0.8649\n",
      "Epoch 63/100\n",
      " - 0s - loss: 0.4526 - acc: 0.9527 - val_loss: 0.5992 - val_acc: 0.8649\n",
      "Epoch 64/100\n",
      " - 0s - loss: 0.4535 - acc: 0.9392 - val_loss: 0.5920 - val_acc: 0.8649\n",
      "Epoch 65/100\n",
      " - 0s - loss: 0.4324 - acc: 0.9257 - val_loss: 0.5852 - val_acc: 0.8649\n",
      "Epoch 66/100\n",
      " - 0s - loss: 0.4383 - acc: 0.9392 - val_loss: 0.5788 - val_acc: 0.8649\n",
      "Epoch 67/100\n",
      " - 0s - loss: 0.3993 - acc: 0.9527 - val_loss: 0.5725 - val_acc: 0.8649\n",
      "Epoch 68/100\n",
      " - 0s - loss: 0.4099 - acc: 0.9527 - val_loss: 0.5664 - val_acc: 0.8649\n",
      "Epoch 69/100\n",
      " - 0s - loss: 0.3809 - acc: 0.9662 - val_loss: 0.5604 - val_acc: 0.8649\n",
      "Epoch 70/100\n",
      " - 0s - loss: 0.3916 - acc: 0.9595 - val_loss: 0.5544 - val_acc: 0.8649\n",
      "Epoch 71/100\n",
      " - 0s - loss: 0.3714 - acc: 0.9527 - val_loss: 0.5487 - val_acc: 0.8649\n",
      "Epoch 72/100\n",
      " - 0s - loss: 0.3679 - acc: 0.9527 - val_loss: 0.5431 - val_acc: 0.8649\n",
      "Epoch 73/100\n",
      " - 0s - loss: 0.3576 - acc: 0.9392 - val_loss: 0.5378 - val_acc: 0.8649\n",
      "Epoch 74/100\n",
      " - 0s - loss: 0.3595 - acc: 0.9459 - val_loss: 0.5328 - val_acc: 0.8649\n",
      "Epoch 75/100\n",
      " - 0s - loss: 0.3438 - acc: 0.9595 - val_loss: 0.5282 - val_acc: 0.8649\n",
      "Epoch 76/100\n",
      " - 0s - loss: 0.3575 - acc: 0.9459 - val_loss: 0.5237 - val_acc: 0.8649\n",
      "Epoch 77/100\n",
      " - 0s - loss: 0.3277 - acc: 0.9527 - val_loss: 0.5191 - val_acc: 0.8649\n",
      "Epoch 78/100\n",
      " - 0s - loss: 0.3261 - acc: 0.9797 - val_loss: 0.5146 - val_acc: 0.8649\n",
      "Epoch 79/100\n",
      " - 0s - loss: 0.3133 - acc: 0.9730 - val_loss: 0.5103 - val_acc: 0.8649\n",
      "Epoch 80/100\n",
      " - 0s - loss: 0.3175 - acc: 0.9595 - val_loss: 0.5061 - val_acc: 0.8649\n",
      "Epoch 81/100\n",
      " - 0s - loss: 0.3030 - acc: 0.9527 - val_loss: 0.5022 - val_acc: 0.8649\n",
      "Epoch 82/100\n",
      " - 0s - loss: 0.2922 - acc: 0.9459 - val_loss: 0.4983 - val_acc: 0.8649\n",
      "Epoch 83/100\n",
      " - 0s - loss: 0.2844 - acc: 0.9662 - val_loss: 0.4946 - val_acc: 0.8649\n",
      "Epoch 84/100\n",
      " - 0s - loss: 0.2798 - acc: 0.9730 - val_loss: 0.4910 - val_acc: 0.8649\n",
      "Epoch 85/100\n",
      " - 0s - loss: 0.2842 - acc: 0.9527 - val_loss: 0.4875 - val_acc: 0.8649\n",
      "Epoch 86/100\n",
      " - 0s - loss: 0.3123 - acc: 0.9527 - val_loss: 0.4840 - val_acc: 0.8649\n",
      "Epoch 87/100\n",
      " - 0s - loss: 0.2762 - acc: 0.9730 - val_loss: 0.4805 - val_acc: 0.8649\n",
      "Epoch 88/100\n",
      " - 0s - loss: 0.2563 - acc: 0.9662 - val_loss: 0.4772 - val_acc: 0.8649\n",
      "Epoch 89/100\n",
      " - 0s - loss: 0.2713 - acc: 0.9730 - val_loss: 0.4742 - val_acc: 0.8649\n",
      "Epoch 90/100\n",
      " - 0s - loss: 0.2607 - acc: 0.9459 - val_loss: 0.4713 - val_acc: 0.8649\n",
      "Epoch 91/100\n",
      " - 0s - loss: 0.2673 - acc: 0.9595 - val_loss: 0.4686 - val_acc: 0.8649\n",
      "Epoch 92/100\n",
      " - 0s - loss: 0.2324 - acc: 0.9797 - val_loss: 0.4659 - val_acc: 0.8649\n",
      "Epoch 93/100\n",
      " - 0s - loss: 0.2583 - acc: 0.9730 - val_loss: 0.4633 - val_acc: 0.8649\n",
      "Epoch 94/100\n",
      " - 0s - loss: 0.2448 - acc: 0.9865 - val_loss: 0.4609 - val_acc: 0.8649\n",
      "Epoch 95/100\n",
      " - 0s - loss: 0.2324 - acc: 0.9595 - val_loss: 0.4588 - val_acc: 0.8649\n",
      "Epoch 96/100\n",
      " - 0s - loss: 0.2357 - acc: 0.9730 - val_loss: 0.4567 - val_acc: 0.8649\n"
     ]
    },
    {
     "name": "stdout",
     "output_type": "stream",
     "text": [
      "Epoch 97/100\n",
      " - 0s - loss: 0.2098 - acc: 0.9932 - val_loss: 0.4547 - val_acc: 0.8649\n",
      "Epoch 98/100\n",
      " - 0s - loss: 0.2216 - acc: 0.9730 - val_loss: 0.4527 - val_acc: 0.8649\n",
      "Epoch 99/100\n",
      " - 0s - loss: 0.2486 - acc: 0.9527 - val_loss: 0.4509 - val_acc: 0.8649\n",
      "Epoch 100/100\n",
      " - 0s - loss: 0.2182 - acc: 0.9797 - val_loss: 0.4492 - val_acc: 0.8649\n"
     ]
    }
   ],
   "source": [
    "# Train and validate model.\n",
    "history = model.fit(\n",
    "            x_train,\n",
    "            train_labels,\n",
    "            epochs=epochs,\n",
    "            callbacks=callbacks,\n",
    "            validation_data=(x_test, test_labels),\n",
    "            verbose=2,  # Logs once per epoch.\n",
    "            batch_size=batch_size)"
   ]
  },
  {
   "cell_type": "code",
   "execution_count": 94,
   "metadata": {},
   "outputs": [
    {
     "name": "stdout",
     "output_type": "stream",
     "text": [
      "dict_keys(['val_loss', 'val_acc', 'loss', 'acc'])\n"
     ]
    },
    {
     "data": {
      "image/png": "[encoded data removed]",
      "text/plain": [
       "<Figure size 432x288 with 1 Axes>"
      ]
     },
     "metadata": {},
     "output_type": "display_data"
    },
    {
     "data": {
      "image/png": "[encoded data removed]",
      "text/plain": [
       "<Figure size 432x288 with 1 Axes>"
      ]
     },
     "metadata": {},
     "output_type": "display_data"
    }
   ],
   "source": [
    "# list all data in history\n",
    "print(history.history.keys())\n",
    "# summarize history for accuracy\n",
    "plt.plot(history.history['acc'])\n",
    "plt.plot(history.history['val_acc'])\n",
    "plt.title('model accuracy')\n",
    "plt.ylabel('accuracy')\n",
    "plt.xlabel('epoch')\n",
    "plt.legend(['train', 'test'], loc='upper left')\n",
    "plt.show()\n",
    "# summarize history for loss\n",
    "plt.plot(history.history['loss'])\n",
    "plt.plot(history.history['val_loss'])\n",
    "plt.title('model loss')\n",
    "plt.ylabel('loss')\n",
    "plt.xlabel('epoch')\n",
    "plt.legend(['train', 'test'], loc='upper left')\n",
    "plt.show()"
   ]
  },
  {
   "cell_type": "code",
   "execution_count": 95,
   "metadata": {},
   "outputs": [
    {
     "name": "stdout",
     "output_type": "stream",
     "text": [
      "Validation accuracy: 0.8648648858070374, loss: 0.4491805136203766\n"
     ]
    }
   ],
   "source": [
    "history = history.history\n",
    "print('Validation accuracy: {acc}, loss: {loss}'.format(\n",
    "            acc=history['val_acc'][-1], loss=history['val_loss'][-1]))"
   ]
  },
  {
   "cell_type": "code",
   "execution_count": 96,
   "metadata": {},
   "outputs": [],
   "source": [
    "model.save('C:/Users/GCNDP/SentimentAnalysis/sfdc_mlp_model.h5')"
   ]
  },
  {
   "cell_type": "code",
   "execution_count": 97,
   "metadata": {},
   "outputs": [
    {
     "name": "stdout",
     "output_type": "stream",
     "text": [
      " Train Accuracy: 97.297297 \n",
      " Test Accuracy: 86.486486 \n"
     ]
    }
   ],
   "source": [
    "_, acc = model.evaluate(x_train, train_labels, verbose=0)\n",
    "print( ' Train Accuracy: %f ' % (acc*100))\n",
    "_, acc = model.evaluate(x_test, test_labels, verbose=0)\n",
    "print( ' Test Accuracy: %f ' % (acc*100))"
   ]
  },
  {
   "cell_type": "code",
   "execution_count": 98,
   "metadata": {},
   "outputs": [],
   "source": [
    "def ngram_vectorize_test(train_texts, train_labels, val_texts):\n",
    "    \"\"\"Vectorizes texts as ngram vectors.\n",
    "\n",
    "    1 text = 1 tf-idf vector the length of vocabulary of uni-grams + bi-grams.\n",
    "\n",
    "    # Arguments\n",
    "        train_texts: list, training text strings.\n",
    "        train_labels: np.ndarray, training labels.\n",
    "        val_texts: list, validation text strings.\n",
    "\n",
    "    # Returns\n",
    "        x_train, x_val: vectorized training and validation texts\n",
    "    \"\"\"\n",
    "    # Create keyword arguments to pass to the 'tf-idf' vectorizer.\n",
    "    kwargs = {\n",
    "            'ngram_range': NGRAM_RANGE,  # Use 1-grams + 2-grams.\n",
    "            'dtype': 'int32',\n",
    "            'strip_accents': 'unicode',\n",
    "            'decode_error': 'replace',\n",
    "            'analyzer': TOKEN_MODE,  # Split text into word tokens.\n",
    "            'min_df': MIN_DOCUMENT_FREQUENCY,\n",
    "    }\n",
    "    vectorizer = TfidfVectorizer(**kwargs)\n",
    "\n",
    "    # Learn vocabulary from training texts and vectorize training texts.\n",
    "    x_train = vectorizer.fit_transform(train_texts)\n",
    "\n",
    "    # Vectorize validation texts.\n",
    "    x_val = vectorizer.transform(val_texts)\n",
    "\n",
    "    # Select top 'k' of the vectorized features.\n",
    "    selector = SelectKBest(f_classif, k=369)\n",
    "    selector.fit(x_train, train_labels)\n",
    "    x_train = selector.transform(x_train)\n",
    "    x_val = selector.transform(x_val)\n",
    "\n",
    "    x_train = x_train.astype('float32')\n",
    "    x_val = x_val.astype('float32')\n",
    "    return x_train, x_val\n"
   ]
  },
  {
   "cell_type": "code",
   "execution_count": 132,
   "metadata": {},
   "outputs": [
    {
     "name": "stdout",
     "output_type": "stream",
     "text": [
      "(1, 369)\n"
     ]
    }
   ],
   "source": [
    "test_reason = []\n",
    "reason_desc = \"my shipment did not arrive properly, please send redelivery, there are missing bags\"\n",
    "#\"i called to say, i need credit urgently, i called so many times, need to get financing\"\n",
    "norm_reason_desc = normalize_text(reason_desc)\n",
    "test_reason.append(norm_reason_desc);\n",
    "x_train, x_new = ngram_vectorize_test(norm_train_texts,train_labels,test_reason)\n",
    "print(x_new.shape)"
   ]
  },
  {
   "cell_type": "code",
   "execution_count": 136,
   "metadata": {},
   "outputs": [
    {
     "name": "stdout",
     "output_type": "stream",
     "text": [
      "[[0.55064267 0.14143477 0.1625969  0.06018978 0.08513582]]\n"
     ]
    }
   ],
   "source": [
    "print(model.predict(x_new))\n",
    "test_label=np.argmax(model.predict(x_new))"
   ]
  },
  {
   "cell_type": "code",
   "execution_count": 137,
   "metadata": {},
   "outputs": [
    {
     "name": "stdout",
     "output_type": "stream",
     "text": [
      "Delivery/Shipments\n"
     ]
    }
   ],
   "source": [
    "if test_label==0:\n",
    "    print(\"Delivery/Shipments\")\n",
    "elif test_label==1:\n",
    "    print(\"Systems Support\")\n",
    "elif test_label==2:\n",
    "    print(\"Returns\")\n",
    "elif test_label==3:\n",
    "    print(\"Credit\")\n",
    "elif test_label==4:\n",
    "    print(\"Refusals\")\n"
   ]
  },
  {
   "cell_type": "code",
   "execution_count": null,
   "metadata": {},
   "outputs": [],
   "source": []
  }
 ],
 "metadata": {
  "kernelspec": {
   "display_name": "Python 3",
   "language": "python",
   "name": "python3"
  },
  "language_info": {
   "codemirror_mode": {
    "name": "ipython",
    "version": 3
   },
   "file_extension": ".py",
   "mimetype": "text/x-python",
   "name": "python",
   "nbconvert_exporter": "python",
   "pygments_lexer": "ipython3",
   "version": "3.6.5"
  }
 },
 "nbformat": 4,
 "nbformat_minor": 2
}
